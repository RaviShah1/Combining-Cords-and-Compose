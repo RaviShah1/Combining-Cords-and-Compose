{
  "nbformat": 4,
  "nbformat_minor": 0,
  "metadata": {
    "colab": {
      "name": "Combining Coords and Composer.ipynb",
      "provenance": [],
      "collapsed_sections": [],
      "include_colab_link": true
    },
    "kernelspec": {
      "name": "python3",
      "display_name": "Python 3"
    },
    "language_info": {
      "name": "python"
    },
    "accelerator": "GPU"
  },
  "cells": [
    {
      "cell_type": "markdown",
      "metadata": {
        "id": "view-in-github",
        "colab_type": "text"
      },
      "source": [
        "<a href=\"https://colab.research.google.com/github/RaviShah1/Combining-Cords-and-Composer/blob/main/experiments/resnet18_cifar10/session3/glister_factorize.ipynb\" target=\"_parent\"><img src=\"https://colab.research.google.com/assets/colab-badge.svg\" alt=\"Open In Colab\"/></a>"
      ]
    },
    {
      "cell_type": "code",
      "source": [
        "!git clone https://github.com/decile-team/cords.git\n",
        "%cd cords\n",
        "%ls"
      ],
      "metadata": {
        "id": "pJewp117QDUI",
        "outputId": "1afb351a-3fb6-402f-bc2a-afd56d51b1b3",
        "colab": {
          "base_uri": "https://localhost:8080/"
        }
      },
      "execution_count": 1,
      "outputs": [
        {
          "output_type": "stream",
          "name": "stdout",
          "text": [
            "fatal: destination path 'cords' already exists and is not an empty directory.\n",
            "/content/cords\n",
            "\u001b[0m\u001b[01;34mbenchmarks\u001b[0m/   \u001b[01;34mcords\u001b[0m/  \u001b[01;34mexamples\u001b[0m/    README.md      setup.py      train_sl.py\n",
            "CITATION.CFF  \u001b[01;34mdata\u001b[0m/   LICENSE.txt  \u001b[01;34mrequirements\u001b[0m/  \u001b[01;34mtests\u001b[0m/        train_ssl.py\n",
            "\u001b[01;34mconfigs\u001b[0m/      \u001b[01;34mdocs\u001b[0m/   model.pt     \u001b[01;34mresults\u001b[0m/       train_hpo.py\n"
          ]
        }
      ]
    },
    {
      "cell_type": "code",
      "source": [
        "!pip install dotmap apricot-select ray[default] ray[tune] mosaicml\n"
      ],
      "metadata": {
        "colab": {
          "base_uri": "https://localhost:8080/"
        },
        "id": "37QszJkXYAZz",
        "outputId": "263f9565-baab-498b-b822-b9a57a445790"
      },
      "execution_count": 2,
      "outputs": [
        {
          "output_type": "stream",
          "name": "stdout",
          "text": [
            "Looking in indexes: https://pypi.org/simple, https://us-python.pkg.dev/colab-wheels/public/simple/\n",
            "Requirement already satisfied: dotmap in /usr/local/lib/python3.7/dist-packages (1.3.30)\n",
            "Requirement already satisfied: apricot-select in /usr/local/lib/python3.7/dist-packages (0.6.1)\n",
            "Requirement already satisfied: ray[default] in /usr/local/lib/python3.7/dist-packages (1.13.0)\n",
            "Requirement already satisfied: mosaicml in /usr/local/lib/python3.7/dist-packages (0.8.0)\n",
            "Requirement already satisfied: scipy>=1.0.0 in /usr/local/lib/python3.7/dist-packages (from apricot-select) (1.7.3)\n",
            "Requirement already satisfied: tqdm>=4.24.0 in /usr/local/lib/python3.7/dist-packages (from apricot-select) (4.64.0)\n",
            "Requirement already satisfied: numpy>=1.14.2 in /usr/local/lib/python3.7/dist-packages (from apricot-select) (1.21.6)\n",
            "Requirement already satisfied: nose in /usr/local/lib/python3.7/dist-packages (from apricot-select) (1.3.7)\n",
            "Requirement already satisfied: numba>=0.43.0 in /usr/local/lib/python3.7/dist-packages (from apricot-select) (0.51.2)\n",
            "Requirement already satisfied: llvmlite<0.35,>=0.34.0.dev0 in /usr/local/lib/python3.7/dist-packages (from numba>=0.43.0->apricot-select) (0.34.0)\n",
            "Requirement already satisfied: setuptools in /usr/local/lib/python3.7/dist-packages (from numba>=0.43.0->apricot-select) (57.4.0)\n",
            "Requirement already satisfied: torchvision>=0.10.0 in /usr/local/lib/python3.7/dist-packages (from mosaicml) (0.13.0+cu113)\n",
            "Requirement already satisfied: coolname<2,>=1.1.0 in /usr/local/lib/python3.7/dist-packages (from mosaicml) (1.1.0)\n",
            "Requirement already satisfied: torch<2,>=1.9 in /usr/local/lib/python3.7/dist-packages (from mosaicml) (1.12.0+cu113)\n",
            "Requirement already satisfied: psutil<6,>=5.8.0 in /usr/local/lib/python3.7/dist-packages (from mosaicml) (5.9.1)\n",
            "Requirement already satisfied: py-cpuinfo>=8.0.0 in /usr/local/lib/python3.7/dist-packages (from mosaicml) (8.0.0)\n",
            "Requirement already satisfied: yahp<0.2,>=0.1.1 in /usr/local/lib/python3.7/dist-packages (from mosaicml) (0.1.1)\n",
            "Requirement already satisfied: pyyaml<7,>=6.0 in /usr/local/lib/python3.7/dist-packages (from mosaicml) (6.0)\n",
            "Requirement already satisfied: torchmetrics<0.8,>=0.7.0 in /usr/local/lib/python3.7/dist-packages (from mosaicml) (0.7.3)\n",
            "Requirement already satisfied: torch-optimizer<0.2,>=0.1.0 in /usr/local/lib/python3.7/dist-packages (from mosaicml) (0.1.0)\n",
            "Requirement already satisfied: requests<3,>=2.26.0 in /usr/local/lib/python3.7/dist-packages (from mosaicml) (2.28.1)\n",
            "Requirement already satisfied: certifi>=2017.4.17 in /usr/local/lib/python3.7/dist-packages (from requests<3,>=2.26.0->mosaicml) (2022.6.15)\n",
            "Requirement already satisfied: charset-normalizer<3,>=2 in /usr/local/lib/python3.7/dist-packages (from requests<3,>=2.26.0->mosaicml) (2.1.0)\n",
            "Requirement already satisfied: urllib3<1.27,>=1.21.1 in /usr/local/lib/python3.7/dist-packages (from requests<3,>=2.26.0->mosaicml) (1.24.3)\n",
            "Requirement already satisfied: idna<4,>=2.5 in /usr/local/lib/python3.7/dist-packages (from requests<3,>=2.26.0->mosaicml) (2.10)\n",
            "Requirement already satisfied: typing-extensions in /usr/local/lib/python3.7/dist-packages (from torch<2,>=1.9->mosaicml) (4.1.1)\n",
            "Requirement already satisfied: pytorch-ranger>=0.1.1 in /usr/local/lib/python3.7/dist-packages (from torch-optimizer<0.2,>=0.1.0->mosaicml) (0.1.1)\n",
            "Requirement already satisfied: pyDeprecate==0.3.* in /usr/local/lib/python3.7/dist-packages (from torchmetrics<0.8,>=0.7.0->mosaicml) (0.3.2)\n",
            "Requirement already satisfied: packaging in /usr/local/lib/python3.7/dist-packages (from torchmetrics<0.8,>=0.7.0->mosaicml) (21.3)\n",
            "Requirement already satisfied: pillow!=8.3.*,>=5.3.0 in /usr/local/lib/python3.7/dist-packages (from torchvision>=0.10.0->mosaicml) (7.1.2)\n",
            "Requirement already satisfied: docstring-parser<=0.15,>=0.14.1 in /usr/local/lib/python3.7/dist-packages (from yahp<0.2,>=0.1.1->mosaicml) (0.14.1)\n",
            "Requirement already satisfied: ruamel.yaml>=0.17.10 in /usr/local/lib/python3.7/dist-packages (from yahp<0.2,>=0.1.1->mosaicml) (0.17.21)\n",
            "Requirement already satisfied: ruamel.yaml.clib>=0.2.6 in /usr/local/lib/python3.7/dist-packages (from ruamel.yaml>=0.17.10->yahp<0.2,>=0.1.1->mosaicml) (0.2.6)\n",
            "Requirement already satisfied: pyparsing!=3.0.5,>=2.0.2 in /usr/local/lib/python3.7/dist-packages (from packaging->torchmetrics<0.8,>=0.7.0->mosaicml) (3.0.9)\n",
            "Requirement already satisfied: grpcio<=1.43.0,>=1.28.1 in /usr/local/lib/python3.7/dist-packages (from ray[default]) (1.43.0)\n",
            "Requirement already satisfied: click<=8.0.4,>=7.0 in /usr/local/lib/python3.7/dist-packages (from ray[default]) (7.1.2)\n",
            "Requirement already satisfied: protobuf<4.0.0,>=3.15.3 in /usr/local/lib/python3.7/dist-packages (from ray[default]) (3.17.3)\n",
            "Requirement already satisfied: attrs in /usr/local/lib/python3.7/dist-packages (from ray[default]) (21.4.0)\n",
            "Requirement already satisfied: jsonschema in /usr/local/lib/python3.7/dist-packages (from ray[default]) (4.3.3)\n",
            "Requirement already satisfied: aiosignal in /usr/local/lib/python3.7/dist-packages (from ray[default]) (1.2.0)\n",
            "Requirement already satisfied: virtualenv in /usr/local/lib/python3.7/dist-packages (from ray[default]) (20.15.1)\n",
            "Requirement already satisfied: msgpack<2.0.0,>=1.0.0 in /usr/local/lib/python3.7/dist-packages (from ray[default]) (1.0.4)\n",
            "Requirement already satisfied: frozenlist in /usr/local/lib/python3.7/dist-packages (from ray[default]) (1.3.0)\n",
            "Requirement already satisfied: filelock in /usr/local/lib/python3.7/dist-packages (from ray[default]) (3.7.1)\n",
            "Requirement already satisfied: colorful in /usr/local/lib/python3.7/dist-packages (from ray[default]) (0.5.4)\n",
            "Requirement already satisfied: prometheus-client<0.14.0,>=0.7.1 in /usr/local/lib/python3.7/dist-packages (from ray[default]) (0.13.1)\n",
            "Requirement already satisfied: opencensus in /usr/local/lib/python3.7/dist-packages (from ray[default]) (0.10.0)\n",
            "Requirement already satisfied: py-spy>=0.2.0 in /usr/local/lib/python3.7/dist-packages (from ray[default]) (0.3.12)\n",
            "Requirement already satisfied: smart-open in /usr/local/lib/python3.7/dist-packages (from ray[default]) (5.2.1)\n",
            "Requirement already satisfied: aiohttp-cors in /usr/local/lib/python3.7/dist-packages (from ray[default]) (0.7.0)\n",
            "Requirement already satisfied: gpustat>=1.0.0b1 in /usr/local/lib/python3.7/dist-packages (from ray[default]) (1.0.0rc1)\n",
            "Requirement already satisfied: aiohttp>=3.7 in /usr/local/lib/python3.7/dist-packages (from ray[default]) (3.8.1)\n",
            "Requirement already satisfied: yarl<2.0,>=1.0 in /usr/local/lib/python3.7/dist-packages (from aiohttp>=3.7->ray[default]) (1.7.2)\n",
            "Requirement already satisfied: async-timeout<5.0,>=4.0.0a3 in /usr/local/lib/python3.7/dist-packages (from aiohttp>=3.7->ray[default]) (4.0.2)\n",
            "Requirement already satisfied: multidict<7.0,>=4.5 in /usr/local/lib/python3.7/dist-packages (from aiohttp>=3.7->ray[default]) (6.0.2)\n",
            "Requirement already satisfied: asynctest==0.13.0 in /usr/local/lib/python3.7/dist-packages (from aiohttp>=3.7->ray[default]) (0.13.0)\n",
            "Requirement already satisfied: nvidia-ml-py<=11.495.46,>=11.450.129 in /usr/local/lib/python3.7/dist-packages (from gpustat>=1.0.0b1->ray[default]) (11.495.46)\n",
            "Requirement already satisfied: six>=1.7 in /usr/local/lib/python3.7/dist-packages (from gpustat>=1.0.0b1->ray[default]) (1.15.0)\n",
            "Requirement already satisfied: blessed>=1.17.1 in /usr/local/lib/python3.7/dist-packages (from gpustat>=1.0.0b1->ray[default]) (1.19.1)\n",
            "Requirement already satisfied: wcwidth>=0.1.4 in /usr/local/lib/python3.7/dist-packages (from blessed>=1.17.1->gpustat>=1.0.0b1->ray[default]) (0.2.5)\n",
            "Requirement already satisfied: pyrsistent!=0.17.0,!=0.17.1,!=0.17.2,>=0.14.0 in /usr/local/lib/python3.7/dist-packages (from jsonschema->ray[default]) (0.18.1)\n",
            "Requirement already satisfied: importlib-metadata in /usr/local/lib/python3.7/dist-packages (from jsonschema->ray[default]) (4.12.0)\n",
            "Requirement already satisfied: importlib-resources>=1.4.0 in /usr/local/lib/python3.7/dist-packages (from jsonschema->ray[default]) (5.8.0)\n",
            "Requirement already satisfied: zipp>=3.1.0 in /usr/local/lib/python3.7/dist-packages (from importlib-resources>=1.4.0->jsonschema->ray[default]) (3.8.0)\n",
            "Requirement already satisfied: opencensus-context>=0.1.2 in /usr/local/lib/python3.7/dist-packages (from opencensus->ray[default]) (0.1.2)\n",
            "Requirement already satisfied: google-api-core<3.0.0,>=1.0.0 in /usr/local/lib/python3.7/dist-packages (from opencensus->ray[default]) (1.31.6)\n",
            "Requirement already satisfied: googleapis-common-protos<2.0dev,>=1.6.0 in /usr/local/lib/python3.7/dist-packages (from google-api-core<3.0.0,>=1.0.0->opencensus->ray[default]) (1.56.3)\n",
            "Requirement already satisfied: pytz in /usr/local/lib/python3.7/dist-packages (from google-api-core<3.0.0,>=1.0.0->opencensus->ray[default]) (2022.1)\n",
            "Requirement already satisfied: google-auth<2.0dev,>=1.25.0 in /usr/local/lib/python3.7/dist-packages (from google-api-core<3.0.0,>=1.0.0->opencensus->ray[default]) (1.35.0)\n",
            "Requirement already satisfied: pyasn1-modules>=0.2.1 in /usr/local/lib/python3.7/dist-packages (from google-auth<2.0dev,>=1.25.0->google-api-core<3.0.0,>=1.0.0->opencensus->ray[default]) (0.2.8)\n",
            "Requirement already satisfied: rsa<5,>=3.1.4 in /usr/local/lib/python3.7/dist-packages (from google-auth<2.0dev,>=1.25.0->google-api-core<3.0.0,>=1.0.0->opencensus->ray[default]) (4.8)\n",
            "Requirement already satisfied: cachetools<5.0,>=2.0.0 in /usr/local/lib/python3.7/dist-packages (from google-auth<2.0dev,>=1.25.0->google-api-core<3.0.0,>=1.0.0->opencensus->ray[default]) (4.2.4)\n",
            "Requirement already satisfied: pyasn1<0.5.0,>=0.4.6 in /usr/local/lib/python3.7/dist-packages (from pyasn1-modules>=0.2.1->google-auth<2.0dev,>=1.25.0->google-api-core<3.0.0,>=1.0.0->opencensus->ray[default]) (0.4.8)\n",
            "Requirement already satisfied: tensorboardX>=1.9 in /usr/local/lib/python3.7/dist-packages (from ray[default]) (2.5.1)\n",
            "Requirement already satisfied: pandas in /usr/local/lib/python3.7/dist-packages (from ray[default]) (1.3.5)\n",
            "Requirement already satisfied: tabulate in /usr/local/lib/python3.7/dist-packages (from ray[default]) (0.8.10)\n",
            "Requirement already satisfied: python-dateutil>=2.7.3 in /usr/local/lib/python3.7/dist-packages (from pandas->ray[default]) (2.8.2)\n",
            "Requirement already satisfied: platformdirs<3,>=2 in /usr/local/lib/python3.7/dist-packages (from virtualenv->ray[default]) (2.5.2)\n",
            "Requirement already satisfied: distlib<1,>=0.3.1 in /usr/local/lib/python3.7/dist-packages (from virtualenv->ray[default]) (0.3.5)\n"
          ]
        }
      ]
    },
    {
      "cell_type": "code",
      "source": [
        "\"\"\"\n",
        "You can select any options from the all options list.\n",
        "\n",
        "Put the options you want in the options list and throughout the notebook, see \n",
        "how the composer functions you selected are applied.\n",
        "\n",
        "Some options will decrease overall training time, a few options will decrease\n",
        "per epoch training time, and a few options may not improve or harm training time.\n",
        "\"\"\"\n",
        "\n",
        "all_options = [\"augmix\", \"blurpool\", \"channels_last\", \"colout\", \"cutout\", \"ema\",\n",
        "               \"factorize\", \"fused_layernorm\", \"label_smooth\", \"layer_freeze\", \n",
        "               \"mixup\", \"rand_aug\", \"squeeze_excite\"]\n",
        "options = [\"factorize\"]"
      ],
      "metadata": {
        "id": "Uv9hg-pW3b9s"
      },
      "execution_count": 3,
      "outputs": []
    },
    {
      "cell_type": "code",
      "source": [
        "import time\n",
        "import numpy as np\n",
        "import os\n",
        "import copy\n",
        "import torch\n",
        "import torch.nn as nn\n",
        "import torch.optim as optim\n",
        "from torchvision.models import resnet18\n",
        "from cords.utils.data.datasets.SL import gen_dataset\n",
        "from torch.utils.data import Subset\n",
        "from cords.utils.config_utils import load_config_data\n",
        "import os.path as osp\n",
        "from cords.utils.data.data_utils import WeightedSubset\n",
        "from composer import functional as cf\n",
        "from composer.algorithms.augmix import AugmentAndMixTransform\n",
        "from composer.algorithms.colout import ColOutTransform\n",
        "from composer.algorithms.randaugment import RandAugmentTransform\n",
        "from ray import tune\n",
        "import torchvision\n",
        "from torchvision import transforms\n",
        "from torch.utils.data import random_split"
      ],
      "metadata": {
        "id": "IFtimJsDYBSm"
      },
      "execution_count": 4,
      "outputs": []
    },
    {
      "cell_type": "code",
      "source": [
        "#trainset, validset, testset, num_cls = gen_dataset('data/', 'cifar10', None, isnumpy=False)\n",
        "def get_data():\n",
        "    torch.cuda.manual_seed(42)\n",
        "    torch.manual_seed(42)\n",
        "\n",
        "    train_transforms = [\n",
        "                        transforms.RandomCrop(32, padding=4),\n",
        "                        transforms.RandomHorizontalFlip(),\n",
        "                        transforms.ToTensor(),\n",
        "                        transforms.Normalize((0.4914, 0.4822, 0.4465), (0.2023, 0.1994, 0.2010)),\n",
        "                       ]\n",
        "    if \"augmix\" in options:\n",
        "        train_transforms.append(AugmentAndMixTransform(severity=3,\n",
        "                                                       width=3,\n",
        "                                                       depth=-1,\n",
        "                                                       alpha=1.0,\n",
        "                                                       augmentation_set=\"all\"))\n",
        "    if \"colout\" in options:\n",
        "        train_transforms.append(ColOutTransform(p_row=0.15, p_col=0.15))\n",
        "    if \"rand_aug\" in options:\n",
        "        train_transforms.append(RandAugmentTransform(severity=4,\n",
        "                                                     depth=2,\n",
        "                                                     augmentation_set=\"all\"))\n",
        "\n",
        "    cifar_transform = transforms.Compose(train_transforms)\n",
        "\n",
        "    cifar_tst_transform = transforms.Compose([\n",
        "                            transforms.ToTensor(),\n",
        "                            transforms.Normalize((0.4914, 0.4822, 0.4465), (0.2023, 0.1994, 0.2010)),\n",
        "                        ])\n",
        "\n",
        "    num_cls = 10\n",
        "\n",
        "    fullset = torchvision.datasets.CIFAR10(root='data/', train=True, download=True, transform=cifar_transform)\n",
        "    testset = torchvision.datasets.CIFAR10(root='data/', train=False, download=True, transform=cifar_tst_transform)\n",
        "\n",
        "    validation_set_fraction = 0.1\n",
        "    num_fulltrn = len(fullset)\n",
        "    num_val = int(num_fulltrn * validation_set_fraction)\n",
        "    num_trn = num_fulltrn - num_val\n",
        "    trainset, valset = random_split(fullset, [num_trn, num_val])\n",
        "\n",
        "    return trainset, valset, testset, num_cls\n",
        "\n",
        "trainset, validset, testset, num_cls = get_data()"
      ],
      "metadata": {
        "colab": {
          "base_uri": "https://localhost:8080/"
        },
        "id": "fCOZOz0CYDmA",
        "outputId": "e724b4fc-3edd-4f4f-ba83-11a68440a337"
      },
      "execution_count": 5,
      "outputs": [
        {
          "output_type": "stream",
          "name": "stdout",
          "text": [
            "Files already downloaded and verified\n",
            "Files already downloaded and verified\n"
          ]
        }
      ]
    },
    {
      "cell_type": "code",
      "source": [
        "trn_batch_size = 20\n",
        "val_batch_size = 20\n",
        "tst_batch_size = 1000\n",
        "\n",
        "# Creating the Data Loaders\n",
        "trainloader = torch.utils.data.DataLoader(trainset, batch_size=trn_batch_size,\n",
        "                                          shuffle=False, pin_memory=True)\n",
        "\n",
        "valloader = torch.utils.data.DataLoader(validset, batch_size=val_batch_size,\n",
        "                                        shuffle=False, pin_memory=True)\n",
        "\n",
        "testloader = torch.utils.data.DataLoader(testset, batch_size=tst_batch_size,\n",
        "                                          shuffle=False, pin_memory=True)"
      ],
      "metadata": {
        "id": "JJji-yh0YIEY"
      },
      "execution_count": 6,
      "outputs": []
    },
    {
      "cell_type": "code",
      "source": [
        "from cords.utils.models import ResNet18\n",
        "numclasses = 10\n",
        "device = 'cuda' #Device Argument\n",
        "model = ResNet18(10)\n",
        "\n",
        "if \"blurpool\" in options:\n",
        "    model = cf.apply_blurpool(model)\n",
        "if \"channels_last\" in options:\n",
        "    cf.apply_channels_last(model)\n",
        "if \"ema\" in options:\n",
        "    ema_model = copy.deepcopy(model)\n",
        "    ema_model.to(device)\n",
        "if \"factorize\" in options:\n",
        "    cf.apply_factorization(model)\n",
        "if \"fused_layernorm\" in options:\n",
        "    cf.apply_fused_layernorm(model)\n",
        "if \"squeeze_excite\" in options:\n",
        "    model = cf.apply_squeeze_excite(model)\n",
        "\n",
        "\n",
        "model = model.to(device)"
      ],
      "metadata": {
        "id": "6Qj5KIyEYJ8M"
      },
      "execution_count": 7,
      "outputs": []
    },
    {
      "cell_type": "code",
      "source": [
        "criterion = nn.CrossEntropyLoss()\n",
        "criterion_nored = nn.CrossEntropyLoss(reduction='none')"
      ],
      "metadata": {
        "id": "8Tvpow1wYLWZ"
      },
      "execution_count": 8,
      "outputs": []
    },
    {
      "cell_type": "code",
      "source": [
        "def save_ckpt(state, ckpt_path):\n",
        "    torch.save(state, ckpt_path)\n",
        "\n",
        "\n",
        "def load_ckpt(ckpt_path, model, optimizer):\n",
        "    checkpoint = torch.load(ckpt_path)\n",
        "    start_epoch = checkpoint['epoch']\n",
        "    model.load_state_dict(checkpoint['state_dict'])\n",
        "    optimizer.load_state_dict(checkpoint['optimizer'])\n",
        "    loss = checkpoint['loss']\n",
        "    metrics = checkpoint['metrics']\n",
        "    return start_epoch, model, optimizer, loss, metrics"
      ],
      "metadata": {
        "id": "uJhZ8d3vYNBh"
      },
      "execution_count": 9,
      "outputs": []
    },
    {
      "cell_type": "code",
      "source": [
        "def generate_cumulative_timing(mod_timing):\n",
        "    tmp = 0\n",
        "    mod_cum_timing = np.zeros(len(mod_timing))\n",
        "    for i in range(len(mod_timing)):\n",
        "        tmp += mod_timing[i]\n",
        "        mod_cum_timing[i] = tmp\n",
        "    return mod_cum_timing / 3600"
      ],
      "metadata": {
        "id": "0hx_sinTYOdX"
      },
      "execution_count": 10,
      "outputs": []
    },
    {
      "cell_type": "code",
      "source": [
        "optimizer = optim.SGD(model.parameters(), lr=1e-2,\n",
        "                                  momentum=0.9,\n",
        "                                  weight_decay=5e-4,\n",
        "                                  nesterov=False)\n",
        "\n",
        "#T_max is the maximum number of scheduler steps. Here we are using the number of epochs as the maximum number of scheduler steps.\n",
        "\n",
        "scheduler = torch.optim.lr_scheduler.CosineAnnealingLR(optimizer,\n",
        "                                                       T_max=30)"
      ],
      "metadata": {
        "id": "kLHSf3WEYP3_"
      },
      "execution_count": 11,
      "outputs": []
    },
    {
      "cell_type": "code",
      "source": [
        "def __get_logger(results_dir):\n",
        "  os.makedirs(results_dir, exist_ok=True)\n",
        "  # setup logger\n",
        "  plain_formatter = logging.Formatter(\"[%(asctime)s] %(name)s %(levelname)s: %(message)s\",\n",
        "                                      datefmt=\"%m/%d %H:%M:%S\")\n",
        "  logger = logging.getLogger(__name__)\n",
        "  logger.setLevel(logging.INFO)\n",
        "  s_handler = logging.StreamHandler(stream=sys.stdout)\n",
        "  s_handler.setFormatter(plain_formatter)\n",
        "  s_handler.setLevel(logging.INFO)\n",
        "  logger.addHandler(s_handler)\n",
        "  f_handler = logging.FileHandler(os.path.join(results_dir, \"results.log\"))\n",
        "  f_handler.setFormatter(plain_formatter)\n",
        "  f_handler.setLevel(logging.DEBUG)\n",
        "  logger.addHandler(f_handler)\n",
        "  logger.propagate = False\n",
        "  return logger"
      ],
      "metadata": {
        "id": "wAopp5oFYRJJ"
      },
      "execution_count": 12,
      "outputs": []
    },
    {
      "cell_type": "code",
      "source": [
        "import logging\n",
        "import os\n",
        "import os.path as osp\n",
        "import sys\n",
        "\n",
        "#Results logging directory\n",
        "results_dir = osp.abspath(osp.expanduser('results'))\n",
        "logger = __get_logger(results_dir)"
      ],
      "metadata": {
        "id": "6AQkQW5XYSqA"
      },
      "execution_count": 13,
      "outputs": []
    },
    {
      "cell_type": "code",
      "source": [
        "logger.info(\"hello\")"
      ],
      "metadata": {
        "colab": {
          "base_uri": "https://localhost:8080/"
        },
        "id": "IAh0aXRKYWzi",
        "outputId": "1eb7af86-f18d-4b88-8c3f-fa49cd45605a"
      },
      "execution_count": 14,
      "outputs": [
        {
          "output_type": "stream",
          "name": "stdout",
          "text": [
            "[07/20 20:42:52] __main__ INFO: hello\n"
          ]
        }
      ]
    },
    {
      "cell_type": "code",
      "source": [
        "from cords.utils.data.dataloader.SL.adaptive import GLISTERDataLoader, OLRandomDataLoader, \\\n",
        "    CRAIGDataLoader, GradMatchDataLoader, RandomDataLoader\n",
        "from dotmap import DotMap\n",
        "\n",
        "selection_strategy = 'GLISTER'\n",
        "dss_args = dict(model=model,\n",
        "                loss=criterion_nored,\n",
        "                eta=0.01,\n",
        "                num_classes=10,\n",
        "                num_epochs=50,\n",
        "                device='cuda',\n",
        "                fraction=0.1,\n",
        "                select_every=10,\n",
        "                kappa=0,\n",
        "                linear_layer=False,\n",
        "                selection_type='SL',\n",
        "                greedy='Stochastic')\n",
        "dss_args = DotMap(dss_args)\n",
        "\n",
        "dataloader = GLISTERDataLoader(trainloader, valloader, dss_args, logger, \n",
        "                                  batch_size=20, \n",
        "                                  shuffle=True,\n",
        "                                  pin_memory=False)"
      ],
      "metadata": {
        "colab": {
          "base_uri": "https://localhost:8080/"
        },
        "id": "P72TwdhcYYL8",
        "outputId": "98e69af6-b8eb-4c08-c9d6-7b7a07a2e2f6"
      },
      "execution_count": 15,
      "outputs": [
        {
          "output_type": "stream",
          "name": "stderr",
          "text": [
            "/usr/local/lib/python3.7/dist-packages/numba/np/ufunc/parallel.py:363: NumbaWarning: \u001b[1mThe TBB threading layer requires TBB version 2019.5 or later i.e., TBB_INTERFACE_VERSION >= 11005. Found TBB_INTERFACE_VERSION = 9107. The TBB threading layer is disabled.\u001b[0m\n",
            "  warnings.warn(problem)\n"
          ]
        }
      ]
    },
    {
      "cell_type": "code",
      "source": [
        "#Training Arguments\n",
        "num_epochs = 50\n",
        "\n",
        "#Arguments for results logging\n",
        "print_every = 1\n",
        "print_args = [\"val_loss\", \"val_acc\", \"tst_loss\", \"tst_acc\", \"time\"]\n",
        "\n",
        "#Argumets for checkpointing\n",
        "save_every = 20\n",
        "is_save = True\n",
        "\n",
        "#Evaluation Metrics\n",
        "trn_losses = list()\n",
        "val_losses = list()\n",
        "tst_losses = list()\n",
        "subtrn_losses = list()\n",
        "timing = list()\n",
        "trn_acc = list()\n",
        "val_acc = list()  \n",
        "tst_acc = list()  \n",
        "subtrn_acc = list()"
      ],
      "metadata": {
        "id": "hN182L3MYa8a"
      },
      "execution_count": 16,
      "outputs": []
    },
    {
      "cell_type": "code",
      "source": [
        "\"\"\"\n",
        "################################################# Training Loop #################################################\n",
        "\"\"\"\n",
        "for epoch in range(num_epochs):\n",
        "    subtrn_loss = 0\n",
        "    subtrn_correct = 0\n",
        "    subtrn_total = 0\n",
        "    model.train()\n",
        "    start_time = time.time()\n",
        "    for _, (inputs, targets, weights) in enumerate(dataloader):\n",
        "        inputs = inputs.to(device)\n",
        "        targets = targets.to(device, non_blocking=True)\n",
        "        weights = weights.to(device)  \n",
        "        optimizer.zero_grad()\n",
        "        if \"mixup\" in options:\n",
        "            inputs, y_perm, mixing = cf.mixup_batch(inputs, targets, alpha=0.2)\n",
        "        if \"cutout\" in options:\n",
        "             inputs = cf.cutout_batch(inputs, num_holes=1, length=0.5)\n",
        "        outputs = model(inputs)\n",
        "        if \"label_smooth\" in options:\n",
        "            targets = cf.smooth_labels(outputs, targets, smoothing=0.1)\n",
        "        losses = criterion_nored(outputs, targets)\n",
        "        loss = torch.dot(losses, weights/(weights.sum()))\n",
        "        loss.backward()\n",
        "        subtrn_loss += loss.item()\n",
        "        optimizer.step()\n",
        "        _, predicted = outputs.max(1)\n",
        "        subtrn_total += targets.size(0)\n",
        "        subtrn_correct += predicted.eq(targets).sum().item()\n",
        "\n",
        "        if \"ema\" in options:\n",
        "            cf.compute_ema(model, ema_model, smoothing=0.99)\n",
        "        if \"layer_freeze\" in options:\n",
        "            freeze_depth, feeze_level = cf.freeze_layers(\n",
        "                                        model=model,\n",
        "                                        optimizers=optimizer,\n",
        "                                        current_duration=epoch/num_epochs,\n",
        "                                        freeze_start=0.0,\n",
        "                                        freeze_level=1.0\n",
        "                                    )\n",
        "\n",
        "    epoch_time = time.time() - start_time\n",
        "    scheduler.step()\n",
        "    timing.append(epoch_time)\n",
        "\n",
        "\n",
        "    \"\"\"\n",
        "    ################################################# Evaluation Loop #################################################\n",
        "    \"\"\"\n",
        "\n",
        "    if (epoch + 1) % print_every == 0:\n",
        "        trn_loss = 0\n",
        "        trn_correct = 0\n",
        "        trn_total = 0\n",
        "        val_loss = 0\n",
        "        val_correct = 0\n",
        "        val_total = 0\n",
        "        tst_correct = 0\n",
        "        tst_total = 0\n",
        "        tst_loss = 0\n",
        "        model.eval()\n",
        "\n",
        "        if (\"trn_loss\" in print_args) or (\"trn_acc\" in print_args):\n",
        "            with torch.no_grad():\n",
        "                for _, (inputs, targets) in enumerate(trainloader):\n",
        "                    inputs, targets = inputs.to(device), \\\n",
        "                                      targets.to(device, non_blocking=True)\n",
        "                    outputs = model(inputs)\n",
        "                    loss = criterion(outputs, targets)\n",
        "                    trn_loss += loss.item()\n",
        "                    if \"trn_acc\" in print_args:\n",
        "                        _, predicted = outputs.max(1)\n",
        "                        trn_total += targets.size(0)\n",
        "                        trn_correct += predicted.eq(targets).sum().item()\n",
        "                trn_losses.append(trn_loss)\n",
        "\n",
        "            if \"trn_acc\" in print_args:\n",
        "                trn_acc.append(trn_correct / trn_total)\n",
        "\n",
        "        if (\"val_loss\" in print_args) or (\"val_acc\" in print_args):\n",
        "            with torch.no_grad():\n",
        "                for _, (inputs, targets) in enumerate(valloader):\n",
        "                    inputs, targets = inputs.to(device), \\\n",
        "                                      targets.to(device, non_blocking=True)\n",
        "                    outputs = model(inputs)\n",
        "                    loss = criterion(outputs, targets)\n",
        "                    val_loss += loss.item()\n",
        "                    if \"val_acc\" in print_args:\n",
        "                        _, predicted = outputs.max(1)\n",
        "                        val_total += targets.size(0)\n",
        "                        val_correct += predicted.eq(targets).sum().item()\n",
        "                val_losses.append(val_loss)\n",
        "\n",
        "            if \"val_acc\" in print_args:\n",
        "                val_acc.append(val_correct / val_total)\n",
        "\n",
        "        if (\"tst_loss\" in print_args) or (\"tst_acc\" in print_args):\n",
        "            with torch.no_grad():\n",
        "                for _, (inputs, targets) in enumerate(testloader):\n",
        "                    inputs, targets = inputs.to(device), \\\n",
        "                                      targets.to(device, non_blocking=True)\n",
        "                    outputs = model(inputs)\n",
        "                    loss = criterion(outputs, targets)\n",
        "                    tst_loss += loss.item()\n",
        "                    if \"tst_acc\" in print_args:\n",
        "                        _, predicted = outputs.max(1)\n",
        "                        tst_total += targets.size(0)\n",
        "                        tst_correct += predicted.eq(targets).sum().item()\n",
        "                tst_losses.append(tst_loss)\n",
        "\n",
        "            if \"tst_acc\" in print_args:\n",
        "                tst_acc.append(tst_correct / tst_total)\n",
        "\n",
        "        if \"subtrn_acc\" in print_args:\n",
        "            subtrn_acc.append(subtrn_correct / subtrn_total)\n",
        "\n",
        "        if \"subtrn_losses\" in print_args:\n",
        "            subtrn_losses.append(subtrn_loss)\n",
        "\n",
        "        print_str = \"Epoch: \" + str(epoch + 1)\n",
        "\n",
        "        \"\"\"\n",
        "        ################################################# Results Printing #################################################\n",
        "        \"\"\"\n",
        "\n",
        "        for arg in print_args:\n",
        "\n",
        "            if arg == \"val_loss\":\n",
        "                print_str += \" , \" + \"Validation Loss: \" + str(val_losses[-1])\n",
        "\n",
        "            if arg == \"val_acc\":\n",
        "                print_str += \" , \" + \"Validation Accuracy: \" + str(val_acc[-1])\n",
        "\n",
        "            if arg == \"tst_loss\":\n",
        "                print_str += \" , \" + \"Test Loss: \" + str(tst_losses[-1])\n",
        "\n",
        "            if arg == \"tst_acc\":\n",
        "                print_str += \" , \" + \"Test Accuracy: \" + str(tst_acc[-1])\n",
        "\n",
        "            if arg == \"trn_loss\":\n",
        "                print_str += \" , \" + \"Training Loss: \" + str(trn_losses[-1])\n",
        "\n",
        "            if arg == \"trn_acc\":\n",
        "                print_str += \" , \" + \"Training Accuracy: \" + str(trn_acc[-1])\n",
        "\n",
        "            if arg == \"subtrn_loss\":\n",
        "                print_str += \" , \" + \"Subset Loss: \" + str(subtrn_losses[-1])\n",
        "\n",
        "            if arg == \"subtrn_acc\":\n",
        "                print_str += \" , \" + \"Subset Accuracy: \" + str(subtrn_acc[-1])\n",
        "\n",
        "            if arg == \"time\":\n",
        "                print_str += \" , \" + \"Timing: \" + str(timing[-1])\n",
        "\n",
        "        logger.info(print_str)\n",
        "\n",
        "    \"\"\"\n",
        "    ################################################# Checkpoint Saving #################################################\n",
        "    \"\"\"\n",
        "\n",
        "    if ((epoch + 1) % save_every == 0) and is_save:\n",
        "\n",
        "        metric_dict = {}\n",
        "\n",
        "        for arg in print_args:\n",
        "            if arg == \"val_loss\":\n",
        "                metric_dict['val_loss'] = val_losses\n",
        "            if arg == \"val_acc\":\n",
        "                metric_dict['val_acc'] = val_acc\n",
        "            if arg == \"tst_loss\":\n",
        "                metric_dict['tst_loss'] = tst_losses\n",
        "            if arg == \"tst_acc\":\n",
        "                metric_dict['tst_acc'] = tst_acc\n",
        "            if arg == \"trn_loss\":\n",
        "                metric_dict['trn_loss'] = trn_losses\n",
        "            if arg == \"trn_acc\":\n",
        "                metric_dict['trn_acc'] = trn_acc\n",
        "            if arg == \"subtrn_loss\":\n",
        "                metric_dict['subtrn_loss'] = subtrn_losses\n",
        "            if arg == \"subtrn_acc\":\n",
        "                metric_dict['subtrn_acc'] = subtrn_acc\n",
        "            if arg == \"time\":\n",
        "                metric_dict['time'] = timing\n",
        "\n",
        "        ckpt_state = {\n",
        "            'epoch': epoch + 1,\n",
        "            'state_dict': model.state_dict(),\n",
        "            'optimizer': optimizer.state_dict(),\n",
        "            'loss': criterion_nored,\n",
        "            'metrics': metric_dict\n",
        "        }\n",
        "\n",
        "        # save checkpoint\n",
        "        save_ckpt(ckpt_state, 'model.pt')\n",
        "        logger.info(\"Model checkpoint saved at epoch: {0:d}\".format(epoch + 1))\n",
        "\n",
        "\n",
        "\"\"\"\n",
        "################################################# Results Summary #################################################\n",
        "\"\"\"\n",
        "\n",
        "logger.info(\"{0:s} Selection Run---------------------------------\".format(selection_strategy))\n",
        "logger.info(\"Final SubsetTrn: {0:f}\".format(subtrn_loss))\n",
        "if \"val_loss\" in print_args:\n",
        "    if \"val_acc\" in print_args:\n",
        "        logger.info(\"Validation Loss: %.2f , Validation Accuracy: %.2f\", val_loss, val_acc[-1])\n",
        "    else:\n",
        "        logger.info(\"Validation Loss: %.2f\", val_loss)\n",
        "\n",
        "if \"tst_loss\" in print_args:\n",
        "    if \"tst_acc\" in print_args:\n",
        "        logger.info(\"Test Loss: %.2f, Test Accuracy: %.2f\", tst_loss, tst_acc[-1])\n",
        "    else:\n",
        "        logger.info(\"Test Data Loss: %f\", tst_loss)\n",
        "logger.info('---------------------------------------------------------------------')\n",
        "logger.info(selection_strategy)\n",
        "logger.info('---------------------------------------------------------------------')\n",
        "\n",
        "\"\"\"\n",
        "################################################# Final Results Logging #################################################\n",
        "\"\"\"\n",
        "\n",
        "if \"val_acc\" in print_args:\n",
        "    val_str = \"Validation Accuracy, \"\n",
        "    for val in val_acc:\n",
        "        val_str = val_str + \" , \" + str(val)\n",
        "    logger.info(val_str)\n",
        "\n",
        "if \"tst_acc\" in print_args:\n",
        "    tst_str = \"Test Accuracy, \"\n",
        "    for tst in tst_acc:\n",
        "        tst_str = tst_str + \" , \" + str(tst)\n",
        "    logger.info(tst_str)\n",
        "\n",
        "if \"time\" in print_args:\n",
        "    time_str = \"Time, \"\n",
        "    for t in timing:\n",
        "        time_str = time_str + \" , \" + str(t)\n",
        "    logger.info(timing)\n",
        "\n",
        "timing_array = np.array(timing)\n",
        "cum_timing = list(generate_cumulative_timing(timing_array))\n",
        "logger.info(\"Total time taken by %s = %.4f \", selection_strategy, cum_timing[-1])"
      ],
      "metadata": {
        "colab": {
          "base_uri": "https://localhost:8080/"
        },
        "id": "243ksusPYc59",
        "outputId": "4390bf50-f5cd-451c-8e46-64401b13e696"
      },
      "execution_count": 17,
      "outputs": [
        {
          "output_type": "stream",
          "name": "stdout",
          "text": [
            "[07/20 20:43:10] __main__ INFO: Epoch: 1 , Validation Loss: 508.5800281763077 , Validation Accuracy: 0.261 , Test Loss: 20.936851501464844 , Test Accuracy: 0.2618 , Timing: 6.532914400100708\n",
            "[07/20 20:43:21] __main__ INFO: Epoch: 2 , Validation Loss: 458.16380167007446 , Validation Accuracy: 0.3144 , Test Loss: 18.508126854896545 , Test Accuracy: 0.3191 , Timing: 5.350470304489136\n",
            "[07/20 20:43:33] __main__ INFO: Epoch: 3 , Validation Loss: 450.10538697242737 , Validation Accuracy: 0.3552 , Test Loss: 17.96834146976471 , Test Accuracy: 0.3797 , Timing: 5.343393564224243\n",
            "[07/20 20:43:45] __main__ INFO: Epoch: 4 , Validation Loss: 410.0163903236389 , Validation Accuracy: 0.3958 , Test Loss: 16.307348132133484 , Test Accuracy: 0.4058 , Timing: 5.342664003372192\n",
            "[07/20 20:43:56] __main__ INFO: Epoch: 5 , Validation Loss: 378.42240875959396 , Validation Accuracy: 0.4304 , Test Loss: 14.621943473815918 , Test Accuracy: 0.4409 , Timing: 5.322189807891846\n",
            "[07/20 20:44:08] __main__ INFO: Epoch: 6 , Validation Loss: 363.44104385375977 , Validation Accuracy: 0.4576 , Test Loss: 14.553339004516602 , Test Accuracy: 0.4641 , Timing: 5.36940598487854\n",
            "[07/20 20:44:20] __main__ INFO: Epoch: 7 , Validation Loss: 356.49575144052505 , Validation Accuracy: 0.478 , Test Loss: 14.014135837554932 , Test Accuracy: 0.4878 , Timing: 5.8627448081970215\n",
            "[07/20 20:44:31] __main__ INFO: Epoch: 8 , Validation Loss: 367.21046936511993 , Validation Accuracy: 0.4752 , Test Loss: 15.514564990997314 , Test Accuracy: 0.4578 , Timing: 5.31589412689209\n",
            "[07/20 20:44:43] __main__ INFO: Epoch: 9 , Validation Loss: 346.53109472990036 , Validation Accuracy: 0.5144 , Test Loss: 13.840265989303589 , Test Accuracy: 0.5059 , Timing: 5.345975160598755\n",
            "[07/20 20:44:55] __main__ INFO: Epoch: 10 , Validation Loss: 298.74339520931244 , Validation Accuracy: 0.5744 , Test Loss: 11.613171577453613 , Test Accuracy: 0.5913 , Timing: 5.3638551235198975\n",
            "[07/20 20:45:31] __main__ INFO: Epoch: 11, GLISTER dataloader subset selection finished, takes 36.0308. \n",
            "[07/20 20:45:43] __main__ INFO: Epoch: 11 , Validation Loss: 334.299271941185 , Validation Accuracy: 0.5202 , Test Loss: 12.737157344818115 , Test Accuracy: 0.5268 , Timing: 41.44686245918274\n",
            "[07/20 20:45:54] __main__ INFO: Epoch: 12 , Validation Loss: 330.4653699994087 , Validation Accuracy: 0.4786 , Test Loss: 12.599570274353027 , Test Accuracy: 0.5057 , Timing: 5.358489751815796\n",
            "[07/20 20:46:06] __main__ INFO: Epoch: 13 , Validation Loss: 320.0025512576103 , Validation Accuracy: 0.526 , Test Loss: 12.44040858745575 , Test Accuracy: 0.5321 , Timing: 5.383280992507935\n",
            "[07/20 20:46:17] __main__ INFO: Epoch: 14 , Validation Loss: 289.8991716504097 , Validation Accuracy: 0.5684 , Test Loss: 11.232216954231262 , Test Accuracy: 0.5882 , Timing: 5.350430965423584\n",
            "[07/20 20:46:29] __main__ INFO: Epoch: 15 , Validation Loss: 300.77577966451645 , Validation Accuracy: 0.557 , Test Loss: 11.98109221458435 , Test Accuracy: 0.5554 , Timing: 5.390534162521362\n",
            "[07/20 20:46:41] __main__ INFO: Epoch: 16 , Validation Loss: 292.1840119957924 , Validation Accuracy: 0.5682 , Test Loss: 11.78869879245758 , Test Accuracy: 0.5628 , Timing: 5.372711420059204\n",
            "[07/20 20:46:53] __main__ INFO: Epoch: 17 , Validation Loss: 292.91458344459534 , Validation Accuracy: 0.5698 , Test Loss: 11.42605471611023 , Test Accuracy: 0.5826 , Timing: 5.563985824584961\n",
            "[07/20 20:47:05] __main__ INFO: Epoch: 18 , Validation Loss: 250.44468182325363 , Validation Accuracy: 0.626 , Test Loss: 9.877322793006897 , Test Accuracy: 0.6379 , Timing: 5.418991565704346\n",
            "[07/20 20:47:17] __main__ INFO: Epoch: 19 , Validation Loss: 251.58237195014954 , Validation Accuracy: 0.63 , Test Loss: 9.951875984668732 , Test Accuracy: 0.6314 , Timing: 5.4562623500823975\n",
            "[07/20 20:47:28] __main__ INFO: Epoch: 20 , Validation Loss: 236.41426289081573 , Validation Accuracy: 0.645 , Test Loss: 9.625540137290955 , Test Accuracy: 0.6499 , Timing: 5.410360336303711\n",
            "[07/20 20:47:28] __main__ INFO: Model checkpoint saved at epoch: 20\n",
            "[07/20 20:48:05] __main__ INFO: Epoch: 21, GLISTER dataloader subset selection finished, takes 36.2851. \n",
            "[07/20 20:48:16] __main__ INFO: Epoch: 21 , Validation Loss: 239.71582806110382 , Validation Accuracy: 0.6502 , Test Loss: 9.311180770397186 , Test Accuracy: 0.6647 , Timing: 41.65834856033325\n",
            "[07/20 20:48:28] __main__ INFO: Epoch: 22 , Validation Loss: 228.08962619304657 , Validation Accuracy: 0.6634 , Test Loss: 8.762085318565369 , Test Accuracy: 0.6704 , Timing: 5.380939960479736\n",
            "[07/20 20:48:40] __main__ INFO: Epoch: 23 , Validation Loss: 218.57691976428032 , Validation Accuracy: 0.6858 , Test Loss: 8.359514653682709 , Test Accuracy: 0.7104 , Timing: 5.345635652542114\n",
            "[07/20 20:48:51] __main__ INFO: Epoch: 24 , Validation Loss: 196.57501584291458 , Validation Accuracy: 0.7274 , Test Loss: 7.643917620182037 , Test Accuracy: 0.729 , Timing: 5.396271705627441\n",
            "[07/20 20:49:03] __main__ INFO: Epoch: 25 , Validation Loss: 206.11569353938103 , Validation Accuracy: 0.7068 , Test Loss: 7.892706394195557 , Test Accuracy: 0.7211 , Timing: 5.3804402351379395\n",
            "[07/20 20:49:14] __main__ INFO: Epoch: 26 , Validation Loss: 198.1303495168686 , Validation Accuracy: 0.7152 , Test Loss: 7.647424638271332 , Test Accuracy: 0.729 , Timing: 5.3541951179504395\n",
            "[07/20 20:49:26] __main__ INFO: Epoch: 27 , Validation Loss: 195.8427790403366 , Validation Accuracy: 0.7222 , Test Loss: 7.499887526035309 , Test Accuracy: 0.7339 , Timing: 5.408782005310059\n",
            "[07/20 20:49:38] __main__ INFO: Epoch: 28 , Validation Loss: 192.07097497582436 , Validation Accuracy: 0.7226 , Test Loss: 7.3525665402412415 , Test Accuracy: 0.7356 , Timing: 5.383044242858887\n",
            "[07/20 20:49:49] __main__ INFO: Epoch: 29 , Validation Loss: 188.2209615111351 , Validation Accuracy: 0.7306 , Test Loss: 7.249283075332642 , Test Accuracy: 0.7423 , Timing: 5.37814736366272\n",
            "[07/20 20:50:01] __main__ INFO: Epoch: 30 , Validation Loss: 190.6144271939993 , Validation Accuracy: 0.731 , Test Loss: 7.286406993865967 , Test Accuracy: 0.7442 , Timing: 5.355252265930176\n",
            "[07/20 20:50:37] __main__ INFO: Epoch: 31, GLISTER dataloader subset selection finished, takes 36.3450. \n",
            "[07/20 20:50:49] __main__ INFO: Epoch: 31 , Validation Loss: 189.9271293580532 , Validation Accuracy: 0.7298 , Test Loss: 7.275393426418304 , Test Accuracy: 0.744 , Timing: 41.74177861213684\n",
            "[07/20 20:51:01] __main__ INFO: Epoch: 32 , Validation Loss: 181.09988713264465 , Validation Accuracy: 0.7456 , Test Loss: 6.923540472984314 , Test Accuracy: 0.7494 , Timing: 5.41690468788147\n",
            "[07/20 20:51:12] __main__ INFO: Epoch: 33 , Validation Loss: 176.74244210124016 , Validation Accuracy: 0.7554 , Test Loss: 6.804290056228638 , Test Accuracy: 0.7584 , Timing: 5.409822463989258\n",
            "[07/20 20:51:24] __main__ INFO: Epoch: 34 , Validation Loss: 185.45331275463104 , Validation Accuracy: 0.7316 , Test Loss: 7.189621984958649 , Test Accuracy: 0.7399 , Timing: 5.473956346511841\n",
            "[07/20 20:51:36] __main__ INFO: Epoch: 35 , Validation Loss: 196.5514011979103 , Validation Accuracy: 0.715 , Test Loss: 7.5157031416893005 , Test Accuracy: 0.7291 , Timing: 5.385376453399658\n",
            "[07/20 20:51:48] __main__ INFO: Epoch: 36 , Validation Loss: 194.19511064887047 , Validation Accuracy: 0.718 , Test Loss: 7.692111670970917 , Test Accuracy: 0.7205 , Timing: 5.369985342025757\n",
            "[07/20 20:51:59] __main__ INFO: Epoch: 37 , Validation Loss: 195.59090277552605 , Validation Accuracy: 0.7242 , Test Loss: 7.5672749280929565 , Test Accuracy: 0.7236 , Timing: 5.352721691131592\n",
            "[07/20 20:52:11] __main__ INFO: Epoch: 38 , Validation Loss: 218.01659482717514 , Validation Accuracy: 0.67 , Test Loss: 8.5209139585495 , Test Accuracy: 0.6802 , Timing: 5.404346466064453\n",
            "[07/20 20:52:23] __main__ INFO: Epoch: 39 , Validation Loss: 245.56107091903687 , Validation Accuracy: 0.635 , Test Loss: 10.20895791053772 , Test Accuracy: 0.6318 , Timing: 5.392298460006714\n",
            "[07/20 20:52:34] __main__ INFO: Epoch: 40 , Validation Loss: 244.826716452837 , Validation Accuracy: 0.6348 , Test Loss: 9.80496597290039 , Test Accuracy: 0.6346 , Timing: 5.3057639598846436\n",
            "[07/20 20:52:34] __main__ INFO: Model checkpoint saved at epoch: 40\n",
            "[07/20 20:53:11] __main__ INFO: Epoch: 41, GLISTER dataloader subset selection finished, takes 36.2528. \n",
            "[07/20 20:53:22] __main__ INFO: Epoch: 41 , Validation Loss: 207.66688191890717 , Validation Accuracy: 0.7026 , Test Loss: 7.987226843833923 , Test Accuracy: 0.717 , Timing: 41.64137268066406\n",
            "[07/20 20:53:34] __main__ INFO: Epoch: 42 , Validation Loss: 229.92704796791077 , Validation Accuracy: 0.6688 , Test Loss: 8.990957736968994 , Test Accuracy: 0.6769 , Timing: 5.367301940917969\n",
            "[07/20 20:53:46] __main__ INFO: Epoch: 43 , Validation Loss: 253.245657235384 , Validation Accuracy: 0.6352 , Test Loss: 9.684431850910187 , Test Accuracy: 0.6582 , Timing: 5.3962578773498535\n",
            "[07/20 20:53:57] __main__ INFO: Epoch: 44 , Validation Loss: 259.43067985773087 , Validation Accuracy: 0.6502 , Test Loss: 11.102668404579163 , Test Accuracy: 0.6428 , Timing: 5.370988845825195\n",
            "[07/20 20:54:09] __main__ INFO: Epoch: 45 , Validation Loss: 265.9488035440445 , Validation Accuracy: 0.6278 , Test Loss: 10.617987513542175 , Test Accuracy: 0.6422 , Timing: 5.36366605758667\n",
            "[07/20 20:54:21] __main__ INFO: Epoch: 46 , Validation Loss: 272.7116406708956 , Validation Accuracy: 0.614 , Test Loss: 10.822819113731384 , Test Accuracy: 0.6344 , Timing: 5.335318565368652\n",
            "[07/20 20:54:32] __main__ INFO: Epoch: 47 , Validation Loss: 271.3794623017311 , Validation Accuracy: 0.63 , Test Loss: 11.264689922332764 , Test Accuracy: 0.6301 , Timing: 5.377649784088135\n",
            "[07/20 20:54:44] __main__ INFO: Epoch: 48 , Validation Loss: 245.17547914385796 , Validation Accuracy: 0.639 , Test Loss: 9.926587343215942 , Test Accuracy: 0.6517 , Timing: 5.3685338497161865\n",
            "[07/20 20:54:56] __main__ INFO: Epoch: 49 , Validation Loss: 260.0976699590683 , Validation Accuracy: 0.6308 , Test Loss: 10.535440564155579 , Test Accuracy: 0.6427 , Timing: 5.385869741439819\n",
            "[07/20 20:55:07] __main__ INFO: Epoch: 50 , Validation Loss: 246.25445052981377 , Validation Accuracy: 0.6548 , Test Loss: 9.983939826488495 , Test Accuracy: 0.6594 , Timing: 5.428129196166992\n",
            "[07/20 20:55:07] __main__ INFO: GLISTER Selection Run---------------------------------\n",
            "[07/20 20:55:07] __main__ INFO: Final SubsetTrn: 200.637130\n",
            "[07/20 20:55:07] __main__ INFO: Validation Loss: 246.25 , Validation Accuracy: 0.65\n",
            "[07/20 20:55:07] __main__ INFO: Test Loss: 9.98, Test Accuracy: 0.66\n",
            "[07/20 20:55:07] __main__ INFO: ---------------------------------------------------------------------\n",
            "[07/20 20:55:07] __main__ INFO: GLISTER\n",
            "[07/20 20:55:07] __main__ INFO: ---------------------------------------------------------------------\n",
            "[07/20 20:55:07] __main__ INFO: Validation Accuracy,  , 0.261 , 0.3144 , 0.3552 , 0.3958 , 0.4304 , 0.4576 , 0.478 , 0.4752 , 0.5144 , 0.5744 , 0.5202 , 0.4786 , 0.526 , 0.5684 , 0.557 , 0.5682 , 0.5698 , 0.626 , 0.63 , 0.645 , 0.6502 , 0.6634 , 0.6858 , 0.7274 , 0.7068 , 0.7152 , 0.7222 , 0.7226 , 0.7306 , 0.731 , 0.7298 , 0.7456 , 0.7554 , 0.7316 , 0.715 , 0.718 , 0.7242 , 0.67 , 0.635 , 0.6348 , 0.7026 , 0.6688 , 0.6352 , 0.6502 , 0.6278 , 0.614 , 0.63 , 0.639 , 0.6308 , 0.6548\n",
            "[07/20 20:55:07] __main__ INFO: Test Accuracy,  , 0.2618 , 0.3191 , 0.3797 , 0.4058 , 0.4409 , 0.4641 , 0.4878 , 0.4578 , 0.5059 , 0.5913 , 0.5268 , 0.5057 , 0.5321 , 0.5882 , 0.5554 , 0.5628 , 0.5826 , 0.6379 , 0.6314 , 0.6499 , 0.6647 , 0.6704 , 0.7104 , 0.729 , 0.7211 , 0.729 , 0.7339 , 0.7356 , 0.7423 , 0.7442 , 0.744 , 0.7494 , 0.7584 , 0.7399 , 0.7291 , 0.7205 , 0.7236 , 0.6802 , 0.6318 , 0.6346 , 0.717 , 0.6769 , 0.6582 , 0.6428 , 0.6422 , 0.6344 , 0.6301 , 0.6517 , 0.6427 , 0.6594\n",
            "[07/20 20:55:07] __main__ INFO: [6.532914400100708, 5.350470304489136, 5.343393564224243, 5.342664003372192, 5.322189807891846, 5.36940598487854, 5.8627448081970215, 5.31589412689209, 5.345975160598755, 5.3638551235198975, 41.44686245918274, 5.358489751815796, 5.383280992507935, 5.350430965423584, 5.390534162521362, 5.372711420059204, 5.563985824584961, 5.418991565704346, 5.4562623500823975, 5.410360336303711, 41.65834856033325, 5.380939960479736, 5.345635652542114, 5.396271705627441, 5.3804402351379395, 5.3541951179504395, 5.408782005310059, 5.383044242858887, 5.37814736366272, 5.355252265930176, 41.74177861213684, 5.41690468788147, 5.409822463989258, 5.473956346511841, 5.385376453399658, 5.369985342025757, 5.352721691131592, 5.404346466064453, 5.392298460006714, 5.3057639598846436, 41.64137268066406, 5.367301940917969, 5.3962578773498535, 5.370988845825195, 5.36366605758667, 5.335318565368652, 5.377649784088135, 5.3685338497161865, 5.385869741439819, 5.428129196166992]\n",
            "[07/20 20:55:07] __main__ INFO: Total time taken by GLISTER = 0.1155 \n"
          ]
        }
      ]
    },
    {
      "cell_type": "code",
      "source": [
        "print(f\"Average Time / Epoch: {np.mean(timing)} \\nTotal Epochs: {num_epochs}\")"
      ],
      "metadata": {
        "id": "rEw6yODiL_CJ",
        "colab": {
          "base_uri": "https://localhost:8080/"
        },
        "outputId": "6f83eafb-80ff-4920-f271-4c997a1bd766"
      },
      "execution_count": 18,
      "outputs": [
        {
          "output_type": "stream",
          "name": "stdout",
          "text": [
            "Average Time / Epoch: 8.31261034488678 \n",
            "Total Epochs: 50\n"
          ]
        }
      ]
    },
    {
      "cell_type": "code",
      "source": [
        "gpu_info = !nvidia-smi\n",
        "gpu_info = '\\n'.join(gpu_info)\n",
        "if gpu_info.find('failed') >= 0:\n",
        "  print('Not connected to a GPU')\n",
        "else:\n",
        "  print(gpu_info)"
      ],
      "metadata": {
        "id": "OiR1Rbi5CgrY",
        "colab": {
          "base_uri": "https://localhost:8080/"
        },
        "outputId": "dc7461ad-d689-40b6-8dd1-5244b23b209c"
      },
      "execution_count": 19,
      "outputs": [
        {
          "output_type": "stream",
          "name": "stdout",
          "text": [
            "Wed Jul 20 20:55:07 2022       \n",
            "+-----------------------------------------------------------------------------+\n",
            "| NVIDIA-SMI 460.32.03    Driver Version: 460.32.03    CUDA Version: 11.2     |\n",
            "|-------------------------------+----------------------+----------------------+\n",
            "| GPU  Name        Persistence-M| Bus-Id        Disp.A | Volatile Uncorr. ECC |\n",
            "| Fan  Temp  Perf  Pwr:Usage/Cap|         Memory-Usage | GPU-Util  Compute M. |\n",
            "|                               |                      |               MIG M. |\n",
            "|===============================+======================+======================|\n",
            "|   0  Tesla P100-PCIE...  Off  | 00000000:00:04.0 Off |                    0 |\n",
            "| N/A   62C    P0    47W / 250W |   5069MiB / 16280MiB |     95%      Default |\n",
            "|                               |                      |                  N/A |\n",
            "+-------------------------------+----------------------+----------------------+\n",
            "                                                                               \n",
            "+-----------------------------------------------------------------------------+\n",
            "| Processes:                                                                  |\n",
            "|  GPU   GI   CI        PID   Type   Process name                  GPU Memory |\n",
            "|        ID   ID                                                   Usage      |\n",
            "|=============================================================================|\n",
            "+-----------------------------------------------------------------------------+\n"
          ]
        }
      ]
    },
    {
      "cell_type": "code",
      "source": [
        ""
      ],
      "metadata": {
        "id": "9hnoIcO1L1iy"
      },
      "execution_count": 19,
      "outputs": []
    }
  ]
}