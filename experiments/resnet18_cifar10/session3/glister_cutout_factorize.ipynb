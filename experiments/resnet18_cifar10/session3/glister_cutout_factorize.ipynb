{
  "nbformat": 4,
  "nbformat_minor": 0,
  "metadata": {
    "colab": {
      "name": "Combining Coords and Composer.ipynb",
      "provenance": [],
      "collapsed_sections": [],
      "include_colab_link": true
    },
    "kernelspec": {
      "name": "python3",
      "display_name": "Python 3"
    },
    "language_info": {
      "name": "python"
    },
    "accelerator": "GPU"
  },
  "cells": [
    {
      "cell_type": "markdown",
      "metadata": {
        "id": "view-in-github",
        "colab_type": "text"
      },
      "source": [
        "<a href=\"https://colab.research.google.com/github/RaviShah1/Combining-Cords-and-Composer/blob/main/experiments/resnet18_cifar10/session3/glister_cutout_factorize.ipynb\" target=\"_parent\"><img src=\"https://colab.research.google.com/assets/colab-badge.svg\" alt=\"Open In Colab\"/></a>"
      ]
    },
    {
      "cell_type": "code",
      "source": [
        "!git clone https://github.com/decile-team/cords.git\n",
        "%cd cords\n",
        "%ls"
      ],
      "metadata": {
        "id": "pJewp117QDUI",
        "outputId": "72ae4671-883a-4b3e-c969-3afb94e1c501",
        "colab": {
          "base_uri": "https://localhost:8080/"
        }
      },
      "execution_count": 1,
      "outputs": [
        {
          "output_type": "stream",
          "name": "stdout",
          "text": [
            "fatal: destination path 'cords' already exists and is not an empty directory.\n",
            "/content/cords\n",
            "\u001b[0m\u001b[01;34mbenchmarks\u001b[0m/   \u001b[01;34mcords\u001b[0m/  \u001b[01;34mexamples\u001b[0m/    README.md      setup.py      train_sl.py\n",
            "CITATION.CFF  \u001b[01;34mdata\u001b[0m/   LICENSE.txt  \u001b[01;34mrequirements\u001b[0m/  \u001b[01;34mtests\u001b[0m/        train_ssl.py\n",
            "\u001b[01;34mconfigs\u001b[0m/      \u001b[01;34mdocs\u001b[0m/   model.pt     \u001b[01;34mresults\u001b[0m/       train_hpo.py\n"
          ]
        }
      ]
    },
    {
      "cell_type": "code",
      "source": [
        "!pip install dotmap apricot-select ray[default] ray[tune] mosaicml\n"
      ],
      "metadata": {
        "colab": {
          "base_uri": "https://localhost:8080/"
        },
        "id": "37QszJkXYAZz",
        "outputId": "eb5e4beb-e93c-4572-a66d-b7ace81d93b2"
      },
      "execution_count": 2,
      "outputs": [
        {
          "output_type": "stream",
          "name": "stdout",
          "text": [
            "Looking in indexes: https://pypi.org/simple, https://us-python.pkg.dev/colab-wheels/public/simple/\n",
            "Requirement already satisfied: dotmap in /usr/local/lib/python3.7/dist-packages (1.3.30)\n",
            "Requirement already satisfied: apricot-select in /usr/local/lib/python3.7/dist-packages (0.6.1)\n",
            "Requirement already satisfied: ray[default] in /usr/local/lib/python3.7/dist-packages (1.13.0)\n",
            "Requirement already satisfied: mosaicml in /usr/local/lib/python3.7/dist-packages (0.8.0)\n",
            "Requirement already satisfied: numba>=0.43.0 in /usr/local/lib/python3.7/dist-packages (from apricot-select) (0.51.2)\n",
            "Requirement already satisfied: nose in /usr/local/lib/python3.7/dist-packages (from apricot-select) (1.3.7)\n",
            "Requirement already satisfied: scipy>=1.0.0 in /usr/local/lib/python3.7/dist-packages (from apricot-select) (1.7.3)\n",
            "Requirement already satisfied: tqdm>=4.24.0 in /usr/local/lib/python3.7/dist-packages (from apricot-select) (4.64.0)\n",
            "Requirement already satisfied: numpy>=1.14.2 in /usr/local/lib/python3.7/dist-packages (from apricot-select) (1.21.6)\n",
            "Requirement already satisfied: llvmlite<0.35,>=0.34.0.dev0 in /usr/local/lib/python3.7/dist-packages (from numba>=0.43.0->apricot-select) (0.34.0)\n",
            "Requirement already satisfied: setuptools in /usr/local/lib/python3.7/dist-packages (from numba>=0.43.0->apricot-select) (57.4.0)\n",
            "Requirement already satisfied: requests<3,>=2.26.0 in /usr/local/lib/python3.7/dist-packages (from mosaicml) (2.28.1)\n",
            "Requirement already satisfied: torchmetrics<0.8,>=0.7.0 in /usr/local/lib/python3.7/dist-packages (from mosaicml) (0.7.3)\n",
            "Requirement already satisfied: torch<2,>=1.9 in /usr/local/lib/python3.7/dist-packages (from mosaicml) (1.12.0+cu113)\n",
            "Requirement already satisfied: coolname<2,>=1.1.0 in /usr/local/lib/python3.7/dist-packages (from mosaicml) (1.1.0)\n",
            "Requirement already satisfied: py-cpuinfo>=8.0.0 in /usr/local/lib/python3.7/dist-packages (from mosaicml) (8.0.0)\n",
            "Requirement already satisfied: pyyaml<7,>=6.0 in /usr/local/lib/python3.7/dist-packages (from mosaicml) (6.0)\n",
            "Requirement already satisfied: torch-optimizer<0.2,>=0.1.0 in /usr/local/lib/python3.7/dist-packages (from mosaicml) (0.1.0)\n",
            "Requirement already satisfied: yahp<0.2,>=0.1.1 in /usr/local/lib/python3.7/dist-packages (from mosaicml) (0.1.1)\n",
            "Requirement already satisfied: psutil<6,>=5.8.0 in /usr/local/lib/python3.7/dist-packages (from mosaicml) (5.9.1)\n",
            "Requirement already satisfied: torchvision>=0.10.0 in /usr/local/lib/python3.7/dist-packages (from mosaicml) (0.13.0+cu113)\n",
            "Requirement already satisfied: certifi>=2017.4.17 in /usr/local/lib/python3.7/dist-packages (from requests<3,>=2.26.0->mosaicml) (2022.6.15)\n",
            "Requirement already satisfied: charset-normalizer<3,>=2 in /usr/local/lib/python3.7/dist-packages (from requests<3,>=2.26.0->mosaicml) (2.1.0)\n",
            "Requirement already satisfied: urllib3<1.27,>=1.21.1 in /usr/local/lib/python3.7/dist-packages (from requests<3,>=2.26.0->mosaicml) (1.24.3)\n",
            "Requirement already satisfied: idna<4,>=2.5 in /usr/local/lib/python3.7/dist-packages (from requests<3,>=2.26.0->mosaicml) (2.10)\n",
            "Requirement already satisfied: typing-extensions in /usr/local/lib/python3.7/dist-packages (from torch<2,>=1.9->mosaicml) (4.1.1)\n",
            "Requirement already satisfied: pytorch-ranger>=0.1.1 in /usr/local/lib/python3.7/dist-packages (from torch-optimizer<0.2,>=0.1.0->mosaicml) (0.1.1)\n",
            "Requirement already satisfied: packaging in /usr/local/lib/python3.7/dist-packages (from torchmetrics<0.8,>=0.7.0->mosaicml) (21.3)\n",
            "Requirement already satisfied: pyDeprecate==0.3.* in /usr/local/lib/python3.7/dist-packages (from torchmetrics<0.8,>=0.7.0->mosaicml) (0.3.2)\n",
            "Requirement already satisfied: pillow!=8.3.*,>=5.3.0 in /usr/local/lib/python3.7/dist-packages (from torchvision>=0.10.0->mosaicml) (7.1.2)\n",
            "Requirement already satisfied: ruamel.yaml>=0.17.10 in /usr/local/lib/python3.7/dist-packages (from yahp<0.2,>=0.1.1->mosaicml) (0.17.21)\n",
            "Requirement already satisfied: docstring-parser<=0.15,>=0.14.1 in /usr/local/lib/python3.7/dist-packages (from yahp<0.2,>=0.1.1->mosaicml) (0.14.1)\n",
            "Requirement already satisfied: ruamel.yaml.clib>=0.2.6 in /usr/local/lib/python3.7/dist-packages (from ruamel.yaml>=0.17.10->yahp<0.2,>=0.1.1->mosaicml) (0.2.6)\n",
            "Requirement already satisfied: pyparsing!=3.0.5,>=2.0.2 in /usr/local/lib/python3.7/dist-packages (from packaging->torchmetrics<0.8,>=0.7.0->mosaicml) (3.0.9)\n",
            "Requirement already satisfied: grpcio<=1.43.0,>=1.28.1 in /usr/local/lib/python3.7/dist-packages (from ray[default]) (1.43.0)\n",
            "Requirement already satisfied: virtualenv in /usr/local/lib/python3.7/dist-packages (from ray[default]) (20.15.1)\n",
            "Requirement already satisfied: msgpack<2.0.0,>=1.0.0 in /usr/local/lib/python3.7/dist-packages (from ray[default]) (1.0.4)\n",
            "Requirement already satisfied: protobuf<4.0.0,>=3.15.3 in /usr/local/lib/python3.7/dist-packages (from ray[default]) (3.17.3)\n",
            "Requirement already satisfied: aiosignal in /usr/local/lib/python3.7/dist-packages (from ray[default]) (1.2.0)\n",
            "Requirement already satisfied: frozenlist in /usr/local/lib/python3.7/dist-packages (from ray[default]) (1.3.0)\n",
            "Requirement already satisfied: attrs in /usr/local/lib/python3.7/dist-packages (from ray[default]) (21.4.0)\n",
            "Requirement already satisfied: click<=8.0.4,>=7.0 in /usr/local/lib/python3.7/dist-packages (from ray[default]) (7.1.2)\n",
            "Requirement already satisfied: jsonschema in /usr/local/lib/python3.7/dist-packages (from ray[default]) (4.3.3)\n",
            "Requirement already satisfied: filelock in /usr/local/lib/python3.7/dist-packages (from ray[default]) (3.7.1)\n",
            "Requirement already satisfied: prometheus-client<0.14.0,>=0.7.1 in /usr/local/lib/python3.7/dist-packages (from ray[default]) (0.13.1)\n",
            "Requirement already satisfied: smart-open in /usr/local/lib/python3.7/dist-packages (from ray[default]) (5.2.1)\n",
            "Requirement already satisfied: opencensus in /usr/local/lib/python3.7/dist-packages (from ray[default]) (0.10.0)\n",
            "Requirement already satisfied: aiohttp-cors in /usr/local/lib/python3.7/dist-packages (from ray[default]) (0.7.0)\n",
            "Requirement already satisfied: aiohttp>=3.7 in /usr/local/lib/python3.7/dist-packages (from ray[default]) (3.8.1)\n",
            "Requirement already satisfied: py-spy>=0.2.0 in /usr/local/lib/python3.7/dist-packages (from ray[default]) (0.3.12)\n",
            "Requirement already satisfied: gpustat>=1.0.0b1 in /usr/local/lib/python3.7/dist-packages (from ray[default]) (1.0.0rc1)\n",
            "Requirement already satisfied: colorful in /usr/local/lib/python3.7/dist-packages (from ray[default]) (0.5.4)\n",
            "Requirement already satisfied: asynctest==0.13.0 in /usr/local/lib/python3.7/dist-packages (from aiohttp>=3.7->ray[default]) (0.13.0)\n",
            "Requirement already satisfied: async-timeout<5.0,>=4.0.0a3 in /usr/local/lib/python3.7/dist-packages (from aiohttp>=3.7->ray[default]) (4.0.2)\n",
            "Requirement already satisfied: yarl<2.0,>=1.0 in /usr/local/lib/python3.7/dist-packages (from aiohttp>=3.7->ray[default]) (1.7.2)\n",
            "Requirement already satisfied: multidict<7.0,>=4.5 in /usr/local/lib/python3.7/dist-packages (from aiohttp>=3.7->ray[default]) (6.0.2)\n",
            "Requirement already satisfied: blessed>=1.17.1 in /usr/local/lib/python3.7/dist-packages (from gpustat>=1.0.0b1->ray[default]) (1.19.1)\n",
            "Requirement already satisfied: six>=1.7 in /usr/local/lib/python3.7/dist-packages (from gpustat>=1.0.0b1->ray[default]) (1.15.0)\n",
            "Requirement already satisfied: nvidia-ml-py<=11.495.46,>=11.450.129 in /usr/local/lib/python3.7/dist-packages (from gpustat>=1.0.0b1->ray[default]) (11.495.46)\n",
            "Requirement already satisfied: wcwidth>=0.1.4 in /usr/local/lib/python3.7/dist-packages (from blessed>=1.17.1->gpustat>=1.0.0b1->ray[default]) (0.2.5)\n",
            "Requirement already satisfied: importlib-metadata in /usr/local/lib/python3.7/dist-packages (from jsonschema->ray[default]) (4.12.0)\n",
            "Requirement already satisfied: importlib-resources>=1.4.0 in /usr/local/lib/python3.7/dist-packages (from jsonschema->ray[default]) (5.8.0)\n",
            "Requirement already satisfied: pyrsistent!=0.17.0,!=0.17.1,!=0.17.2,>=0.14.0 in /usr/local/lib/python3.7/dist-packages (from jsonschema->ray[default]) (0.18.1)\n",
            "Requirement already satisfied: zipp>=3.1.0 in /usr/local/lib/python3.7/dist-packages (from importlib-resources>=1.4.0->jsonschema->ray[default]) (3.8.0)\n",
            "Requirement already satisfied: opencensus-context>=0.1.2 in /usr/local/lib/python3.7/dist-packages (from opencensus->ray[default]) (0.1.2)\n",
            "Requirement already satisfied: google-api-core<3.0.0,>=1.0.0 in /usr/local/lib/python3.7/dist-packages (from opencensus->ray[default]) (1.31.6)\n",
            "Requirement already satisfied: google-auth<2.0dev,>=1.25.0 in /usr/local/lib/python3.7/dist-packages (from google-api-core<3.0.0,>=1.0.0->opencensus->ray[default]) (1.35.0)\n",
            "Requirement already satisfied: googleapis-common-protos<2.0dev,>=1.6.0 in /usr/local/lib/python3.7/dist-packages (from google-api-core<3.0.0,>=1.0.0->opencensus->ray[default]) (1.56.3)\n",
            "Requirement already satisfied: pytz in /usr/local/lib/python3.7/dist-packages (from google-api-core<3.0.0,>=1.0.0->opencensus->ray[default]) (2022.1)\n",
            "Requirement already satisfied: pyasn1-modules>=0.2.1 in /usr/local/lib/python3.7/dist-packages (from google-auth<2.0dev,>=1.25.0->google-api-core<3.0.0,>=1.0.0->opencensus->ray[default]) (0.2.8)\n",
            "Requirement already satisfied: rsa<5,>=3.1.4 in /usr/local/lib/python3.7/dist-packages (from google-auth<2.0dev,>=1.25.0->google-api-core<3.0.0,>=1.0.0->opencensus->ray[default]) (4.8)\n",
            "Requirement already satisfied: cachetools<5.0,>=2.0.0 in /usr/local/lib/python3.7/dist-packages (from google-auth<2.0dev,>=1.25.0->google-api-core<3.0.0,>=1.0.0->opencensus->ray[default]) (4.2.4)\n",
            "Requirement already satisfied: pyasn1<0.5.0,>=0.4.6 in /usr/local/lib/python3.7/dist-packages (from pyasn1-modules>=0.2.1->google-auth<2.0dev,>=1.25.0->google-api-core<3.0.0,>=1.0.0->opencensus->ray[default]) (0.4.8)\n",
            "Requirement already satisfied: tabulate in /usr/local/lib/python3.7/dist-packages (from ray[default]) (0.8.10)\n",
            "Requirement already satisfied: tensorboardX>=1.9 in /usr/local/lib/python3.7/dist-packages (from ray[default]) (2.5.1)\n",
            "Requirement already satisfied: pandas in /usr/local/lib/python3.7/dist-packages (from ray[default]) (1.3.5)\n",
            "Requirement already satisfied: python-dateutil>=2.7.3 in /usr/local/lib/python3.7/dist-packages (from pandas->ray[default]) (2.8.2)\n",
            "Requirement already satisfied: distlib<1,>=0.3.1 in /usr/local/lib/python3.7/dist-packages (from virtualenv->ray[default]) (0.3.5)\n",
            "Requirement already satisfied: platformdirs<3,>=2 in /usr/local/lib/python3.7/dist-packages (from virtualenv->ray[default]) (2.5.2)\n"
          ]
        }
      ]
    },
    {
      "cell_type": "code",
      "source": [
        "\"\"\"\n",
        "You can select any options from the all options list.\n",
        "\n",
        "Put the options you want in the options list and throughout the notebook, see \n",
        "how the composer functions you selected are applied.\n",
        "\n",
        "Some options will decrease overall training time, a few options will decrease\n",
        "per epoch training time, and a few options may not improve or harm training time.\n",
        "\"\"\"\n",
        "\n",
        "all_options = [\"augmix\", \"blurpool\", \"channels_last\", \"colout\", \"cutout\", \"ema\",\n",
        "               \"factorize\", \"fused_layernorm\", \"label_smooth\", \"layer_freeze\", \n",
        "               \"mixup\", \"rand_aug\", \"squeeze_excite\"]\n",
        "options = [\"cutout\", \"factorize\"]"
      ],
      "metadata": {
        "id": "Uv9hg-pW3b9s"
      },
      "execution_count": 3,
      "outputs": []
    },
    {
      "cell_type": "code",
      "source": [
        "import time\n",
        "import numpy as np\n",
        "import os\n",
        "import copy\n",
        "import torch\n",
        "import torch.nn as nn\n",
        "import torch.optim as optim\n",
        "from torchvision.models import resnet18\n",
        "from cords.utils.data.datasets.SL import gen_dataset\n",
        "from torch.utils.data import Subset\n",
        "from cords.utils.config_utils import load_config_data\n",
        "import os.path as osp\n",
        "from cords.utils.data.data_utils import WeightedSubset\n",
        "from composer import functional as cf\n",
        "from composer.algorithms.augmix import AugmentAndMixTransform\n",
        "from composer.algorithms.colout import ColOutTransform\n",
        "from composer.algorithms.randaugment import RandAugmentTransform\n",
        "from ray import tune\n",
        "import torchvision\n",
        "from torchvision import transforms\n",
        "from torch.utils.data import random_split"
      ],
      "metadata": {
        "id": "IFtimJsDYBSm"
      },
      "execution_count": 4,
      "outputs": []
    },
    {
      "cell_type": "code",
      "source": [
        "#trainset, validset, testset, num_cls = gen_dataset('data/', 'cifar10', None, isnumpy=False)\n",
        "def get_data():\n",
        "    torch.cuda.manual_seed(42)\n",
        "    torch.manual_seed(42)\n",
        "\n",
        "    train_transforms = [\n",
        "                        transforms.RandomCrop(32, padding=4),\n",
        "                        transforms.RandomHorizontalFlip(),\n",
        "                        transforms.ToTensor(),\n",
        "                        transforms.Normalize((0.4914, 0.4822, 0.4465), (0.2023, 0.1994, 0.2010)),\n",
        "                       ]\n",
        "    if \"augmix\" in options:\n",
        "        train_transforms.append(AugmentAndMixTransform(severity=3,\n",
        "                                                       width=3,\n",
        "                                                       depth=-1,\n",
        "                                                       alpha=1.0,\n",
        "                                                       augmentation_set=\"all\"))\n",
        "    if \"colout\" in options:\n",
        "        train_transforms.append(ColOutTransform(p_row=0.15, p_col=0.15))\n",
        "    if \"rand_aug\" in options:\n",
        "        train_transforms.append(RandAugmentTransform(severity=4,\n",
        "                                                     depth=2,\n",
        "                                                     augmentation_set=\"all\"))\n",
        "\n",
        "    cifar_transform = transforms.Compose(train_transforms)\n",
        "\n",
        "    cifar_tst_transform = transforms.Compose([\n",
        "                            transforms.ToTensor(),\n",
        "                            transforms.Normalize((0.4914, 0.4822, 0.4465), (0.2023, 0.1994, 0.2010)),\n",
        "                        ])\n",
        "\n",
        "    num_cls = 10\n",
        "\n",
        "    fullset = torchvision.datasets.CIFAR10(root='data/', train=True, download=True, transform=cifar_transform)\n",
        "    testset = torchvision.datasets.CIFAR10(root='data/', train=False, download=True, transform=cifar_tst_transform)\n",
        "\n",
        "    validation_set_fraction = 0.1\n",
        "    num_fulltrn = len(fullset)\n",
        "    num_val = int(num_fulltrn * validation_set_fraction)\n",
        "    num_trn = num_fulltrn - num_val\n",
        "    trainset, valset = random_split(fullset, [num_trn, num_val])\n",
        "\n",
        "    return trainset, valset, testset, num_cls\n",
        "\n",
        "trainset, validset, testset, num_cls = get_data()"
      ],
      "metadata": {
        "colab": {
          "base_uri": "https://localhost:8080/"
        },
        "id": "fCOZOz0CYDmA",
        "outputId": "1cba8544-9cf2-42bd-fefc-212b040e43a6"
      },
      "execution_count": 5,
      "outputs": [
        {
          "output_type": "stream",
          "name": "stdout",
          "text": [
            "Files already downloaded and verified\n",
            "Files already downloaded and verified\n"
          ]
        }
      ]
    },
    {
      "cell_type": "code",
      "source": [
        "trn_batch_size = 20\n",
        "val_batch_size = 20\n",
        "tst_batch_size = 1000\n",
        "\n",
        "# Creating the Data Loaders\n",
        "trainloader = torch.utils.data.DataLoader(trainset, batch_size=trn_batch_size,\n",
        "                                          shuffle=False, pin_memory=True)\n",
        "\n",
        "valloader = torch.utils.data.DataLoader(validset, batch_size=val_batch_size,\n",
        "                                        shuffle=False, pin_memory=True)\n",
        "\n",
        "testloader = torch.utils.data.DataLoader(testset, batch_size=tst_batch_size,\n",
        "                                          shuffle=False, pin_memory=True)"
      ],
      "metadata": {
        "id": "JJji-yh0YIEY"
      },
      "execution_count": 6,
      "outputs": []
    },
    {
      "cell_type": "code",
      "source": [
        "from cords.utils.models import ResNet18\n",
        "numclasses = 10\n",
        "device = 'cuda' #Device Argument\n",
        "model = ResNet18(10)\n",
        "\n",
        "if \"blurpool\" in options:\n",
        "    model = cf.apply_blurpool(model)\n",
        "if \"channels_last\" in options:\n",
        "    cf.apply_channels_last(model)\n",
        "if \"ema\" in options:\n",
        "    ema_model = copy.deepcopy(model)\n",
        "    ema_model.to(device)\n",
        "if \"factorize\" in options:\n",
        "    cf.apply_factorization(model)\n",
        "if \"fused_layernorm\" in options:\n",
        "    cf.apply_fused_layernorm(model)\n",
        "if \"squeeze_excite\" in options:\n",
        "    model = cf.apply_squeeze_excite(model)\n",
        "\n",
        "\n",
        "model = model.to(device)"
      ],
      "metadata": {
        "id": "6Qj5KIyEYJ8M"
      },
      "execution_count": 7,
      "outputs": []
    },
    {
      "cell_type": "code",
      "source": [
        "criterion = nn.CrossEntropyLoss()\n",
        "criterion_nored = nn.CrossEntropyLoss(reduction='none')"
      ],
      "metadata": {
        "id": "8Tvpow1wYLWZ"
      },
      "execution_count": 8,
      "outputs": []
    },
    {
      "cell_type": "code",
      "source": [
        "def save_ckpt(state, ckpt_path):\n",
        "    torch.save(state, ckpt_path)\n",
        "\n",
        "\n",
        "def load_ckpt(ckpt_path, model, optimizer):\n",
        "    checkpoint = torch.load(ckpt_path)\n",
        "    start_epoch = checkpoint['epoch']\n",
        "    model.load_state_dict(checkpoint['state_dict'])\n",
        "    optimizer.load_state_dict(checkpoint['optimizer'])\n",
        "    loss = checkpoint['loss']\n",
        "    metrics = checkpoint['metrics']\n",
        "    return start_epoch, model, optimizer, loss, metrics"
      ],
      "metadata": {
        "id": "uJhZ8d3vYNBh"
      },
      "execution_count": 9,
      "outputs": []
    },
    {
      "cell_type": "code",
      "source": [
        "def generate_cumulative_timing(mod_timing):\n",
        "    tmp = 0\n",
        "    mod_cum_timing = np.zeros(len(mod_timing))\n",
        "    for i in range(len(mod_timing)):\n",
        "        tmp += mod_timing[i]\n",
        "        mod_cum_timing[i] = tmp\n",
        "    return mod_cum_timing / 3600"
      ],
      "metadata": {
        "id": "0hx_sinTYOdX"
      },
      "execution_count": 10,
      "outputs": []
    },
    {
      "cell_type": "code",
      "source": [
        "optimizer = optim.SGD(model.parameters(), lr=1e-2,\n",
        "                                  momentum=0.9,\n",
        "                                  weight_decay=5e-4,\n",
        "                                  nesterov=False)\n",
        "\n",
        "#T_max is the maximum number of scheduler steps. Here we are using the number of epochs as the maximum number of scheduler steps.\n",
        "\n",
        "scheduler = torch.optim.lr_scheduler.CosineAnnealingLR(optimizer,\n",
        "                                                       T_max=30)"
      ],
      "metadata": {
        "id": "kLHSf3WEYP3_"
      },
      "execution_count": 11,
      "outputs": []
    },
    {
      "cell_type": "code",
      "source": [
        "def __get_logger(results_dir):\n",
        "  os.makedirs(results_dir, exist_ok=True)\n",
        "  # setup logger\n",
        "  plain_formatter = logging.Formatter(\"[%(asctime)s] %(name)s %(levelname)s: %(message)s\",\n",
        "                                      datefmt=\"%m/%d %H:%M:%S\")\n",
        "  logger = logging.getLogger(__name__)\n",
        "  logger.setLevel(logging.INFO)\n",
        "  s_handler = logging.StreamHandler(stream=sys.stdout)\n",
        "  s_handler.setFormatter(plain_formatter)\n",
        "  s_handler.setLevel(logging.INFO)\n",
        "  logger.addHandler(s_handler)\n",
        "  f_handler = logging.FileHandler(os.path.join(results_dir, \"results.log\"))\n",
        "  f_handler.setFormatter(plain_formatter)\n",
        "  f_handler.setLevel(logging.DEBUG)\n",
        "  logger.addHandler(f_handler)\n",
        "  logger.propagate = False\n",
        "  return logger"
      ],
      "metadata": {
        "id": "wAopp5oFYRJJ"
      },
      "execution_count": 12,
      "outputs": []
    },
    {
      "cell_type": "code",
      "source": [
        "import logging\n",
        "import os\n",
        "import os.path as osp\n",
        "import sys\n",
        "\n",
        "#Results logging directory\n",
        "results_dir = osp.abspath(osp.expanduser('results'))\n",
        "logger = __get_logger(results_dir)"
      ],
      "metadata": {
        "id": "6AQkQW5XYSqA"
      },
      "execution_count": 13,
      "outputs": []
    },
    {
      "cell_type": "code",
      "source": [
        "logger.info(\"hello\")"
      ],
      "metadata": {
        "colab": {
          "base_uri": "https://localhost:8080/"
        },
        "id": "IAh0aXRKYWzi",
        "outputId": "97916448-98b3-40a6-d0ff-baea5d10c09b"
      },
      "execution_count": 14,
      "outputs": [
        {
          "output_type": "stream",
          "name": "stdout",
          "text": [
            "[07/20 20:07:51] __main__ INFO: hello\n"
          ]
        }
      ]
    },
    {
      "cell_type": "code",
      "source": [
        "from cords.utils.data.dataloader.SL.adaptive import GLISTERDataLoader, OLRandomDataLoader, \\\n",
        "    CRAIGDataLoader, GradMatchDataLoader, RandomDataLoader\n",
        "from dotmap import DotMap\n",
        "\n",
        "selection_strategy = 'GLISTER'\n",
        "dss_args = dict(model=model,\n",
        "                loss=criterion_nored,\n",
        "                eta=0.01,\n",
        "                num_classes=10,\n",
        "                num_epochs=50,\n",
        "                device='cuda',\n",
        "                fraction=0.1,\n",
        "                select_every=10,\n",
        "                kappa=0,\n",
        "                linear_layer=False,\n",
        "                selection_type='SL',\n",
        "                greedy='Stochastic')\n",
        "dss_args = DotMap(dss_args)\n",
        "\n",
        "dataloader = GLISTERDataLoader(trainloader, valloader, dss_args, logger, \n",
        "                                  batch_size=20, \n",
        "                                  shuffle=True,\n",
        "                                  pin_memory=False)"
      ],
      "metadata": {
        "colab": {
          "base_uri": "https://localhost:8080/"
        },
        "id": "P72TwdhcYYL8",
        "outputId": "592193d5-26e9-456f-c25c-ae9490f799fb"
      },
      "execution_count": 15,
      "outputs": [
        {
          "output_type": "stream",
          "name": "stderr",
          "text": [
            "/usr/local/lib/python3.7/dist-packages/numba/np/ufunc/parallel.py:363: NumbaWarning: \u001b[1mThe TBB threading layer requires TBB version 2019.5 or later i.e., TBB_INTERFACE_VERSION >= 11005. Found TBB_INTERFACE_VERSION = 9107. The TBB threading layer is disabled.\u001b[0m\n",
            "  warnings.warn(problem)\n"
          ]
        }
      ]
    },
    {
      "cell_type": "code",
      "source": [
        "#Training Arguments\n",
        "num_epochs = 50\n",
        "\n",
        "#Arguments for results logging\n",
        "print_every = 1\n",
        "print_args = [\"val_loss\", \"val_acc\", \"tst_loss\", \"tst_acc\", \"time\"]\n",
        "\n",
        "#Argumets for checkpointing\n",
        "save_every = 20\n",
        "is_save = True\n",
        "\n",
        "#Evaluation Metrics\n",
        "trn_losses = list()\n",
        "val_losses = list()\n",
        "tst_losses = list()\n",
        "subtrn_losses = list()\n",
        "timing = list()\n",
        "trn_acc = list()\n",
        "val_acc = list()  \n",
        "tst_acc = list()  \n",
        "subtrn_acc = list()"
      ],
      "metadata": {
        "id": "hN182L3MYa8a"
      },
      "execution_count": 16,
      "outputs": []
    },
    {
      "cell_type": "code",
      "source": [
        "\"\"\"\n",
        "################################################# Training Loop #################################################\n",
        "\"\"\"\n",
        "for epoch in range(num_epochs):\n",
        "    subtrn_loss = 0\n",
        "    subtrn_correct = 0\n",
        "    subtrn_total = 0\n",
        "    model.train()\n",
        "    start_time = time.time()\n",
        "    for _, (inputs, targets, weights) in enumerate(dataloader):\n",
        "        inputs = inputs.to(device)\n",
        "        targets = targets.to(device, non_blocking=True)\n",
        "        weights = weights.to(device)  \n",
        "        optimizer.zero_grad()\n",
        "        if \"mixup\" in options:\n",
        "            inputs, y_perm, mixing = cf.mixup_batch(inputs, targets, alpha=0.2)\n",
        "        if \"cutout\" in options:\n",
        "             inputs = cf.cutout_batch(inputs, num_holes=1, length=0.5)\n",
        "        outputs = model(inputs)\n",
        "        if \"label_smooth\" in options:\n",
        "            targets = cf.smooth_labels(outputs, targets, smoothing=0.1)\n",
        "        losses = criterion_nored(outputs, targets)\n",
        "        loss = torch.dot(losses, weights/(weights.sum()))\n",
        "        loss.backward()\n",
        "        subtrn_loss += loss.item()\n",
        "        optimizer.step()\n",
        "        _, predicted = outputs.max(1)\n",
        "        subtrn_total += targets.size(0)\n",
        "        subtrn_correct += predicted.eq(targets).sum().item()\n",
        "\n",
        "        if \"ema\" in options:\n",
        "            cf.compute_ema(model, ema_model, smoothing=0.99)\n",
        "        if \"layer_freeze\" in options:\n",
        "            freeze_depth, feeze_level = cf.freeze_layers(\n",
        "                                        model=model,\n",
        "                                        optimizers=optimizer,\n",
        "                                        current_duration=epoch/num_epochs,\n",
        "                                        freeze_start=0.0,\n",
        "                                        freeze_level=1.0\n",
        "                                    )\n",
        "\n",
        "    epoch_time = time.time() - start_time\n",
        "    scheduler.step()\n",
        "    timing.append(epoch_time)\n",
        "\n",
        "\n",
        "    \"\"\"\n",
        "    ################################################# Evaluation Loop #################################################\n",
        "    \"\"\"\n",
        "\n",
        "    if (epoch + 1) % print_every == 0:\n",
        "        trn_loss = 0\n",
        "        trn_correct = 0\n",
        "        trn_total = 0\n",
        "        val_loss = 0\n",
        "        val_correct = 0\n",
        "        val_total = 0\n",
        "        tst_correct = 0\n",
        "        tst_total = 0\n",
        "        tst_loss = 0\n",
        "        model.eval()\n",
        "\n",
        "        if (\"trn_loss\" in print_args) or (\"trn_acc\" in print_args):\n",
        "            with torch.no_grad():\n",
        "                for _, (inputs, targets) in enumerate(trainloader):\n",
        "                    inputs, targets = inputs.to(device), \\\n",
        "                                      targets.to(device, non_blocking=True)\n",
        "                    outputs = model(inputs)\n",
        "                    loss = criterion(outputs, targets)\n",
        "                    trn_loss += loss.item()\n",
        "                    if \"trn_acc\" in print_args:\n",
        "                        _, predicted = outputs.max(1)\n",
        "                        trn_total += targets.size(0)\n",
        "                        trn_correct += predicted.eq(targets).sum().item()\n",
        "                trn_losses.append(trn_loss)\n",
        "\n",
        "            if \"trn_acc\" in print_args:\n",
        "                trn_acc.append(trn_correct / trn_total)\n",
        "\n",
        "        if (\"val_loss\" in print_args) or (\"val_acc\" in print_args):\n",
        "            with torch.no_grad():\n",
        "                for _, (inputs, targets) in enumerate(valloader):\n",
        "                    inputs, targets = inputs.to(device), \\\n",
        "                                      targets.to(device, non_blocking=True)\n",
        "                    outputs = model(inputs)\n",
        "                    loss = criterion(outputs, targets)\n",
        "                    val_loss += loss.item()\n",
        "                    if \"val_acc\" in print_args:\n",
        "                        _, predicted = outputs.max(1)\n",
        "                        val_total += targets.size(0)\n",
        "                        val_correct += predicted.eq(targets).sum().item()\n",
        "                val_losses.append(val_loss)\n",
        "\n",
        "            if \"val_acc\" in print_args:\n",
        "                val_acc.append(val_correct / val_total)\n",
        "\n",
        "        if (\"tst_loss\" in print_args) or (\"tst_acc\" in print_args):\n",
        "            with torch.no_grad():\n",
        "                for _, (inputs, targets) in enumerate(testloader):\n",
        "                    inputs, targets = inputs.to(device), \\\n",
        "                                      targets.to(device, non_blocking=True)\n",
        "                    outputs = model(inputs)\n",
        "                    loss = criterion(outputs, targets)\n",
        "                    tst_loss += loss.item()\n",
        "                    if \"tst_acc\" in print_args:\n",
        "                        _, predicted = outputs.max(1)\n",
        "                        tst_total += targets.size(0)\n",
        "                        tst_correct += predicted.eq(targets).sum().item()\n",
        "                tst_losses.append(tst_loss)\n",
        "\n",
        "            if \"tst_acc\" in print_args:\n",
        "                tst_acc.append(tst_correct / tst_total)\n",
        "\n",
        "        if \"subtrn_acc\" in print_args:\n",
        "            subtrn_acc.append(subtrn_correct / subtrn_total)\n",
        "\n",
        "        if \"subtrn_losses\" in print_args:\n",
        "            subtrn_losses.append(subtrn_loss)\n",
        "\n",
        "        print_str = \"Epoch: \" + str(epoch + 1)\n",
        "\n",
        "        \"\"\"\n",
        "        ################################################# Results Printing #################################################\n",
        "        \"\"\"\n",
        "\n",
        "        for arg in print_args:\n",
        "\n",
        "            if arg == \"val_loss\":\n",
        "                print_str += \" , \" + \"Validation Loss: \" + str(val_losses[-1])\n",
        "\n",
        "            if arg == \"val_acc\":\n",
        "                print_str += \" , \" + \"Validation Accuracy: \" + str(val_acc[-1])\n",
        "\n",
        "            if arg == \"tst_loss\":\n",
        "                print_str += \" , \" + \"Test Loss: \" + str(tst_losses[-1])\n",
        "\n",
        "            if arg == \"tst_acc\":\n",
        "                print_str += \" , \" + \"Test Accuracy: \" + str(tst_acc[-1])\n",
        "\n",
        "            if arg == \"trn_loss\":\n",
        "                print_str += \" , \" + \"Training Loss: \" + str(trn_losses[-1])\n",
        "\n",
        "            if arg == \"trn_acc\":\n",
        "                print_str += \" , \" + \"Training Accuracy: \" + str(trn_acc[-1])\n",
        "\n",
        "            if arg == \"subtrn_loss\":\n",
        "                print_str += \" , \" + \"Subset Loss: \" + str(subtrn_losses[-1])\n",
        "\n",
        "            if arg == \"subtrn_acc\":\n",
        "                print_str += \" , \" + \"Subset Accuracy: \" + str(subtrn_acc[-1])\n",
        "\n",
        "            if arg == \"time\":\n",
        "                print_str += \" , \" + \"Timing: \" + str(timing[-1])\n",
        "\n",
        "        logger.info(print_str)\n",
        "\n",
        "    \"\"\"\n",
        "    ################################################# Checkpoint Saving #################################################\n",
        "    \"\"\"\n",
        "\n",
        "    if ((epoch + 1) % save_every == 0) and is_save:\n",
        "\n",
        "        metric_dict = {}\n",
        "\n",
        "        for arg in print_args:\n",
        "            if arg == \"val_loss\":\n",
        "                metric_dict['val_loss'] = val_losses\n",
        "            if arg == \"val_acc\":\n",
        "                metric_dict['val_acc'] = val_acc\n",
        "            if arg == \"tst_loss\":\n",
        "                metric_dict['tst_loss'] = tst_losses\n",
        "            if arg == \"tst_acc\":\n",
        "                metric_dict['tst_acc'] = tst_acc\n",
        "            if arg == \"trn_loss\":\n",
        "                metric_dict['trn_loss'] = trn_losses\n",
        "            if arg == \"trn_acc\":\n",
        "                metric_dict['trn_acc'] = trn_acc\n",
        "            if arg == \"subtrn_loss\":\n",
        "                metric_dict['subtrn_loss'] = subtrn_losses\n",
        "            if arg == \"subtrn_acc\":\n",
        "                metric_dict['subtrn_acc'] = subtrn_acc\n",
        "            if arg == \"time\":\n",
        "                metric_dict['time'] = timing\n",
        "\n",
        "        ckpt_state = {\n",
        "            'epoch': epoch + 1,\n",
        "            'state_dict': model.state_dict(),\n",
        "            'optimizer': optimizer.state_dict(),\n",
        "            'loss': criterion_nored,\n",
        "            'metrics': metric_dict\n",
        "        }\n",
        "\n",
        "        # save checkpoint\n",
        "        save_ckpt(ckpt_state, 'model.pt')\n",
        "        logger.info(\"Model checkpoint saved at epoch: {0:d}\".format(epoch + 1))\n",
        "\n",
        "\n",
        "\"\"\"\n",
        "################################################# Results Summary #################################################\n",
        "\"\"\"\n",
        "\n",
        "logger.info(\"{0:s} Selection Run---------------------------------\".format(selection_strategy))\n",
        "logger.info(\"Final SubsetTrn: {0:f}\".format(subtrn_loss))\n",
        "if \"val_loss\" in print_args:\n",
        "    if \"val_acc\" in print_args:\n",
        "        logger.info(\"Validation Loss: %.2f , Validation Accuracy: %.2f\", val_loss, val_acc[-1])\n",
        "    else:\n",
        "        logger.info(\"Validation Loss: %.2f\", val_loss)\n",
        "\n",
        "if \"tst_loss\" in print_args:\n",
        "    if \"tst_acc\" in print_args:\n",
        "        logger.info(\"Test Loss: %.2f, Test Accuracy: %.2f\", tst_loss, tst_acc[-1])\n",
        "    else:\n",
        "        logger.info(\"Test Data Loss: %f\", tst_loss)\n",
        "logger.info('---------------------------------------------------------------------')\n",
        "logger.info(selection_strategy)\n",
        "logger.info('---------------------------------------------------------------------')\n",
        "\n",
        "\"\"\"\n",
        "################################################# Final Results Logging #################################################\n",
        "\"\"\"\n",
        "\n",
        "if \"val_acc\" in print_args:\n",
        "    val_str = \"Validation Accuracy, \"\n",
        "    for val in val_acc:\n",
        "        val_str = val_str + \" , \" + str(val)\n",
        "    logger.info(val_str)\n",
        "\n",
        "if \"tst_acc\" in print_args:\n",
        "    tst_str = \"Test Accuracy, \"\n",
        "    for tst in tst_acc:\n",
        "        tst_str = tst_str + \" , \" + str(tst)\n",
        "    logger.info(tst_str)\n",
        "\n",
        "if \"time\" in print_args:\n",
        "    time_str = \"Time, \"\n",
        "    for t in timing:\n",
        "        time_str = time_str + \" , \" + str(t)\n",
        "    logger.info(timing)\n",
        "\n",
        "timing_array = np.array(timing)\n",
        "cum_timing = list(generate_cumulative_timing(timing_array))\n",
        "logger.info(\"Total time taken by %s = %.4f \", selection_strategy, cum_timing[-1])"
      ],
      "metadata": {
        "colab": {
          "base_uri": "https://localhost:8080/"
        },
        "id": "243ksusPYc59",
        "outputId": "cefdff7e-d266-4baa-b658-c893b6a81d9a"
      },
      "execution_count": 17,
      "outputs": [
        {
          "output_type": "stream",
          "name": "stdout",
          "text": [
            "[07/20 20:08:08] __main__ INFO: Epoch: 1 , Validation Loss: 527.582976102829 , Validation Accuracy: 0.2558 , Test Loss: 20.250299096107483 , Test Accuracy: 0.2932 , Timing: 6.726057529449463\n",
            "[07/20 20:08:20] __main__ INFO: Epoch: 2 , Validation Loss: 497.2004063129425 , Validation Accuracy: 0.329 , Test Loss: 20.309651374816895 , Test Accuracy: 0.3258 , Timing: 5.50651478767395\n",
            "[07/20 20:08:32] __main__ INFO: Epoch: 3 , Validation Loss: 495.9865452051163 , Validation Accuracy: 0.3004 , Test Loss: 19.56876504421234 , Test Accuracy: 0.318 , Timing: 5.5176122188568115\n",
            "[07/20 20:08:44] __main__ INFO: Epoch: 4 , Validation Loss: 481.78805458545685 , Validation Accuracy: 0.3476 , Test Loss: 19.237823843955994 , Test Accuracy: 0.3725 , Timing: 5.544374465942383\n",
            "[07/20 20:08:56] __main__ INFO: Epoch: 5 , Validation Loss: 490.859037399292 , Validation Accuracy: 0.328 , Test Loss: 19.165969848632812 , Test Accuracy: 0.3452 , Timing: 5.467655897140503\n",
            "[07/20 20:09:08] __main__ INFO: Epoch: 6 , Validation Loss: 386.2836694717407 , Validation Accuracy: 0.4226 , Test Loss: 15.004643559455872 , Test Accuracy: 0.4338 , Timing: 5.510960817337036\n",
            "[07/20 20:09:20] __main__ INFO: Epoch: 7 , Validation Loss: 407.9647316336632 , Validation Accuracy: 0.4222 , Test Loss: 15.57383382320404 , Test Accuracy: 0.4443 , Timing: 5.944698333740234\n",
            "[07/20 20:09:32] __main__ INFO: Epoch: 8 , Validation Loss: 378.1941913366318 , Validation Accuracy: 0.4656 , Test Loss: 15.131892800331116 , Test Accuracy: 0.4772 , Timing: 5.483933925628662\n",
            "[07/20 20:09:44] __main__ INFO: Epoch: 9 , Validation Loss: 371.56859600543976 , Validation Accuracy: 0.4608 , Test Loss: 14.779168963432312 , Test Accuracy: 0.4777 , Timing: 5.482444524765015\n",
            "[07/20 20:09:56] __main__ INFO: Epoch: 10 , Validation Loss: 363.2653523683548 , Validation Accuracy: 0.4818 , Test Loss: 14.697537541389465 , Test Accuracy: 0.4837 , Timing: 5.5016562938690186\n",
            "[07/20 20:10:33] __main__ INFO: Epoch: 11, GLISTER dataloader subset selection finished, takes 37.1765. \n",
            "[07/20 20:10:45] __main__ INFO: Epoch: 11 , Validation Loss: 363.21594405174255 , Validation Accuracy: 0.4636 , Test Loss: 14.038736701011658 , Test Accuracy: 0.477 , Timing: 42.708614110946655\n",
            "[07/20 20:10:57] __main__ INFO: Epoch: 12 , Validation Loss: 388.1348180770874 , Validation Accuracy: 0.4636 , Test Loss: 15.697889804840088 , Test Accuracy: 0.4682 , Timing: 5.483453989028931\n",
            "[07/20 20:11:09] __main__ INFO: Epoch: 13 , Validation Loss: 384.2976655960083 , Validation Accuracy: 0.4326 , Test Loss: 15.444789409637451 , Test Accuracy: 0.4348 , Timing: 5.444881200790405\n",
            "[07/20 20:11:21] __main__ INFO: Epoch: 14 , Validation Loss: 329.0583505034447 , Validation Accuracy: 0.5136 , Test Loss: 12.72334909439087 , Test Accuracy: 0.5313 , Timing: 5.471501111984253\n",
            "[07/20 20:11:33] __main__ INFO: Epoch: 15 , Validation Loss: 349.6596960425377 , Validation Accuracy: 0.4652 , Test Loss: 13.875367760658264 , Test Accuracy: 0.4575 , Timing: 5.517426252365112\n",
            "[07/20 20:11:45] __main__ INFO: Epoch: 16 , Validation Loss: 371.9684515595436 , Validation Accuracy: 0.4572 , Test Loss: 15.062317490577698 , Test Accuracy: 0.4497 , Timing: 5.475602626800537\n",
            "[07/20 20:11:57] __main__ INFO: Epoch: 17 , Validation Loss: 350.9600872397423 , Validation Accuracy: 0.4988 , Test Loss: 14.05334198474884 , Test Accuracy: 0.5042 , Timing: 5.494567155838013\n",
            "[07/20 20:12:09] __main__ INFO: Epoch: 18 , Validation Loss: 316.45492446422577 , Validation Accuracy: 0.5382 , Test Loss: 12.465124368667603 , Test Accuracy: 0.547 , Timing: 5.523256301879883\n",
            "[07/20 20:12:21] __main__ INFO: Epoch: 19 , Validation Loss: 310.40296894311905 , Validation Accuracy: 0.5392 , Test Loss: 12.323673844337463 , Test Accuracy: 0.544 , Timing: 5.424252271652222\n",
            "[07/20 20:12:33] __main__ INFO: Epoch: 20 , Validation Loss: 311.3092249035835 , Validation Accuracy: 0.5364 , Test Loss: 12.40048635005951 , Test Accuracy: 0.5449 , Timing: 5.494448184967041\n",
            "[07/20 20:12:33] __main__ INFO: Model checkpoint saved at epoch: 20\n",
            "[07/20 20:13:10] __main__ INFO: Epoch: 21, GLISTER dataloader subset selection finished, takes 36.9727. \n",
            "[07/20 20:13:22] __main__ INFO: Epoch: 21 , Validation Loss: 288.7229295372963 , Validation Accuracy: 0.578 , Test Loss: 11.02296495437622 , Test Accuracy: 0.6061 , Timing: 42.510674715042114\n",
            "[07/20 20:13:33] __main__ INFO: Epoch: 22 , Validation Loss: 278.9328218102455 , Validation Accuracy: 0.5808 , Test Loss: 11.166199326515198 , Test Accuracy: 0.584 , Timing: 5.458671569824219\n",
            "[07/20 20:13:45] __main__ INFO: Epoch: 23 , Validation Loss: 281.09290343523026 , Validation Accuracy: 0.581 , Test Loss: 11.168955683708191 , Test Accuracy: 0.5961 , Timing: 5.502081871032715\n",
            "[07/20 20:13:57] __main__ INFO: Epoch: 24 , Validation Loss: 288.9111599326134 , Validation Accuracy: 0.5672 , Test Loss: 11.443248867988586 , Test Accuracy: 0.5814 , Timing: 5.448997259140015\n",
            "[07/20 20:14:09] __main__ INFO: Epoch: 25 , Validation Loss: 264.9743379354477 , Validation Accuracy: 0.6068 , Test Loss: 10.597778737545013 , Test Accuracy: 0.61 , Timing: 5.451686143875122\n",
            "[07/20 20:14:21] __main__ INFO: Epoch: 26 , Validation Loss: 250.37398651242256 , Validation Accuracy: 0.6304 , Test Loss: 10.172943949699402 , Test Accuracy: 0.6287 , Timing: 5.493372917175293\n",
            "[07/20 20:14:33] __main__ INFO: Epoch: 27 , Validation Loss: 252.3672661781311 , Validation Accuracy: 0.6274 , Test Loss: 10.129843652248383 , Test Accuracy: 0.6371 , Timing: 5.46672797203064\n",
            "[07/20 20:14:45] __main__ INFO: Epoch: 28 , Validation Loss: 246.83955493569374 , Validation Accuracy: 0.6326 , Test Loss: 9.953297913074493 , Test Accuracy: 0.6364 , Timing: 5.538886785507202\n",
            "[07/20 20:14:57] __main__ INFO: Epoch: 29 , Validation Loss: 252.30116620659828 , Validation Accuracy: 0.6282 , Test Loss: 10.112103521823883 , Test Accuracy: 0.6295 , Timing: 5.515235185623169\n",
            "[07/20 20:15:09] __main__ INFO: Epoch: 30 , Validation Loss: 247.33389204740524 , Validation Accuracy: 0.6372 , Test Loss: 10.008822500705719 , Test Accuracy: 0.632 , Timing: 5.550778865814209\n",
            "[07/20 20:15:47] __main__ INFO: Epoch: 31, GLISTER dataloader subset selection finished, takes 37.5911. \n",
            "[07/20 20:15:59] __main__ INFO: Epoch: 31 , Validation Loss: 245.56586143374443 , Validation Accuracy: 0.636 , Test Loss: 9.930002868175507 , Test Accuracy: 0.6341 , Timing: 43.14645171165466\n",
            "[07/20 20:16:11] __main__ INFO: Epoch: 32 , Validation Loss: 238.42042830586433 , Validation Accuracy: 0.6472 , Test Loss: 9.494551658630371 , Test Accuracy: 0.6575 , Timing: 5.606159448623657\n",
            "[07/20 20:16:23] __main__ INFO: Epoch: 33 , Validation Loss: 237.9706747829914 , Validation Accuracy: 0.6612 , Test Loss: 9.202225863933563 , Test Accuracy: 0.672 , Timing: 5.438732862472534\n",
            "[07/20 20:16:35] __main__ INFO: Epoch: 34 , Validation Loss: 245.74995124340057 , Validation Accuracy: 0.6522 , Test Loss: 9.518746376037598 , Test Accuracy: 0.652 , Timing: 5.500319004058838\n",
            "[07/20 20:16:46] __main__ INFO: Epoch: 35 , Validation Loss: 265.4881081581116 , Validation Accuracy: 0.609 , Test Loss: 10.455824255943298 , Test Accuracy: 0.6122 , Timing: 5.484213590621948\n",
            "[07/20 20:16:58] __main__ INFO: Epoch: 36 , Validation Loss: 266.65629905462265 , Validation Accuracy: 0.6142 , Test Loss: 10.60843575000763 , Test Accuracy: 0.6109 , Timing: 5.503331899642944\n",
            "[07/20 20:17:10] __main__ INFO: Epoch: 37 , Validation Loss: 279.0252728462219 , Validation Accuracy: 0.5898 , Test Loss: 11.296538829803467 , Test Accuracy: 0.5839 , Timing: 5.442760944366455\n",
            "[07/20 20:17:22] __main__ INFO: Epoch: 38 , Validation Loss: 301.32561099529266 , Validation Accuracy: 0.5612 , Test Loss: 12.296403408050537 , Test Accuracy: 0.5575 , Timing: 5.517561912536621\n",
            "[07/20 20:17:34] __main__ INFO: Epoch: 39 , Validation Loss: 288.063942193985 , Validation Accuracy: 0.5742 , Test Loss: 11.900805830955505 , Test Accuracy: 0.5666 , Timing: 5.471449851989746\n",
            "[07/20 20:17:46] __main__ INFO: Epoch: 40 , Validation Loss: 301.62871980667114 , Validation Accuracy: 0.56 , Test Loss: 12.245673179626465 , Test Accuracy: 0.5556 , Timing: 5.495994806289673\n",
            "[07/20 20:17:46] __main__ INFO: Model checkpoint saved at epoch: 40\n",
            "[07/20 20:18:23] __main__ INFO: Epoch: 41, GLISTER dataloader subset selection finished, takes 36.7746. \n",
            "[07/20 20:18:35] __main__ INFO: Epoch: 41 , Validation Loss: 271.3646043539047 , Validation Accuracy: 0.5992 , Test Loss: 11.24521255493164 , Test Accuracy: 0.5885 , Timing: 42.23691487312317\n",
            "[07/20 20:18:47] __main__ INFO: Epoch: 42 , Validation Loss: 298.59055346250534 , Validation Accuracy: 0.5646 , Test Loss: 11.984519839286804 , Test Accuracy: 0.5688 , Timing: 5.563914775848389\n",
            "[07/20 20:18:59] __main__ INFO: Epoch: 43 , Validation Loss: 289.5898548364639 , Validation Accuracy: 0.5804 , Test Loss: 11.436057209968567 , Test Accuracy: 0.5823 , Timing: 5.465234279632568\n",
            "[07/20 20:19:10] __main__ INFO: Epoch: 44 , Validation Loss: 342.2734696865082 , Validation Accuracy: 0.5286 , Test Loss: 14.054096221923828 , Test Accuracy: 0.5327 , Timing: 5.434233903884888\n",
            "[07/20 20:19:22] __main__ INFO: Epoch: 45 , Validation Loss: 328.66993457078934 , Validation Accuracy: 0.5302 , Test Loss: 13.37504529953003 , Test Accuracy: 0.5448 , Timing: 5.471789598464966\n",
            "[07/20 20:19:34] __main__ INFO: Epoch: 46 , Validation Loss: 328.91683691740036 , Validation Accuracy: 0.5282 , Test Loss: 13.623270988464355 , Test Accuracy: 0.5355 , Timing: 5.531588792800903\n",
            "[07/20 20:19:46] __main__ INFO: Epoch: 47 , Validation Loss: 446.2202312350273 , Validation Accuracy: 0.4554 , Test Loss: 18.068856239318848 , Test Accuracy: 0.4684 , Timing: 5.4773736000061035\n",
            "[07/20 20:19:58] __main__ INFO: Epoch: 48 , Validation Loss: 349.28921842575073 , Validation Accuracy: 0.509 , Test Loss: 14.53923773765564 , Test Accuracy: 0.5199 , Timing: 5.5347864627838135\n",
            "[07/20 20:20:11] __main__ INFO: Epoch: 49 , Validation Loss: 305.96091771125793 , Validation Accuracy: 0.5822 , Test Loss: 12.53022301197052 , Test Accuracy: 0.5921 , Timing: 5.597375154495239\n",
            "[07/20 20:20:23] __main__ INFO: Epoch: 50 , Validation Loss: 394.5183054804802 , Validation Accuracy: 0.4848 , Test Loss: 16.57975208759308 , Test Accuracy: 0.4903 , Timing: 5.618478536605835\n",
            "[07/20 20:20:23] __main__ INFO: GLISTER Selection Run---------------------------------\n",
            "[07/20 20:20:23] __main__ INFO: Final SubsetTrn: 298.920281\n",
            "[07/20 20:20:23] __main__ INFO: Validation Loss: 394.52 , Validation Accuracy: 0.48\n",
            "[07/20 20:20:23] __main__ INFO: Test Loss: 16.58, Test Accuracy: 0.49\n",
            "[07/20 20:20:23] __main__ INFO: ---------------------------------------------------------------------\n",
            "[07/20 20:20:23] __main__ INFO: GLISTER\n",
            "[07/20 20:20:23] __main__ INFO: ---------------------------------------------------------------------\n",
            "[07/20 20:20:23] __main__ INFO: Validation Accuracy,  , 0.2558 , 0.329 , 0.3004 , 0.3476 , 0.328 , 0.4226 , 0.4222 , 0.4656 , 0.4608 , 0.4818 , 0.4636 , 0.4636 , 0.4326 , 0.5136 , 0.4652 , 0.4572 , 0.4988 , 0.5382 , 0.5392 , 0.5364 , 0.578 , 0.5808 , 0.581 , 0.5672 , 0.6068 , 0.6304 , 0.6274 , 0.6326 , 0.6282 , 0.6372 , 0.636 , 0.6472 , 0.6612 , 0.6522 , 0.609 , 0.6142 , 0.5898 , 0.5612 , 0.5742 , 0.56 , 0.5992 , 0.5646 , 0.5804 , 0.5286 , 0.5302 , 0.5282 , 0.4554 , 0.509 , 0.5822 , 0.4848\n",
            "[07/20 20:20:23] __main__ INFO: Test Accuracy,  , 0.2932 , 0.3258 , 0.318 , 0.3725 , 0.3452 , 0.4338 , 0.4443 , 0.4772 , 0.4777 , 0.4837 , 0.477 , 0.4682 , 0.4348 , 0.5313 , 0.4575 , 0.4497 , 0.5042 , 0.547 , 0.544 , 0.5449 , 0.6061 , 0.584 , 0.5961 , 0.5814 , 0.61 , 0.6287 , 0.6371 , 0.6364 , 0.6295 , 0.632 , 0.6341 , 0.6575 , 0.672 , 0.652 , 0.6122 , 0.6109 , 0.5839 , 0.5575 , 0.5666 , 0.5556 , 0.5885 , 0.5688 , 0.5823 , 0.5327 , 0.5448 , 0.5355 , 0.4684 , 0.5199 , 0.5921 , 0.4903\n",
            "[07/20 20:20:23] __main__ INFO: [6.726057529449463, 5.50651478767395, 5.5176122188568115, 5.544374465942383, 5.467655897140503, 5.510960817337036, 5.944698333740234, 5.483933925628662, 5.482444524765015, 5.5016562938690186, 42.708614110946655, 5.483453989028931, 5.444881200790405, 5.471501111984253, 5.517426252365112, 5.475602626800537, 5.494567155838013, 5.523256301879883, 5.424252271652222, 5.494448184967041, 42.510674715042114, 5.458671569824219, 5.502081871032715, 5.448997259140015, 5.451686143875122, 5.493372917175293, 5.46672797203064, 5.538886785507202, 5.515235185623169, 5.550778865814209, 43.14645171165466, 5.606159448623657, 5.438732862472534, 5.500319004058838, 5.484213590621948, 5.503331899642944, 5.442760944366455, 5.517561912536621, 5.471449851989746, 5.495994806289673, 42.23691487312317, 5.563914775848389, 5.465234279632568, 5.434233903884888, 5.471789598464966, 5.531588792800903, 5.4773736000061035, 5.5347864627838135, 5.597375154495239, 5.618478536605835]\n",
            "[07/20 20:20:23] __main__ INFO: Total time taken by GLISTER = 0.1181 \n"
          ]
        }
      ]
    },
    {
      "cell_type": "code",
      "source": [
        "print(f\"Average Time / Epoch: {np.mean(timing)} \\nTotal Epochs: {num_epochs}\")"
      ],
      "metadata": {
        "id": "rEw6yODiL_CJ",
        "colab": {
          "base_uri": "https://localhost:8080/"
        },
        "outputId": "c5edee16-126b-49d0-f399-2c94176dfcad"
      },
      "execution_count": 18,
      "outputs": [
        {
          "output_type": "stream",
          "name": "stdout",
          "text": [
            "Average Time / Epoch: 8.503993825912476 \n",
            "Total Epochs: 50\n"
          ]
        }
      ]
    },
    {
      "cell_type": "code",
      "source": [
        "gpu_info = !nvidia-smi\n",
        "gpu_info = '\\n'.join(gpu_info)\n",
        "if gpu_info.find('failed') >= 0:\n",
        "  print('Not connected to a GPU')\n",
        "else:\n",
        "  print(gpu_info)"
      ],
      "metadata": {
        "id": "OiR1Rbi5CgrY",
        "colab": {
          "base_uri": "https://localhost:8080/"
        },
        "outputId": "383d55ba-286c-4e94-d692-59cca42ec329"
      },
      "execution_count": 19,
      "outputs": [
        {
          "output_type": "stream",
          "name": "stdout",
          "text": [
            "Wed Jul 20 20:20:23 2022       \n",
            "+-----------------------------------------------------------------------------+\n",
            "| NVIDIA-SMI 460.32.03    Driver Version: 460.32.03    CUDA Version: 11.2     |\n",
            "|-------------------------------+----------------------+----------------------+\n",
            "| GPU  Name        Persistence-M| Bus-Id        Disp.A | Volatile Uncorr. ECC |\n",
            "| Fan  Temp  Perf  Pwr:Usage/Cap|         Memory-Usage | GPU-Util  Compute M. |\n",
            "|                               |                      |               MIG M. |\n",
            "|===============================+======================+======================|\n",
            "|   0  Tesla P100-PCIE...  Off  | 00000000:00:04.0 Off |                    0 |\n",
            "| N/A   62C    P0    46W / 250W |   5069MiB / 16280MiB |     49%      Default |\n",
            "|                               |                      |                  N/A |\n",
            "+-------------------------------+----------------------+----------------------+\n",
            "                                                                               \n",
            "+-----------------------------------------------------------------------------+\n",
            "| Processes:                                                                  |\n",
            "|  GPU   GI   CI        PID   Type   Process name                  GPU Memory |\n",
            "|        ID   ID                                                   Usage      |\n",
            "|=============================================================================|\n",
            "+-----------------------------------------------------------------------------+\n"
          ]
        }
      ]
    },
    {
      "cell_type": "code",
      "source": [
        ""
      ],
      "metadata": {
        "id": "9hnoIcO1L1iy"
      },
      "execution_count": 19,
      "outputs": []
    }
  ]
}