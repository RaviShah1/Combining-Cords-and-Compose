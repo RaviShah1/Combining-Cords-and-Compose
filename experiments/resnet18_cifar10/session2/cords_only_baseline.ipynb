{
  "nbformat": 4,
  "nbformat_minor": 0,
  "metadata": {
    "colab": {
      "name": "Combining Coords and Composer.ipynb",
      "provenance": [],
      "collapsed_sections": [],
      "include_colab_link": true
    },
    "kernelspec": {
      "name": "python3",
      "display_name": "Python 3"
    },
    "language_info": {
      "name": "python"
    },
    "accelerator": "GPU"
  },
  "cells": [
    {
      "cell_type": "markdown",
      "metadata": {
        "id": "view-in-github",
        "colab_type": "text"
      },
      "source": [
        "<a href=\"https://colab.research.google.com/github/RaviShah1/Combining-Cords-and-Composer/blob/main/experiments/resnet18_cifar10/session2/cords_only_baseline.ipynb\" target=\"_parent\"><img src=\"https://colab.research.google.com/assets/colab-badge.svg\" alt=\"Open In Colab\"/></a>"
      ]
    },
    {
      "cell_type": "code",
      "source": [
        "!git clone https://github.com/decile-team/cords.git\n",
        "%cd cords\n",
        "%ls"
      ],
      "metadata": {
        "id": "pJewp117QDUI",
        "outputId": "e2c54515-9c25-475a-f3c5-89dfd4da6483",
        "colab": {
          "base_uri": "https://localhost:8080/"
        }
      },
      "execution_count": 1,
      "outputs": [
        {
          "output_type": "stream",
          "name": "stdout",
          "text": [
            "fatal: destination path 'cords' already exists and is not an empty directory.\n",
            "/content/cords\n",
            "\u001b[0m\u001b[01;34mbenchmarks\u001b[0m/   \u001b[01;34mcords\u001b[0m/  \u001b[01;34mexamples\u001b[0m/    \u001b[01;34mrequirements\u001b[0m/  \u001b[01;34mtests\u001b[0m/        train_ssl.py\n",
            "CITATION.CFF  \u001b[01;34mdata\u001b[0m/   LICENSE.txt  \u001b[01;34mresults\u001b[0m/       train_hpo.py\n",
            "\u001b[01;34mconfigs\u001b[0m/      \u001b[01;34mdocs\u001b[0m/   README.md    setup.py       train_sl.py\n"
          ]
        }
      ]
    },
    {
      "cell_type": "code",
      "source": [
        "!pip install dotmap apricot-select ray[default] ray[tune] mosaicml\n"
      ],
      "metadata": {
        "colab": {
          "base_uri": "https://localhost:8080/"
        },
        "id": "37QszJkXYAZz",
        "outputId": "9918a6df-0365-4916-e624-749e48d5c0c5"
      },
      "execution_count": 2,
      "outputs": [
        {
          "output_type": "stream",
          "name": "stdout",
          "text": [
            "Looking in indexes: https://pypi.org/simple, https://us-python.pkg.dev/colab-wheels/public/simple/\n",
            "Requirement already satisfied: dotmap in /usr/local/lib/python3.7/dist-packages (1.3.30)\n",
            "Requirement already satisfied: apricot-select in /usr/local/lib/python3.7/dist-packages (0.6.1)\n",
            "Requirement already satisfied: ray[default] in /usr/local/lib/python3.7/dist-packages (1.13.0)\n",
            "Requirement already satisfied: mosaicml in /usr/local/lib/python3.7/dist-packages (0.8.0)\n",
            "Requirement already satisfied: scipy>=1.0.0 in /usr/local/lib/python3.7/dist-packages (from apricot-select) (1.7.3)\n",
            "Requirement already satisfied: nose in /usr/local/lib/python3.7/dist-packages (from apricot-select) (1.3.7)\n",
            "Requirement already satisfied: tqdm>=4.24.0 in /usr/local/lib/python3.7/dist-packages (from apricot-select) (4.64.0)\n",
            "Requirement already satisfied: numpy>=1.14.2 in /usr/local/lib/python3.7/dist-packages (from apricot-select) (1.21.6)\n",
            "Requirement already satisfied: numba>=0.43.0 in /usr/local/lib/python3.7/dist-packages (from apricot-select) (0.51.2)\n",
            "Requirement already satisfied: llvmlite<0.35,>=0.34.0.dev0 in /usr/local/lib/python3.7/dist-packages (from numba>=0.43.0->apricot-select) (0.34.0)\n",
            "Requirement already satisfied: setuptools in /usr/local/lib/python3.7/dist-packages (from numba>=0.43.0->apricot-select) (57.4.0)\n",
            "Requirement already satisfied: torchvision>=0.10.0 in /usr/local/lib/python3.7/dist-packages (from mosaicml) (0.13.0+cu113)\n",
            "Requirement already satisfied: py-cpuinfo>=8.0.0 in /usr/local/lib/python3.7/dist-packages (from mosaicml) (8.0.0)\n",
            "Requirement already satisfied: torchmetrics<0.8,>=0.7.0 in /usr/local/lib/python3.7/dist-packages (from mosaicml) (0.7.3)\n",
            "Requirement already satisfied: pyyaml<7,>=6.0 in /usr/local/lib/python3.7/dist-packages (from mosaicml) (6.0)\n",
            "Requirement already satisfied: psutil<6,>=5.8.0 in /usr/local/lib/python3.7/dist-packages (from mosaicml) (5.9.1)\n",
            "Requirement already satisfied: torch<2,>=1.9 in /usr/local/lib/python3.7/dist-packages (from mosaicml) (1.12.0+cu113)\n",
            "Requirement already satisfied: requests<3,>=2.26.0 in /usr/local/lib/python3.7/dist-packages (from mosaicml) (2.28.1)\n",
            "Requirement already satisfied: coolname<2,>=1.1.0 in /usr/local/lib/python3.7/dist-packages (from mosaicml) (1.1.0)\n",
            "Requirement already satisfied: yahp<0.2,>=0.1.1 in /usr/local/lib/python3.7/dist-packages (from mosaicml) (0.1.1)\n",
            "Requirement already satisfied: torch-optimizer<0.2,>=0.1.0 in /usr/local/lib/python3.7/dist-packages (from mosaicml) (0.1.0)\n",
            "Requirement already satisfied: idna<4,>=2.5 in /usr/local/lib/python3.7/dist-packages (from requests<3,>=2.26.0->mosaicml) (2.10)\n",
            "Requirement already satisfied: urllib3<1.27,>=1.21.1 in /usr/local/lib/python3.7/dist-packages (from requests<3,>=2.26.0->mosaicml) (1.24.3)\n",
            "Requirement already satisfied: certifi>=2017.4.17 in /usr/local/lib/python3.7/dist-packages (from requests<3,>=2.26.0->mosaicml) (2022.6.15)\n",
            "Requirement already satisfied: charset-normalizer<3,>=2 in /usr/local/lib/python3.7/dist-packages (from requests<3,>=2.26.0->mosaicml) (2.1.0)\n",
            "Requirement already satisfied: typing-extensions in /usr/local/lib/python3.7/dist-packages (from torch<2,>=1.9->mosaicml) (4.1.1)\n",
            "Requirement already satisfied: pytorch-ranger>=0.1.1 in /usr/local/lib/python3.7/dist-packages (from torch-optimizer<0.2,>=0.1.0->mosaicml) (0.1.1)\n",
            "Requirement already satisfied: pyDeprecate==0.3.* in /usr/local/lib/python3.7/dist-packages (from torchmetrics<0.8,>=0.7.0->mosaicml) (0.3.2)\n",
            "Requirement already satisfied: packaging in /usr/local/lib/python3.7/dist-packages (from torchmetrics<0.8,>=0.7.0->mosaicml) (21.3)\n",
            "Requirement already satisfied: pillow!=8.3.*,>=5.3.0 in /usr/local/lib/python3.7/dist-packages (from torchvision>=0.10.0->mosaicml) (7.1.2)\n",
            "Requirement already satisfied: docstring-parser<=0.15,>=0.14.1 in /usr/local/lib/python3.7/dist-packages (from yahp<0.2,>=0.1.1->mosaicml) (0.14.1)\n",
            "Requirement already satisfied: ruamel.yaml>=0.17.10 in /usr/local/lib/python3.7/dist-packages (from yahp<0.2,>=0.1.1->mosaicml) (0.17.21)\n",
            "Requirement already satisfied: ruamel.yaml.clib>=0.2.6 in /usr/local/lib/python3.7/dist-packages (from ruamel.yaml>=0.17.10->yahp<0.2,>=0.1.1->mosaicml) (0.2.6)\n",
            "Requirement already satisfied: pyparsing!=3.0.5,>=2.0.2 in /usr/local/lib/python3.7/dist-packages (from packaging->torchmetrics<0.8,>=0.7.0->mosaicml) (3.0.9)\n",
            "Requirement already satisfied: aiosignal in /usr/local/lib/python3.7/dist-packages (from ray[default]) (1.2.0)\n",
            "Requirement already satisfied: virtualenv in /usr/local/lib/python3.7/dist-packages (from ray[default]) (20.15.1)\n",
            "Requirement already satisfied: attrs in /usr/local/lib/python3.7/dist-packages (from ray[default]) (21.4.0)\n",
            "Requirement already satisfied: protobuf<4.0.0,>=3.15.3 in /usr/local/lib/python3.7/dist-packages (from ray[default]) (3.17.3)\n",
            "Requirement already satisfied: filelock in /usr/local/lib/python3.7/dist-packages (from ray[default]) (3.7.1)\n",
            "Requirement already satisfied: msgpack<2.0.0,>=1.0.0 in /usr/local/lib/python3.7/dist-packages (from ray[default]) (1.0.4)\n",
            "Requirement already satisfied: frozenlist in /usr/local/lib/python3.7/dist-packages (from ray[default]) (1.3.0)\n",
            "Requirement already satisfied: jsonschema in /usr/local/lib/python3.7/dist-packages (from ray[default]) (4.3.3)\n",
            "Requirement already satisfied: grpcio<=1.43.0,>=1.28.1 in /usr/local/lib/python3.7/dist-packages (from ray[default]) (1.43.0)\n",
            "Requirement already satisfied: click<=8.0.4,>=7.0 in /usr/local/lib/python3.7/dist-packages (from ray[default]) (7.1.2)\n",
            "Requirement already satisfied: py-spy>=0.2.0 in /usr/local/lib/python3.7/dist-packages (from ray[default]) (0.3.12)\n",
            "Requirement already satisfied: gpustat>=1.0.0b1 in /usr/local/lib/python3.7/dist-packages (from ray[default]) (1.0.0rc1)\n",
            "Requirement already satisfied: opencensus in /usr/local/lib/python3.7/dist-packages (from ray[default]) (0.10.0)\n",
            "Requirement already satisfied: aiohttp>=3.7 in /usr/local/lib/python3.7/dist-packages (from ray[default]) (3.8.1)\n",
            "Requirement already satisfied: colorful in /usr/local/lib/python3.7/dist-packages (from ray[default]) (0.5.4)\n",
            "Requirement already satisfied: aiohttp-cors in /usr/local/lib/python3.7/dist-packages (from ray[default]) (0.7.0)\n",
            "Requirement already satisfied: smart-open in /usr/local/lib/python3.7/dist-packages (from ray[default]) (5.2.1)\n",
            "Requirement already satisfied: prometheus-client<0.14.0,>=0.7.1 in /usr/local/lib/python3.7/dist-packages (from ray[default]) (0.13.1)\n",
            "Requirement already satisfied: async-timeout<5.0,>=4.0.0a3 in /usr/local/lib/python3.7/dist-packages (from aiohttp>=3.7->ray[default]) (4.0.2)\n",
            "Requirement already satisfied: asynctest==0.13.0 in /usr/local/lib/python3.7/dist-packages (from aiohttp>=3.7->ray[default]) (0.13.0)\n",
            "Requirement already satisfied: multidict<7.0,>=4.5 in /usr/local/lib/python3.7/dist-packages (from aiohttp>=3.7->ray[default]) (6.0.2)\n",
            "Requirement already satisfied: yarl<2.0,>=1.0 in /usr/local/lib/python3.7/dist-packages (from aiohttp>=3.7->ray[default]) (1.7.2)\n",
            "Requirement already satisfied: six>=1.7 in /usr/local/lib/python3.7/dist-packages (from gpustat>=1.0.0b1->ray[default]) (1.15.0)\n",
            "Requirement already satisfied: blessed>=1.17.1 in /usr/local/lib/python3.7/dist-packages (from gpustat>=1.0.0b1->ray[default]) (1.19.1)\n",
            "Requirement already satisfied: nvidia-ml-py<=11.495.46,>=11.450.129 in /usr/local/lib/python3.7/dist-packages (from gpustat>=1.0.0b1->ray[default]) (11.495.46)\n",
            "Requirement already satisfied: wcwidth>=0.1.4 in /usr/local/lib/python3.7/dist-packages (from blessed>=1.17.1->gpustat>=1.0.0b1->ray[default]) (0.2.5)\n",
            "Requirement already satisfied: pyrsistent!=0.17.0,!=0.17.1,!=0.17.2,>=0.14.0 in /usr/local/lib/python3.7/dist-packages (from jsonschema->ray[default]) (0.18.1)\n",
            "Requirement already satisfied: importlib-resources>=1.4.0 in /usr/local/lib/python3.7/dist-packages (from jsonschema->ray[default]) (5.8.0)\n",
            "Requirement already satisfied: importlib-metadata in /usr/local/lib/python3.7/dist-packages (from jsonschema->ray[default]) (4.12.0)\n",
            "Requirement already satisfied: zipp>=3.1.0 in /usr/local/lib/python3.7/dist-packages (from importlib-resources>=1.4.0->jsonschema->ray[default]) (3.8.0)\n",
            "Requirement already satisfied: opencensus-context>=0.1.2 in /usr/local/lib/python3.7/dist-packages (from opencensus->ray[default]) (0.1.2)\n",
            "Requirement already satisfied: google-api-core<3.0.0,>=1.0.0 in /usr/local/lib/python3.7/dist-packages (from opencensus->ray[default]) (1.31.6)\n",
            "Requirement already satisfied: googleapis-common-protos<2.0dev,>=1.6.0 in /usr/local/lib/python3.7/dist-packages (from google-api-core<3.0.0,>=1.0.0->opencensus->ray[default]) (1.56.3)\n",
            "Requirement already satisfied: pytz in /usr/local/lib/python3.7/dist-packages (from google-api-core<3.0.0,>=1.0.0->opencensus->ray[default]) (2022.1)\n",
            "Requirement already satisfied: google-auth<2.0dev,>=1.25.0 in /usr/local/lib/python3.7/dist-packages (from google-api-core<3.0.0,>=1.0.0->opencensus->ray[default]) (1.35.0)\n",
            "Requirement already satisfied: cachetools<5.0,>=2.0.0 in /usr/local/lib/python3.7/dist-packages (from google-auth<2.0dev,>=1.25.0->google-api-core<3.0.0,>=1.0.0->opencensus->ray[default]) (4.2.4)\n",
            "Requirement already satisfied: rsa<5,>=3.1.4 in /usr/local/lib/python3.7/dist-packages (from google-auth<2.0dev,>=1.25.0->google-api-core<3.0.0,>=1.0.0->opencensus->ray[default]) (4.8)\n",
            "Requirement already satisfied: pyasn1-modules>=0.2.1 in /usr/local/lib/python3.7/dist-packages (from google-auth<2.0dev,>=1.25.0->google-api-core<3.0.0,>=1.0.0->opencensus->ray[default]) (0.2.8)\n",
            "Requirement already satisfied: pyasn1<0.5.0,>=0.4.6 in /usr/local/lib/python3.7/dist-packages (from pyasn1-modules>=0.2.1->google-auth<2.0dev,>=1.25.0->google-api-core<3.0.0,>=1.0.0->opencensus->ray[default]) (0.4.8)\n",
            "Requirement already satisfied: pandas in /usr/local/lib/python3.7/dist-packages (from ray[default]) (1.3.5)\n",
            "Requirement already satisfied: tabulate in /usr/local/lib/python3.7/dist-packages (from ray[default]) (0.8.10)\n",
            "Requirement already satisfied: tensorboardX>=1.9 in /usr/local/lib/python3.7/dist-packages (from ray[default]) (2.5.1)\n",
            "Requirement already satisfied: python-dateutil>=2.7.3 in /usr/local/lib/python3.7/dist-packages (from pandas->ray[default]) (2.8.2)\n",
            "Requirement already satisfied: distlib<1,>=0.3.1 in /usr/local/lib/python3.7/dist-packages (from virtualenv->ray[default]) (0.3.5)\n",
            "Requirement already satisfied: platformdirs<3,>=2 in /usr/local/lib/python3.7/dist-packages (from virtualenv->ray[default]) (2.5.2)\n"
          ]
        }
      ]
    },
    {
      "cell_type": "code",
      "source": [
        "import time\n",
        "import numpy as np\n",
        "import os\n",
        "import torch\n",
        "import torch.nn as nn\n",
        "import torch.optim as optim\n",
        "from torchvision.models import resnet18\n",
        "from cords.utils.data.datasets.SL import gen_dataset\n",
        "from torch.utils.data import Subset\n",
        "from cords.utils.config_utils import load_config_data\n",
        "import os.path as osp\n",
        "from cords.utils.data.data_utils import WeightedSubset\n",
        "from composer import functional as cf\n",
        "from ray import tune"
      ],
      "metadata": {
        "id": "IFtimJsDYBSm"
      },
      "execution_count": 3,
      "outputs": []
    },
    {
      "cell_type": "code",
      "source": [
        "trainset, validset, testset, num_cls = gen_dataset('data/', 'cifar10', None, isnumpy=False)"
      ],
      "metadata": {
        "colab": {
          "base_uri": "https://localhost:8080/"
        },
        "id": "fCOZOz0CYDmA",
        "outputId": "0cb64b23-d110-4b0a-9798-b8d6aed42e0d"
      },
      "execution_count": 4,
      "outputs": [
        {
          "output_type": "stream",
          "name": "stdout",
          "text": [
            "Files already downloaded and verified\n",
            "Files already downloaded and verified\n"
          ]
        }
      ]
    },
    {
      "cell_type": "code",
      "source": [
        "trn_batch_size = 20\n",
        "val_batch_size = 20\n",
        "tst_batch_size = 1000\n",
        "\n",
        "# Creating the Data Loaders\n",
        "trainloader = torch.utils.data.DataLoader(trainset, batch_size=trn_batch_size,\n",
        "                                          shuffle=False, pin_memory=True)\n",
        "\n",
        "valloader = torch.utils.data.DataLoader(validset, batch_size=val_batch_size,\n",
        "                                        shuffle=False, pin_memory=True)\n",
        "\n",
        "testloader = torch.utils.data.DataLoader(testset, batch_size=tst_batch_size,\n",
        "                                          shuffle=False, pin_memory=True)"
      ],
      "metadata": {
        "id": "JJji-yh0YIEY"
      },
      "execution_count": 5,
      "outputs": []
    },
    {
      "cell_type": "code",
      "source": [
        "from cords.utils.models import ResNet18\n",
        "numclasses = 10\n",
        "device = 'cuda' #Device Argument\n",
        "model = ResNet18(10)\n",
        "model = model.to(device)"
      ],
      "metadata": {
        "id": "6Qj5KIyEYJ8M"
      },
      "execution_count": 6,
      "outputs": []
    },
    {
      "cell_type": "code",
      "source": [
        "criterion = nn.CrossEntropyLoss()\n",
        "criterion_nored = nn.CrossEntropyLoss(reduction='none')"
      ],
      "metadata": {
        "id": "8Tvpow1wYLWZ"
      },
      "execution_count": 7,
      "outputs": []
    },
    {
      "cell_type": "code",
      "source": [
        "def save_ckpt(state, ckpt_path):\n",
        "    torch.save(state, ckpt_path)\n",
        "\n",
        "\n",
        "def load_ckpt(ckpt_path, model, optimizer):\n",
        "    checkpoint = torch.load(ckpt_path)\n",
        "    start_epoch = checkpoint['epoch']\n",
        "    model.load_state_dict(checkpoint['state_dict'])\n",
        "    optimizer.load_state_dict(checkpoint['optimizer'])\n",
        "    loss = checkpoint['loss']\n",
        "    metrics = checkpoint['metrics']\n",
        "    return start_epoch, model, optimizer, loss, metrics"
      ],
      "metadata": {
        "id": "uJhZ8d3vYNBh"
      },
      "execution_count": 8,
      "outputs": []
    },
    {
      "cell_type": "code",
      "source": [
        "def generate_cumulative_timing(mod_timing):\n",
        "    tmp = 0\n",
        "    mod_cum_timing = np.zeros(len(mod_timing))\n",
        "    for i in range(len(mod_timing)):\n",
        "        tmp += mod_timing[i]\n",
        "        mod_cum_timing[i] = tmp\n",
        "    return mod_cum_timing / 3600"
      ],
      "metadata": {
        "id": "0hx_sinTYOdX"
      },
      "execution_count": 9,
      "outputs": []
    },
    {
      "cell_type": "code",
      "source": [
        "optimizer = optim.SGD(model.parameters(), lr=1e-2,\n",
        "                                  momentum=0.9,\n",
        "                                  weight_decay=5e-4,\n",
        "                                  nesterov=False)\n",
        "\n",
        "#T_max is the maximum number of scheduler steps. Here we are using the number of epochs as the maximum number of scheduler steps.\n",
        "\n",
        "scheduler = torch.optim.lr_scheduler.CosineAnnealingLR(optimizer,\n",
        "                                                       T_max=30)"
      ],
      "metadata": {
        "id": "kLHSf3WEYP3_"
      },
      "execution_count": 10,
      "outputs": []
    },
    {
      "cell_type": "code",
      "source": [
        "def __get_logger(results_dir):\n",
        "  os.makedirs(results_dir, exist_ok=True)\n",
        "  # setup logger\n",
        "  plain_formatter = logging.Formatter(\"[%(asctime)s] %(name)s %(levelname)s: %(message)s\",\n",
        "                                      datefmt=\"%m/%d %H:%M:%S\")\n",
        "  logger = logging.getLogger(__name__)\n",
        "  logger.setLevel(logging.INFO)\n",
        "  s_handler = logging.StreamHandler(stream=sys.stdout)\n",
        "  s_handler.setFormatter(plain_formatter)\n",
        "  s_handler.setLevel(logging.INFO)\n",
        "  logger.addHandler(s_handler)\n",
        "  f_handler = logging.FileHandler(os.path.join(results_dir, \"results.log\"))\n",
        "  f_handler.setFormatter(plain_formatter)\n",
        "  f_handler.setLevel(logging.DEBUG)\n",
        "  logger.addHandler(f_handler)\n",
        "  logger.propagate = False\n",
        "  return logger"
      ],
      "metadata": {
        "id": "wAopp5oFYRJJ"
      },
      "execution_count": 11,
      "outputs": []
    },
    {
      "cell_type": "code",
      "source": [
        "import logging\n",
        "import os\n",
        "import os.path as osp\n",
        "import sys\n",
        "\n",
        "#Results logging directory\n",
        "results_dir = osp.abspath(osp.expanduser('results'))\n",
        "logger = __get_logger(results_dir)"
      ],
      "metadata": {
        "id": "6AQkQW5XYSqA"
      },
      "execution_count": 12,
      "outputs": []
    },
    {
      "cell_type": "code",
      "source": [
        "logger.info(\"hello\")"
      ],
      "metadata": {
        "colab": {
          "base_uri": "https://localhost:8080/"
        },
        "id": "IAh0aXRKYWzi",
        "outputId": "0afe6cb6-edf3-41fa-a5c2-2da50580fea9"
      },
      "execution_count": 13,
      "outputs": [
        {
          "output_type": "stream",
          "name": "stdout",
          "text": [
            "[07/20 16:18:03] __main__ INFO: hello\n"
          ]
        }
      ]
    },
    {
      "cell_type": "code",
      "source": [
        "from cords.utils.data.dataloader.SL.adaptive import GLISTERDataLoader, OLRandomDataLoader, \\\n",
        "    CRAIGDataLoader, GradMatchDataLoader, RandomDataLoader\n",
        "from dotmap import DotMap\n",
        "\n",
        "selection_strategy = 'GLISTER'\n",
        "dss_args = dict(model=model,\n",
        "                loss=criterion_nored,\n",
        "                eta=0.01,\n",
        "                num_classes=10,\n",
        "                num_epochs=150,\n",
        "                device='cuda',\n",
        "                fraction=0.1,\n",
        "                select_every=10,\n",
        "                kappa=0,\n",
        "                linear_layer=False,\n",
        "                selection_type='SL',\n",
        "                greedy='Stochastic')\n",
        "dss_args = DotMap(dss_args)\n",
        "\n",
        "dataloader = GLISTERDataLoader(trainloader, valloader, dss_args, logger, \n",
        "                                  batch_size=20, \n",
        "                                  shuffle=True,\n",
        "                                  pin_memory=False)"
      ],
      "metadata": {
        "colab": {
          "base_uri": "https://localhost:8080/"
        },
        "id": "P72TwdhcYYL8",
        "outputId": "0bddc27a-e82b-440b-ad92-2b735a9712a8"
      },
      "execution_count": 14,
      "outputs": [
        {
          "output_type": "stream",
          "name": "stderr",
          "text": [
            "/usr/local/lib/python3.7/dist-packages/numba/np/ufunc/parallel.py:363: NumbaWarning: \u001b[1mThe TBB threading layer requires TBB version 2019.5 or later i.e., TBB_INTERFACE_VERSION >= 11005. Found TBB_INTERFACE_VERSION = 9107. The TBB threading layer is disabled.\u001b[0m\n",
            "  warnings.warn(problem)\n"
          ]
        }
      ]
    },
    {
      "cell_type": "code",
      "source": [
        "#Training Arguments\n",
        "num_epochs = 150\n",
        "\n",
        "#Arguments for results logging\n",
        "print_every = 1\n",
        "print_args = [\"val_loss\", \"val_acc\", \"tst_loss\", \"tst_acc\", \"time\"]\n",
        "\n",
        "#Argumets for checkpointing\n",
        "save_every = 20\n",
        "is_save = True\n",
        "\n",
        "#Evaluation Metrics\n",
        "trn_losses = list()\n",
        "val_losses = list()\n",
        "tst_losses = list()\n",
        "subtrn_losses = list()\n",
        "timing = list()\n",
        "trn_acc = list()\n",
        "val_acc = list()  \n",
        "tst_acc = list()  \n",
        "subtrn_acc = list()"
      ],
      "metadata": {
        "id": "hN182L3MYa8a"
      },
      "execution_count": 15,
      "outputs": []
    },
    {
      "cell_type": "code",
      "source": [
        "\"\"\"\n",
        "################################################# Training Loop #################################################\n",
        "\"\"\"\n",
        "for epoch in range(num_epochs):\n",
        "    subtrn_loss = 0\n",
        "    subtrn_correct = 0\n",
        "    subtrn_total = 0\n",
        "    model.train()\n",
        "    start_time = time.time()\n",
        "    for _, (inputs, targets, weights) in enumerate(dataloader):\n",
        "        inputs = inputs.to(device)\n",
        "        targets = targets.to(device, non_blocking=True)\n",
        "        weights = weights.to(device)  \n",
        "        optimizer.zero_grad()\n",
        "        outputs = model(inputs)\n",
        "        losses = criterion_nored(outputs, targets)\n",
        "        loss = torch.dot(losses, weights/(weights.sum()))\n",
        "        loss.backward()\n",
        "        subtrn_loss += loss.item()\n",
        "        optimizer.step()\n",
        "        _, predicted = outputs.max(1)\n",
        "        subtrn_total += targets.size(0)\n",
        "        subtrn_correct += predicted.eq(targets).sum().item()\n",
        "    epoch_time = time.time() - start_time\n",
        "    scheduler.step()\n",
        "    timing.append(epoch_time)\n",
        "\n",
        "\n",
        "    \"\"\"\n",
        "    ################################################# Evaluation Loop #################################################\n",
        "    \"\"\"\n",
        "\n",
        "    if (epoch + 1) % print_every == 0:\n",
        "        trn_loss = 0\n",
        "        trn_correct = 0\n",
        "        trn_total = 0\n",
        "        val_loss = 0\n",
        "        val_correct = 0\n",
        "        val_total = 0\n",
        "        tst_correct = 0\n",
        "        tst_total = 0\n",
        "        tst_loss = 0\n",
        "        model.eval()\n",
        "\n",
        "        if (\"trn_loss\" in print_args) or (\"trn_acc\" in print_args):\n",
        "            with torch.no_grad():\n",
        "                for _, (inputs, targets) in enumerate(trainloader):\n",
        "                    inputs, targets = inputs.to(device), \\\n",
        "                                      targets.to(device, non_blocking=True)\n",
        "                    outputs = model(inputs)\n",
        "                    loss = criterion(outputs, targets)\n",
        "                    trn_loss += loss.item()\n",
        "                    if \"trn_acc\" in print_args:\n",
        "                        _, predicted = outputs.max(1)\n",
        "                        trn_total += targets.size(0)\n",
        "                        trn_correct += predicted.eq(targets).sum().item()\n",
        "                trn_losses.append(trn_loss)\n",
        "\n",
        "            if \"trn_acc\" in print_args:\n",
        "                trn_acc.append(trn_correct / trn_total)\n",
        "\n",
        "        if (\"val_loss\" in print_args) or (\"val_acc\" in print_args):\n",
        "            with torch.no_grad():\n",
        "                for _, (inputs, targets) in enumerate(valloader):\n",
        "                    inputs, targets = inputs.to(device), \\\n",
        "                                      targets.to(device, non_blocking=True)\n",
        "                    outputs = model(inputs)\n",
        "                    loss = criterion(outputs, targets)\n",
        "                    val_loss += loss.item()\n",
        "                    if \"val_acc\" in print_args:\n",
        "                        _, predicted = outputs.max(1)\n",
        "                        val_total += targets.size(0)\n",
        "                        val_correct += predicted.eq(targets).sum().item()\n",
        "                val_losses.append(val_loss)\n",
        "\n",
        "            if \"val_acc\" in print_args:\n",
        "                val_acc.append(val_correct / val_total)\n",
        "\n",
        "        if (\"tst_loss\" in print_args) or (\"tst_acc\" in print_args):\n",
        "            with torch.no_grad():\n",
        "                for _, (inputs, targets) in enumerate(testloader):\n",
        "                    inputs, targets = inputs.to(device), \\\n",
        "                                      targets.to(device, non_blocking=True)\n",
        "                    outputs = model(inputs)\n",
        "                    loss = criterion(outputs, targets)\n",
        "                    tst_loss += loss.item()\n",
        "                    if \"tst_acc\" in print_args:\n",
        "                        _, predicted = outputs.max(1)\n",
        "                        tst_total += targets.size(0)\n",
        "                        tst_correct += predicted.eq(targets).sum().item()\n",
        "                tst_losses.append(tst_loss)\n",
        "\n",
        "            if \"tst_acc\" in print_args:\n",
        "                tst_acc.append(tst_correct / tst_total)\n",
        "\n",
        "        if \"subtrn_acc\" in print_args:\n",
        "            subtrn_acc.append(subtrn_correct / subtrn_total)\n",
        "\n",
        "        if \"subtrn_losses\" in print_args:\n",
        "            subtrn_losses.append(subtrn_loss)\n",
        "\n",
        "        print_str = \"Epoch: \" + str(epoch + 1)\n",
        "\n",
        "        \"\"\"\n",
        "        ################################################# Results Printing #################################################\n",
        "        \"\"\"\n",
        "\n",
        "        for arg in print_args:\n",
        "\n",
        "            if arg == \"val_loss\":\n",
        "                print_str += \" , \" + \"Validation Loss: \" + str(val_losses[-1])\n",
        "\n",
        "            if arg == \"val_acc\":\n",
        "                print_str += \" , \" + \"Validation Accuracy: \" + str(val_acc[-1])\n",
        "\n",
        "            if arg == \"tst_loss\":\n",
        "                print_str += \" , \" + \"Test Loss: \" + str(tst_losses[-1])\n",
        "\n",
        "            if arg == \"tst_acc\":\n",
        "                print_str += \" , \" + \"Test Accuracy: \" + str(tst_acc[-1])\n",
        "\n",
        "            if arg == \"trn_loss\":\n",
        "                print_str += \" , \" + \"Training Loss: \" + str(trn_losses[-1])\n",
        "\n",
        "            if arg == \"trn_acc\":\n",
        "                print_str += \" , \" + \"Training Accuracy: \" + str(trn_acc[-1])\n",
        "\n",
        "            if arg == \"subtrn_loss\":\n",
        "                print_str += \" , \" + \"Subset Loss: \" + str(subtrn_losses[-1])\n",
        "\n",
        "            if arg == \"subtrn_acc\":\n",
        "                print_str += \" , \" + \"Subset Accuracy: \" + str(subtrn_acc[-1])\n",
        "\n",
        "            if arg == \"time\":\n",
        "                print_str += \" , \" + \"Timing: \" + str(timing[-1])\n",
        "\n",
        "        logger.info(print_str)\n",
        "\n",
        "    \"\"\"\n",
        "    ################################################# Checkpoint Saving #################################################\n",
        "    \"\"\"\n",
        "\n",
        "    if ((epoch + 1) % save_every == 0) and is_save:\n",
        "\n",
        "        metric_dict = {}\n",
        "\n",
        "        for arg in print_args:\n",
        "            if arg == \"val_loss\":\n",
        "                metric_dict['val_loss'] = val_losses\n",
        "            if arg == \"val_acc\":\n",
        "                metric_dict['val_acc'] = val_acc\n",
        "            if arg == \"tst_loss\":\n",
        "                metric_dict['tst_loss'] = tst_losses\n",
        "            if arg == \"tst_acc\":\n",
        "                metric_dict['tst_acc'] = tst_acc\n",
        "            if arg == \"trn_loss\":\n",
        "                metric_dict['trn_loss'] = trn_losses\n",
        "            if arg == \"trn_acc\":\n",
        "                metric_dict['trn_acc'] = trn_acc\n",
        "            if arg == \"subtrn_loss\":\n",
        "                metric_dict['subtrn_loss'] = subtrn_losses\n",
        "            if arg == \"subtrn_acc\":\n",
        "                metric_dict['subtrn_acc'] = subtrn_acc\n",
        "            if arg == \"time\":\n",
        "                metric_dict['time'] = timing\n",
        "\n",
        "        ckpt_state = {\n",
        "            'epoch': epoch + 1,\n",
        "            'state_dict': model.state_dict(),\n",
        "            'optimizer': optimizer.state_dict(),\n",
        "            'loss': criterion_nored,\n",
        "            'metrics': metric_dict\n",
        "        }\n",
        "\n",
        "        # save checkpoint\n",
        "        save_ckpt(ckpt_state, 'model.pt')\n",
        "        logger.info(\"Model checkpoint saved at epoch: {0:d}\".format(epoch + 1))\n",
        "\n",
        "    if val_acc[-1] > 0.8:\n",
        "        break\n",
        "\n",
        "\"\"\"\n",
        "################################################# Results Summary #################################################\n",
        "\"\"\"\n",
        "\n",
        "logger.info(\"{0:s} Selection Run---------------------------------\".format(selection_strategy))\n",
        "logger.info(\"Final SubsetTrn: {0:f}\".format(subtrn_loss))\n",
        "if \"val_loss\" in print_args:\n",
        "    if \"val_acc\" in print_args:\n",
        "        logger.info(\"Validation Loss: %.2f , Validation Accuracy: %.2f\", val_loss, val_acc[-1])\n",
        "    else:\n",
        "        logger.info(\"Validation Loss: %.2f\", val_loss)\n",
        "\n",
        "if \"tst_loss\" in print_args:\n",
        "    if \"tst_acc\" in print_args:\n",
        "        logger.info(\"Test Loss: %.2f, Test Accuracy: %.2f\", tst_loss, tst_acc[-1])\n",
        "    else:\n",
        "        logger.info(\"Test Data Loss: %f\", tst_loss)\n",
        "logger.info('---------------------------------------------------------------------')\n",
        "logger.info(selection_strategy)\n",
        "logger.info('---------------------------------------------------------------------')\n",
        "\n",
        "\"\"\"\n",
        "################################################# Final Results Logging #################################################\n",
        "\"\"\"\n",
        "\n",
        "if \"val_acc\" in print_args:\n",
        "    val_str = \"Validation Accuracy, \"\n",
        "    for val in val_acc:\n",
        "        val_str = val_str + \" , \" + str(val)\n",
        "    logger.info(val_str)\n",
        "\n",
        "if \"tst_acc\" in print_args:\n",
        "    tst_str = \"Test Accuracy, \"\n",
        "    for tst in tst_acc:\n",
        "        tst_str = tst_str + \" , \" + str(tst)\n",
        "    logger.info(tst_str)\n",
        "\n",
        "if \"time\" in print_args:\n",
        "    time_str = \"Time, \"\n",
        "    for t in timing:\n",
        "        time_str = time_str + \" , \" + str(t)\n",
        "    logger.info(timing)\n",
        "\n",
        "timing_array = np.array(timing)\n",
        "cum_timing = list(generate_cumulative_timing(timing_array))\n",
        "logger.info(\"Total time taken by %s = %.4f \", selection_strategy, cum_timing[-1])"
      ],
      "metadata": {
        "colab": {
          "base_uri": "https://localhost:8080/"
        },
        "id": "243ksusPYc59",
        "outputId": "7f26d852-d168-49d0-8e03-efc2e4099eab"
      },
      "execution_count": 16,
      "outputs": [
        {
          "output_type": "stream",
          "name": "stdout",
          "text": [
            "[07/20 16:21:01] __main__ INFO: Epoch: 1 , Validation Loss: 488.88458001613617 , Validation Accuracy: 0.298 , Test Loss: 19.121388792991638 , Test Accuracy: 0.3048 , Timing: 6.720247745513916\n",
            "[07/20 16:21:13] __main__ INFO: Epoch: 2 , Validation Loss: 426.1061899662018 , Validation Accuracy: 0.3578 , Test Loss: 16.28838884830475 , Test Accuracy: 0.385 , Timing: 5.501449108123779\n",
            "[07/20 16:21:24] __main__ INFO: Epoch: 3 , Validation Loss: 439.4525398015976 , Validation Accuracy: 0.3612 , Test Loss: 17.246896028518677 , Test Accuracy: 0.384 , Timing: 5.539045810699463\n",
            "[07/20 16:21:37] __main__ INFO: Epoch: 4 , Validation Loss: 433.58104968070984 , Validation Accuracy: 0.3562 , Test Loss: 16.8642715215683 , Test Accuracy: 0.3763 , Timing: 5.523430824279785\n",
            "[07/20 16:21:49] __main__ INFO: Epoch: 5 , Validation Loss: 410.1866195201874 , Validation Accuracy: 0.4052 , Test Loss: 16.10649347305298 , Test Accuracy: 0.4191 , Timing: 5.504202127456665\n",
            "[07/20 16:22:01] __main__ INFO: Epoch: 6 , Validation Loss: 375.3338500261307 , Validation Accuracy: 0.4552 , Test Loss: 14.606826901435852 , Test Accuracy: 0.4679 , Timing: 5.510311126708984\n",
            "[07/20 16:22:13] __main__ INFO: Epoch: 7 , Validation Loss: 360.80030339956284 , Validation Accuracy: 0.4746 , Test Loss: 14.123969435691833 , Test Accuracy: 0.4863 , Timing: 5.534103631973267\n",
            "[07/20 16:22:25] __main__ INFO: Epoch: 8 , Validation Loss: 344.2638137936592 , Validation Accuracy: 0.5012 , Test Loss: 13.560988903045654 , Test Accuracy: 0.5191 , Timing: 5.542297840118408\n",
            "[07/20 16:22:36] __main__ INFO: Epoch: 9 , Validation Loss: 338.00232630968094 , Validation Accuracy: 0.514 , Test Loss: 13.26463007926941 , Test Accuracy: 0.5286 , Timing: 5.487459182739258\n",
            "[07/20 16:22:49] __main__ INFO: Epoch: 10 , Validation Loss: 301.00394839048386 , Validation Accuracy: 0.5662 , Test Loss: 11.564511179924011 , Test Accuracy: 0.5781 , Timing: 5.676124811172485\n",
            "[07/20 16:23:24] __main__ INFO: Epoch: 11, GLISTER dataloader subset selection finished, takes 35.0126. \n",
            "[07/20 16:23:36] __main__ INFO: Epoch: 11 , Validation Loss: 355.0750300884247 , Validation Accuracy: 0.4648 , Test Loss: 14.013704895973206 , Test Accuracy: 0.4656 , Timing: 40.622546911239624\n",
            "[07/20 16:23:48] __main__ INFO: Epoch: 12 , Validation Loss: 331.66705310344696 , Validation Accuracy: 0.4964 , Test Loss: 13.037723660469055 , Test Accuracy: 0.4962 , Timing: 5.475247383117676\n",
            "[07/20 16:24:00] __main__ INFO: Epoch: 13 , Validation Loss: 314.70976144075394 , Validation Accuracy: 0.5308 , Test Loss: 12.336857080459595 , Test Accuracy: 0.53 , Timing: 5.5408899784088135\n",
            "[07/20 16:24:12] __main__ INFO: Epoch: 14 , Validation Loss: 339.8573832511902 , Validation Accuracy: 0.4792 , Test Loss: 13.502100229263306 , Test Accuracy: 0.4849 , Timing: 5.520262956619263\n",
            "[07/20 16:24:24] __main__ INFO: Epoch: 15 , Validation Loss: 307.9477866292 , Validation Accuracy: 0.5496 , Test Loss: 12.323004364967346 , Test Accuracy: 0.5423 , Timing: 5.517172813415527\n",
            "[07/20 16:24:36] __main__ INFO: Epoch: 16 , Validation Loss: 295.58551532030106 , Validation Accuracy: 0.5492 , Test Loss: 11.668149828910828 , Test Accuracy: 0.5488 , Timing: 5.601897239685059\n",
            "[07/20 16:24:48] __main__ INFO: Epoch: 17 , Validation Loss: 313.37178790569305 , Validation Accuracy: 0.5404 , Test Loss: 11.8977792263031 , Test Accuracy: 0.5605 , Timing: 5.572896242141724\n",
            "[07/20 16:25:01] __main__ INFO: Epoch: 18 , Validation Loss: 291.94005370140076 , Validation Accuracy: 0.5672 , Test Loss: 11.675924181938171 , Test Accuracy: 0.5729 , Timing: 5.660459518432617\n",
            "[07/20 16:25:13] __main__ INFO: Epoch: 19 , Validation Loss: 269.6839860677719 , Validation Accuracy: 0.6086 , Test Loss: 10.393213152885437 , Test Accuracy: 0.6117 , Timing: 5.537631273269653\n",
            "[07/20 16:25:25] __main__ INFO: Epoch: 20 , Validation Loss: 239.666978597641 , Validation Accuracy: 0.6498 , Test Loss: 9.533168137073517 , Test Accuracy: 0.6487 , Timing: 5.494649648666382\n",
            "[07/20 16:25:25] __main__ INFO: Model checkpoint saved at epoch: 20\n",
            "[07/20 16:26:00] __main__ INFO: Epoch: 21, GLISTER dataloader subset selection finished, takes 35.1923. \n",
            "[07/20 16:26:12] __main__ INFO: Epoch: 21 , Validation Loss: 236.70317393541336 , Validation Accuracy: 0.6652 , Test Loss: 9.079431116580963 , Test Accuracy: 0.6704 , Timing: 40.777440786361694\n",
            "[07/20 16:26:24] __main__ INFO: Epoch: 22 , Validation Loss: 223.33307948708534 , Validation Accuracy: 0.6792 , Test Loss: 8.544478476047516 , Test Accuracy: 0.6943 , Timing: 5.547030687332153\n",
            "[07/20 16:26:36] __main__ INFO: Epoch: 23 , Validation Loss: 224.3178469836712 , Validation Accuracy: 0.6746 , Test Loss: 8.617295444011688 , Test Accuracy: 0.691 , Timing: 5.549217462539673\n",
            "[07/20 16:26:48] __main__ INFO: Epoch: 24 , Validation Loss: 206.73802003264427 , Validation Accuracy: 0.6958 , Test Loss: 8.235693454742432 , Test Accuracy: 0.7028 , Timing: 5.50673246383667\n",
            "[07/20 16:27:00] __main__ INFO: Epoch: 25 , Validation Loss: 205.40117990970612 , Validation Accuracy: 0.6992 , Test Loss: 8.034173429012299 , Test Accuracy: 0.7102 , Timing: 5.548450708389282\n",
            "[07/20 16:27:12] __main__ INFO: Epoch: 26 , Validation Loss: 196.71508069336414 , Validation Accuracy: 0.7188 , Test Loss: 7.642107844352722 , Test Accuracy: 0.7276 , Timing: 5.5652570724487305\n",
            "[07/20 16:27:24] __main__ INFO: Epoch: 27 , Validation Loss: 193.64489670097828 , Validation Accuracy: 0.7254 , Test Loss: 7.478989124298096 , Test Accuracy: 0.7328 , Timing: 5.536000490188599\n",
            "[07/20 16:27:36] __main__ INFO: Epoch: 28 , Validation Loss: 190.16538709402084 , Validation Accuracy: 0.7312 , Test Loss: 7.415537714958191 , Test Accuracy: 0.7366 , Timing: 5.577679872512817\n",
            "[07/20 16:27:48] __main__ INFO: Epoch: 29 , Validation Loss: 186.3864329457283 , Validation Accuracy: 0.7328 , Test Loss: 7.388317942619324 , Test Accuracy: 0.7368 , Timing: 5.495388984680176\n",
            "[07/20 16:28:00] __main__ INFO: Epoch: 30 , Validation Loss: 185.93305203318596 , Validation Accuracy: 0.7316 , Test Loss: 7.393655180931091 , Test Accuracy: 0.735 , Timing: 5.569799900054932\n",
            "[07/20 16:28:35] __main__ INFO: Epoch: 31, GLISTER dataloader subset selection finished, takes 35.2183. \n",
            "[07/20 16:28:47] __main__ INFO: Epoch: 31 , Validation Loss: 183.77976037561893 , Validation Accuracy: 0.743 , Test Loss: 7.5160375237464905 , Test Accuracy: 0.7372 , Timing: 40.761897563934326\n",
            "[07/20 16:28:59] __main__ INFO: Epoch: 32 , Validation Loss: 181.09658178687096 , Validation Accuracy: 0.7494 , Test Loss: 7.092741429805756 , Test Accuracy: 0.746 , Timing: 5.579437494277954\n",
            "[07/20 16:29:11] __main__ INFO: Epoch: 33 , Validation Loss: 182.05255258083344 , Validation Accuracy: 0.7548 , Test Loss: 6.993216574192047 , Test Accuracy: 0.7551 , Timing: 5.530033111572266\n",
            "[07/20 16:29:23] __main__ INFO: Epoch: 34 , Validation Loss: 183.5846946835518 , Validation Accuracy: 0.7442 , Test Loss: 7.016445875167847 , Test Accuracy: 0.7532 , Timing: 5.536815166473389\n",
            "[07/20 16:29:35] __main__ INFO: Epoch: 35 , Validation Loss: 188.23551860451698 , Validation Accuracy: 0.7308 , Test Loss: 7.2568811774253845 , Test Accuracy: 0.7365 , Timing: 5.560364723205566\n",
            "[07/20 16:29:47] __main__ INFO: Epoch: 36 , Validation Loss: 191.71593561768532 , Validation Accuracy: 0.7254 , Test Loss: 7.471148371696472 , Test Accuracy: 0.7231 , Timing: 5.494171857833862\n",
            "[07/20 16:30:00] __main__ INFO: Epoch: 37 , Validation Loss: 201.65996009111404 , Validation Accuracy: 0.7122 , Test Loss: 7.800954282283783 , Test Accuracy: 0.715 , Timing: 5.538389205932617\n",
            "[07/20 16:30:12] __main__ INFO: Epoch: 38 , Validation Loss: 212.17868342995644 , Validation Accuracy: 0.6884 , Test Loss: 8.574413895606995 , Test Accuracy: 0.6871 , Timing: 5.524014472961426\n",
            "[07/20 16:30:24] __main__ INFO: Epoch: 39 , Validation Loss: 224.2341682612896 , Validation Accuracy: 0.671 , Test Loss: 8.78294426202774 , Test Accuracy: 0.6794 , Timing: 5.575779914855957\n",
            "[07/20 16:30:36] __main__ INFO: Epoch: 40 , Validation Loss: 214.52474769949913 , Validation Accuracy: 0.68 , Test Loss: 8.826850891113281 , Test Accuracy: 0.6733 , Timing: 5.543699502944946\n",
            "[07/20 16:30:36] __main__ INFO: Model checkpoint saved at epoch: 40\n",
            "[07/20 16:31:11] __main__ INFO: Epoch: 41, GLISTER dataloader subset selection finished, takes 35.2274. \n",
            "[07/20 16:31:23] __main__ INFO: Epoch: 41 , Validation Loss: 204.74102768301964 , Validation Accuracy: 0.7088 , Test Loss: 7.940131783485413 , Test Accuracy: 0.7182 , Timing: 40.75582408905029\n",
            "[07/20 16:31:35] __main__ INFO: Epoch: 42 , Validation Loss: 226.4946866929531 , Validation Accuracy: 0.6794 , Test Loss: 8.65102356672287 , Test Accuracy: 0.697 , Timing: 5.4983837604522705\n",
            "[07/20 16:31:47] __main__ INFO: Epoch: 43 , Validation Loss: 239.54484060406685 , Validation Accuracy: 0.6602 , Test Loss: 9.254390060901642 , Test Accuracy: 0.6792 , Timing: 5.581958532333374\n",
            "[07/20 16:31:59] __main__ INFO: Epoch: 44 , Validation Loss: 231.2060476243496 , Validation Accuracy: 0.6794 , Test Loss: 9.528080105781555 , Test Accuracy: 0.6808 , Timing: 5.481769561767578\n",
            "[07/20 16:32:11] __main__ INFO: Epoch: 45 , Validation Loss: 245.0207458138466 , Validation Accuracy: 0.6532 , Test Loss: 9.908200919628143 , Test Accuracy: 0.6621 , Timing: 5.515143871307373\n",
            "[07/20 16:32:23] __main__ INFO: Epoch: 46 , Validation Loss: 224.1338030397892 , Validation Accuracy: 0.687 , Test Loss: 8.97972857952118 , Test Accuracy: 0.6928 , Timing: 5.475391149520874\n",
            "[07/20 16:32:35] __main__ INFO: Epoch: 47 , Validation Loss: 293.0737578570843 , Validation Accuracy: 0.6084 , Test Loss: 12.41988456249237 , Test Accuracy: 0.6091 , Timing: 5.509623050689697\n",
            "[07/20 16:32:47] __main__ INFO: Epoch: 48 , Validation Loss: 252.19600546360016 , Validation Accuracy: 0.637 , Test Loss: 10.074614346027374 , Test Accuracy: 0.6492 , Timing: 5.473152160644531\n",
            "[07/20 16:32:59] __main__ INFO: Epoch: 49 , Validation Loss: 319.20287024974823 , Validation Accuracy: 0.5808 , Test Loss: 12.399093270301819 , Test Accuracy: 0.6042 , Timing: 5.482870578765869\n",
            "[07/20 16:33:11] __main__ INFO: Epoch: 50 , Validation Loss: 270.26427471637726 , Validation Accuracy: 0.6146 , Test Loss: 11.310648560523987 , Test Accuracy: 0.6263 , Timing: 5.487154722213745\n",
            "[07/20 16:33:46] __main__ INFO: Epoch: 51, GLISTER dataloader subset selection finished, takes 35.5483. \n",
            "[07/20 16:33:58] __main__ INFO: Epoch: 51 , Validation Loss: 236.1095797419548 , Validation Accuracy: 0.6596 , Test Loss: 9.170517325401306 , Test Accuracy: 0.6674 , Timing: 41.154468297958374\n",
            "[07/20 16:34:11] __main__ INFO: Epoch: 52 , Validation Loss: 258.12797033786774 , Validation Accuracy: 0.6298 , Test Loss: 9.92566305398941 , Test Accuracy: 0.6476 , Timing: 5.5541832447052\n",
            "[07/20 16:34:22] __main__ INFO: Epoch: 53 , Validation Loss: 234.06083363294601 , Validation Accuracy: 0.6522 , Test Loss: 9.199154078960419 , Test Accuracy: 0.6571 , Timing: 5.546719789505005\n",
            "[07/20 16:34:34] __main__ INFO: Epoch: 54 , Validation Loss: 235.79565834999084 , Validation Accuracy: 0.6574 , Test Loss: 9.480277597904205 , Test Accuracy: 0.6561 , Timing: 5.497888565063477\n",
            "[07/20 16:34:46] __main__ INFO: Epoch: 55 , Validation Loss: 227.3542875647545 , Validation Accuracy: 0.6708 , Test Loss: 9.085840940475464 , Test Accuracy: 0.6764 , Timing: 5.475658893585205\n",
            "[07/20 16:34:58] __main__ INFO: Epoch: 56 , Validation Loss: 232.87932100892067 , Validation Accuracy: 0.6678 , Test Loss: 8.768813610076904 , Test Accuracy: 0.6884 , Timing: 5.4906816482543945\n",
            "[07/20 16:35:10] __main__ INFO: Epoch: 57 , Validation Loss: 228.5708826482296 , Validation Accuracy: 0.6664 , Test Loss: 9.16218113899231 , Test Accuracy: 0.6752 , Timing: 5.536046266555786\n",
            "[07/20 16:35:22] __main__ INFO: Epoch: 58 , Validation Loss: 239.53659403324127 , Validation Accuracy: 0.6562 , Test Loss: 9.168487429618835 , Test Accuracy: 0.6783 , Timing: 5.5162248611450195\n",
            "[07/20 16:35:34] __main__ INFO: Epoch: 59 , Validation Loss: 242.3060047030449 , Validation Accuracy: 0.652 , Test Loss: 9.49286663532257 , Test Accuracy: 0.6654 , Timing: 5.5188915729522705\n",
            "[07/20 16:35:46] __main__ INFO: Epoch: 60 , Validation Loss: 215.15612414479256 , Validation Accuracy: 0.6956 , Test Loss: 8.437164783477783 , Test Accuracy: 0.6997 , Timing: 5.541916131973267\n",
            "[07/20 16:35:46] __main__ INFO: Model checkpoint saved at epoch: 60\n",
            "[07/20 16:36:21] __main__ INFO: Epoch: 61, GLISTER dataloader subset selection finished, takes 34.9073. \n",
            "[07/20 16:36:33] __main__ INFO: Epoch: 61 , Validation Loss: 220.24353727698326 , Validation Accuracy: 0.6834 , Test Loss: 8.929074943065643 , Test Accuracy: 0.6808 , Timing: 40.386011362075806\n",
            "[07/20 16:36:45] __main__ INFO: Epoch: 62 , Validation Loss: 217.85191798210144 , Validation Accuracy: 0.6948 , Test Loss: 8.668339192867279 , Test Accuracy: 0.6956 , Timing: 5.53829026222229\n",
            "[07/20 16:36:57] __main__ INFO: Epoch: 63 , Validation Loss: 202.6386222988367 , Validation Accuracy: 0.7182 , Test Loss: 8.255159735679626 , Test Accuracy: 0.7134 , Timing: 5.493714094161987\n",
            "[07/20 16:37:09] __main__ INFO: Epoch: 64 , Validation Loss: 209.90159091353416 , Validation Accuracy: 0.713 , Test Loss: 8.854331016540527 , Test Accuracy: 0.6919 , Timing: 5.5364625453948975\n",
            "[07/20 16:37:21] __main__ INFO: Epoch: 65 , Validation Loss: 190.6379484385252 , Validation Accuracy: 0.726 , Test Loss: 7.693987786769867 , Test Accuracy: 0.7276 , Timing: 5.484504699707031\n",
            "[07/20 16:37:33] __main__ INFO: Epoch: 66 , Validation Loss: 197.90931841731071 , Validation Accuracy: 0.7138 , Test Loss: 7.769253849983215 , Test Accuracy: 0.7217 , Timing: 5.563589811325073\n",
            "[07/20 16:37:45] __main__ INFO: Epoch: 67 , Validation Loss: 214.8903653025627 , Validation Accuracy: 0.701 , Test Loss: 8.606987357139587 , Test Accuracy: 0.706 , Timing: 5.580914497375488\n",
            "[07/20 16:37:57] __main__ INFO: Epoch: 68 , Validation Loss: 195.4215344786644 , Validation Accuracy: 0.7326 , Test Loss: 8.229528427124023 , Test Accuracy: 0.7271 , Timing: 5.5167694091796875\n",
            "[07/20 16:38:09] __main__ INFO: Epoch: 69 , Validation Loss: 213.99094335734844 , Validation Accuracy: 0.7136 , Test Loss: 9.072286307811737 , Test Accuracy: 0.7064 , Timing: 5.5228447914123535\n",
            "[07/20 16:38:21] __main__ INFO: Epoch: 70 , Validation Loss: 222.83351796865463 , Validation Accuracy: 0.7116 , Test Loss: 9.344869613647461 , Test Accuracy: 0.7193 , Timing: 5.529752492904663\n",
            "[07/20 16:38:56] __main__ INFO: Epoch: 71, GLISTER dataloader subset selection finished, takes 34.9187. \n",
            "[07/20 16:39:08] __main__ INFO: Epoch: 71 , Validation Loss: 179.7691277116537 , Validation Accuracy: 0.7574 , Test Loss: 6.9381110072135925 , Test Accuracy: 0.7534 , Timing: 40.40068984031677\n",
            "[07/20 16:39:20] __main__ INFO: Epoch: 72 , Validation Loss: 164.5343124717474 , Validation Accuracy: 0.7664 , Test Loss: 6.5106480717659 , Test Accuracy: 0.7717 , Timing: 5.46936297416687\n",
            "[07/20 16:39:31] __main__ INFO: Epoch: 73 , Validation Loss: 181.061775714159 , Validation Accuracy: 0.7396 , Test Loss: 7.172385394573212 , Test Accuracy: 0.7492 , Timing: 5.454168796539307\n",
            "[07/20 16:39:43] __main__ INFO: Epoch: 74 , Validation Loss: 170.29363024234772 , Validation Accuracy: 0.7528 , Test Loss: 7.010642468929291 , Test Accuracy: 0.757 , Timing: 5.509906530380249\n",
            "[07/20 16:39:55] __main__ INFO: Epoch: 75 , Validation Loss: 214.28619746863842 , Validation Accuracy: 0.7264 , Test Loss: 9.001045286655426 , Test Accuracy: 0.7174 , Timing: 5.493131399154663\n",
            "[07/20 16:40:07] __main__ INFO: Epoch: 76 , Validation Loss: 167.53472377359867 , Validation Accuracy: 0.771 , Test Loss: 6.9664346575737 , Test Accuracy: 0.7721 , Timing: 5.456681966781616\n",
            "[07/20 16:40:19] __main__ INFO: Epoch: 77 , Validation Loss: 168.16710779815912 , Validation Accuracy: 0.765 , Test Loss: 6.948722004890442 , Test Accuracy: 0.7694 , Timing: 5.479488849639893\n",
            "[07/20 16:40:31] __main__ INFO: Epoch: 78 , Validation Loss: 154.61310456693172 , Validation Accuracy: 0.7858 , Test Loss: 6.408390164375305 , Test Accuracy: 0.7866 , Timing: 5.481457948684692\n",
            "[07/20 16:40:43] __main__ INFO: Epoch: 79 , Validation Loss: 176.05970187485218 , Validation Accuracy: 0.7634 , Test Loss: 7.3453468680381775 , Test Accuracy: 0.7686 , Timing: 5.519629001617432\n",
            "[07/20 16:40:55] __main__ INFO: Epoch: 80 , Validation Loss: 154.125820890069 , Validation Accuracy: 0.7964 , Test Loss: 6.6359304785728455 , Test Accuracy: 0.7957 , Timing: 5.483186960220337\n",
            "[07/20 16:40:55] __main__ INFO: Model checkpoint saved at epoch: 80\n",
            "[07/20 16:41:30] __main__ INFO: Epoch: 81, GLISTER dataloader subset selection finished, takes 34.8103. \n",
            "[07/20 16:41:42] __main__ INFO: Epoch: 81 , Validation Loss: 122.32436782121658 , Validation Accuracy: 0.8338 , Test Loss: 5.004520148038864 , Test Accuracy: 0.8243 , Timing: 40.330538749694824\n",
            "[07/20 16:41:42] __main__ INFO: GLISTER Selection Run---------------------------------\n",
            "[07/20 16:41:42] __main__ INFO: Final SubsetTrn: 214.104690\n",
            "[07/20 16:41:42] __main__ INFO: Validation Loss: 122.32 , Validation Accuracy: 0.83\n",
            "[07/20 16:41:42] __main__ INFO: Test Loss: 5.00, Test Accuracy: 0.82\n",
            "[07/20 16:41:42] __main__ INFO: ---------------------------------------------------------------------\n",
            "[07/20 16:41:42] __main__ INFO: GLISTER\n",
            "[07/20 16:41:42] __main__ INFO: ---------------------------------------------------------------------\n",
            "[07/20 16:41:42] __main__ INFO: Validation Accuracy,  , 0.298 , 0.3578 , 0.3612 , 0.3562 , 0.4052 , 0.4552 , 0.4746 , 0.5012 , 0.514 , 0.5662 , 0.4648 , 0.4964 , 0.5308 , 0.4792 , 0.5496 , 0.5492 , 0.5404 , 0.5672 , 0.6086 , 0.6498 , 0.6652 , 0.6792 , 0.6746 , 0.6958 , 0.6992 , 0.7188 , 0.7254 , 0.7312 , 0.7328 , 0.7316 , 0.743 , 0.7494 , 0.7548 , 0.7442 , 0.7308 , 0.7254 , 0.7122 , 0.6884 , 0.671 , 0.68 , 0.7088 , 0.6794 , 0.6602 , 0.6794 , 0.6532 , 0.687 , 0.6084 , 0.637 , 0.5808 , 0.6146 , 0.6596 , 0.6298 , 0.6522 , 0.6574 , 0.6708 , 0.6678 , 0.6664 , 0.6562 , 0.652 , 0.6956 , 0.6834 , 0.6948 , 0.7182 , 0.713 , 0.726 , 0.7138 , 0.701 , 0.7326 , 0.7136 , 0.7116 , 0.7574 , 0.7664 , 0.7396 , 0.7528 , 0.7264 , 0.771 , 0.765 , 0.7858 , 0.7634 , 0.7964 , 0.8338\n",
            "[07/20 16:41:42] __main__ INFO: Test Accuracy,  , 0.3048 , 0.385 , 0.384 , 0.3763 , 0.4191 , 0.4679 , 0.4863 , 0.5191 , 0.5286 , 0.5781 , 0.4656 , 0.4962 , 0.53 , 0.4849 , 0.5423 , 0.5488 , 0.5605 , 0.5729 , 0.6117 , 0.6487 , 0.6704 , 0.6943 , 0.691 , 0.7028 , 0.7102 , 0.7276 , 0.7328 , 0.7366 , 0.7368 , 0.735 , 0.7372 , 0.746 , 0.7551 , 0.7532 , 0.7365 , 0.7231 , 0.715 , 0.6871 , 0.6794 , 0.6733 , 0.7182 , 0.697 , 0.6792 , 0.6808 , 0.6621 , 0.6928 , 0.6091 , 0.6492 , 0.6042 , 0.6263 , 0.6674 , 0.6476 , 0.6571 , 0.6561 , 0.6764 , 0.6884 , 0.6752 , 0.6783 , 0.6654 , 0.6997 , 0.6808 , 0.6956 , 0.7134 , 0.6919 , 0.7276 , 0.7217 , 0.706 , 0.7271 , 0.7064 , 0.7193 , 0.7534 , 0.7717 , 0.7492 , 0.757 , 0.7174 , 0.7721 , 0.7694 , 0.7866 , 0.7686 , 0.7957 , 0.8243\n",
            "[07/20 16:41:42] __main__ INFO: [6.720247745513916, 5.501449108123779, 5.539045810699463, 5.523430824279785, 5.504202127456665, 5.510311126708984, 5.534103631973267, 5.542297840118408, 5.487459182739258, 5.676124811172485, 40.622546911239624, 5.475247383117676, 5.5408899784088135, 5.520262956619263, 5.517172813415527, 5.601897239685059, 5.572896242141724, 5.660459518432617, 5.537631273269653, 5.494649648666382, 40.777440786361694, 5.547030687332153, 5.549217462539673, 5.50673246383667, 5.548450708389282, 5.5652570724487305, 5.536000490188599, 5.577679872512817, 5.495388984680176, 5.569799900054932, 40.761897563934326, 5.579437494277954, 5.530033111572266, 5.536815166473389, 5.560364723205566, 5.494171857833862, 5.538389205932617, 5.524014472961426, 5.575779914855957, 5.543699502944946, 40.75582408905029, 5.4983837604522705, 5.581958532333374, 5.481769561767578, 5.515143871307373, 5.475391149520874, 5.509623050689697, 5.473152160644531, 5.482870578765869, 5.487154722213745, 41.154468297958374, 5.5541832447052, 5.546719789505005, 5.497888565063477, 5.475658893585205, 5.4906816482543945, 5.536046266555786, 5.5162248611450195, 5.5188915729522705, 5.541916131973267, 40.386011362075806, 5.53829026222229, 5.493714094161987, 5.5364625453948975, 5.484504699707031, 5.563589811325073, 5.580914497375488, 5.5167694091796875, 5.5228447914123535, 5.529752492904663, 40.40068984031677, 5.46936297416687, 5.454168796539307, 5.509906530380249, 5.493131399154663, 5.456681966781616, 5.479488849639893, 5.481457948684692, 5.519629001617432, 5.483186960220337, 40.330538749694824]\n",
            "[07/20 16:41:42] __main__ INFO: Total time taken by GLISTER = 0.2027 \n"
          ]
        }
      ]
    },
    {
      "cell_type": "code",
      "source": [
        "print(f\"Average Time / Epoch: {np.mean(timing)} \\nTotal Epochs: {num_epochs}\")"
      ],
      "metadata": {
        "id": "rEw6yODiL_CJ",
        "colab": {
          "base_uri": "https://localhost:8080/"
        },
        "outputId": "02b677d0-bba5-4398-eecf-5db391d77ae9"
      },
      "execution_count": 17,
      "outputs": [
        {
          "output_type": "stream",
          "name": "stdout",
          "text": [
            "Average Time / Epoch: 9.008950312932333 \n",
            "Total Epochs: 150\n"
          ]
        }
      ]
    },
    {
      "cell_type": "code",
      "source": [
        "gpu_info = !nvidia-smi\n",
        "gpu_info = '\\n'.join(gpu_info)\n",
        "if gpu_info.find('failed') >= 0:\n",
        "  print('Not connected to a GPU')\n",
        "else:\n",
        "  print(gpu_info)"
      ],
      "metadata": {
        "id": "OiR1Rbi5CgrY",
        "colab": {
          "base_uri": "https://localhost:8080/"
        },
        "outputId": "d7524e9d-2d62-47ef-8163-be74d58e328f"
      },
      "execution_count": 18,
      "outputs": [
        {
          "output_type": "stream",
          "name": "stdout",
          "text": [
            "Wed Jul 20 16:41:42 2022       \n",
            "+-----------------------------------------------------------------------------+\n",
            "| NVIDIA-SMI 460.32.03    Driver Version: 460.32.03    CUDA Version: 11.2     |\n",
            "|-------------------------------+----------------------+----------------------+\n",
            "| GPU  Name        Persistence-M| Bus-Id        Disp.A | Volatile Uncorr. ECC |\n",
            "| Fan  Temp  Perf  Pwr:Usage/Cap|         Memory-Usage | GPU-Util  Compute M. |\n",
            "|                               |                      |               MIG M. |\n",
            "|===============================+======================+======================|\n",
            "|   0  Tesla P100-PCIE...  Off  | 00000000:00:04.0 Off |                    0 |\n",
            "| N/A   63C    P0    46W / 250W |   5147MiB / 16280MiB |     17%      Default |\n",
            "|                               |                      |                  N/A |\n",
            "+-------------------------------+----------------------+----------------------+\n",
            "                                                                               \n",
            "+-----------------------------------------------------------------------------+\n",
            "| Processes:                                                                  |\n",
            "|  GPU   GI   CI        PID   Type   Process name                  GPU Memory |\n",
            "|        ID   ID                                                   Usage      |\n",
            "|=============================================================================|\n",
            "+-----------------------------------------------------------------------------+\n"
          ]
        }
      ]
    },
    {
      "cell_type": "code",
      "source": [
        ""
      ],
      "metadata": {
        "id": "9hnoIcO1L1iy"
      },
      "execution_count": null,
      "outputs": []
    }
  ]
}