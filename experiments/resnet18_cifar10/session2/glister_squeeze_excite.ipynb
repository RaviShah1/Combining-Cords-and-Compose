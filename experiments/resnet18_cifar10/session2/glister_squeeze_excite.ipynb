{
  "nbformat": 4,
  "nbformat_minor": 0,
  "metadata": {
    "colab": {
      "name": "Combining Coords and Composer.ipynb",
      "provenance": [],
      "collapsed_sections": [],
      "include_colab_link": true
    },
    "kernelspec": {
      "name": "python3",
      "display_name": "Python 3"
    },
    "language_info": {
      "name": "python"
    },
    "accelerator": "GPU"
  },
  "cells": [
    {
      "cell_type": "markdown",
      "metadata": {
        "id": "view-in-github",
        "colab_type": "text"
      },
      "source": [
        "<a href=\"https://colab.research.google.com/github/RaviShah1/Combining-Cords-and-Composer/blob/main/experiments/resnet18_cifar10/session2/glister_squeeze_excite.ipynb\" target=\"_parent\"><img src=\"https://colab.research.google.com/assets/colab-badge.svg\" alt=\"Open In Colab\"/></a>"
      ]
    },
    {
      "cell_type": "code",
      "source": [
        "!git clone https://github.com/decile-team/cords.git\n",
        "%cd cords\n",
        "%ls"
      ],
      "metadata": {
        "id": "pJewp117QDUI",
        "outputId": "701d213d-b172-4472-9e7b-8532f8168397",
        "colab": {
          "base_uri": "https://localhost:8080/"
        }
      },
      "execution_count": 1,
      "outputs": [
        {
          "output_type": "stream",
          "name": "stdout",
          "text": [
            "fatal: destination path 'cords' already exists and is not an empty directory.\n",
            "/content/cords\n",
            "\u001b[0m\u001b[01;34mbenchmarks\u001b[0m/   \u001b[01;34mcords\u001b[0m/  \u001b[01;34mexamples\u001b[0m/    README.md      setup.py      train_sl.py\n",
            "CITATION.CFF  \u001b[01;34mdata\u001b[0m/   LICENSE.txt  \u001b[01;34mrequirements\u001b[0m/  \u001b[01;34mtests\u001b[0m/        train_ssl.py\n",
            "\u001b[01;34mconfigs\u001b[0m/      \u001b[01;34mdocs\u001b[0m/   model.pt     \u001b[01;34mresults\u001b[0m/       train_hpo.py\n"
          ]
        }
      ]
    },
    {
      "cell_type": "code",
      "source": [
        "!pip install dotmap apricot-select ray[default] ray[tune] mosaicml\n"
      ],
      "metadata": {
        "colab": {
          "base_uri": "https://localhost:8080/"
        },
        "id": "37QszJkXYAZz",
        "outputId": "387c7385-8950-45d3-ed80-6f99e2f7e5af"
      },
      "execution_count": 2,
      "outputs": [
        {
          "output_type": "stream",
          "name": "stdout",
          "text": [
            "Looking in indexes: https://pypi.org/simple, https://us-python.pkg.dev/colab-wheels/public/simple/\n",
            "Requirement already satisfied: dotmap in /usr/local/lib/python3.7/dist-packages (1.3.30)\n",
            "Requirement already satisfied: apricot-select in /usr/local/lib/python3.7/dist-packages (0.6.1)\n",
            "Requirement already satisfied: ray[default] in /usr/local/lib/python3.7/dist-packages (1.13.0)\n",
            "Requirement already satisfied: mosaicml in /usr/local/lib/python3.7/dist-packages (0.8.0)\n",
            "Requirement already satisfied: tqdm>=4.24.0 in /usr/local/lib/python3.7/dist-packages (from apricot-select) (4.64.0)\n",
            "Requirement already satisfied: scipy>=1.0.0 in /usr/local/lib/python3.7/dist-packages (from apricot-select) (1.7.3)\n",
            "Requirement already satisfied: numpy>=1.14.2 in /usr/local/lib/python3.7/dist-packages (from apricot-select) (1.21.6)\n",
            "Requirement already satisfied: nose in /usr/local/lib/python3.7/dist-packages (from apricot-select) (1.3.7)\n",
            "Requirement already satisfied: numba>=0.43.0 in /usr/local/lib/python3.7/dist-packages (from apricot-select) (0.51.2)\n",
            "Requirement already satisfied: llvmlite<0.35,>=0.34.0.dev0 in /usr/local/lib/python3.7/dist-packages (from numba>=0.43.0->apricot-select) (0.34.0)\n",
            "Requirement already satisfied: setuptools in /usr/local/lib/python3.7/dist-packages (from numba>=0.43.0->apricot-select) (57.4.0)\n",
            "Requirement already satisfied: coolname<2,>=1.1.0 in /usr/local/lib/python3.7/dist-packages (from mosaicml) (1.1.0)\n",
            "Requirement already satisfied: yahp<0.2,>=0.1.1 in /usr/local/lib/python3.7/dist-packages (from mosaicml) (0.1.1)\n",
            "Requirement already satisfied: requests<3,>=2.26.0 in /usr/local/lib/python3.7/dist-packages (from mosaicml) (2.28.1)\n",
            "Requirement already satisfied: pyyaml<7,>=6.0 in /usr/local/lib/python3.7/dist-packages (from mosaicml) (6.0)\n",
            "Requirement already satisfied: torchmetrics<0.8,>=0.7.0 in /usr/local/lib/python3.7/dist-packages (from mosaicml) (0.7.3)\n",
            "Requirement already satisfied: torchvision>=0.10.0 in /usr/local/lib/python3.7/dist-packages (from mosaicml) (0.13.0+cu113)\n",
            "Requirement already satisfied: torch<2,>=1.9 in /usr/local/lib/python3.7/dist-packages (from mosaicml) (1.12.0+cu113)\n",
            "Requirement already satisfied: psutil<6,>=5.8.0 in /usr/local/lib/python3.7/dist-packages (from mosaicml) (5.9.1)\n",
            "Requirement already satisfied: torch-optimizer<0.2,>=0.1.0 in /usr/local/lib/python3.7/dist-packages (from mosaicml) (0.1.0)\n",
            "Requirement already satisfied: py-cpuinfo>=8.0.0 in /usr/local/lib/python3.7/dist-packages (from mosaicml) (8.0.0)\n",
            "Requirement already satisfied: idna<4,>=2.5 in /usr/local/lib/python3.7/dist-packages (from requests<3,>=2.26.0->mosaicml) (2.10)\n",
            "Requirement already satisfied: certifi>=2017.4.17 in /usr/local/lib/python3.7/dist-packages (from requests<3,>=2.26.0->mosaicml) (2022.6.15)\n",
            "Requirement already satisfied: charset-normalizer<3,>=2 in /usr/local/lib/python3.7/dist-packages (from requests<3,>=2.26.0->mosaicml) (2.1.0)\n",
            "Requirement already satisfied: urllib3<1.27,>=1.21.1 in /usr/local/lib/python3.7/dist-packages (from requests<3,>=2.26.0->mosaicml) (1.24.3)\n",
            "Requirement already satisfied: typing-extensions in /usr/local/lib/python3.7/dist-packages (from torch<2,>=1.9->mosaicml) (4.1.1)\n",
            "Requirement already satisfied: pytorch-ranger>=0.1.1 in /usr/local/lib/python3.7/dist-packages (from torch-optimizer<0.2,>=0.1.0->mosaicml) (0.1.1)\n",
            "Requirement already satisfied: pyDeprecate==0.3.* in /usr/local/lib/python3.7/dist-packages (from torchmetrics<0.8,>=0.7.0->mosaicml) (0.3.2)\n",
            "Requirement already satisfied: packaging in /usr/local/lib/python3.7/dist-packages (from torchmetrics<0.8,>=0.7.0->mosaicml) (21.3)\n",
            "Requirement already satisfied: pillow!=8.3.*,>=5.3.0 in /usr/local/lib/python3.7/dist-packages (from torchvision>=0.10.0->mosaicml) (7.1.2)\n",
            "Requirement already satisfied: ruamel.yaml>=0.17.10 in /usr/local/lib/python3.7/dist-packages (from yahp<0.2,>=0.1.1->mosaicml) (0.17.21)\n",
            "Requirement already satisfied: docstring-parser<=0.15,>=0.14.1 in /usr/local/lib/python3.7/dist-packages (from yahp<0.2,>=0.1.1->mosaicml) (0.14.1)\n",
            "Requirement already satisfied: ruamel.yaml.clib>=0.2.6 in /usr/local/lib/python3.7/dist-packages (from ruamel.yaml>=0.17.10->yahp<0.2,>=0.1.1->mosaicml) (0.2.6)\n",
            "Requirement already satisfied: pyparsing!=3.0.5,>=2.0.2 in /usr/local/lib/python3.7/dist-packages (from packaging->torchmetrics<0.8,>=0.7.0->mosaicml) (3.0.9)\n",
            "Requirement already satisfied: grpcio<=1.43.0,>=1.28.1 in /usr/local/lib/python3.7/dist-packages (from ray[default]) (1.43.0)\n",
            "Requirement already satisfied: aiosignal in /usr/local/lib/python3.7/dist-packages (from ray[default]) (1.2.0)\n",
            "Requirement already satisfied: filelock in /usr/local/lib/python3.7/dist-packages (from ray[default]) (3.7.1)\n",
            "Requirement already satisfied: msgpack<2.0.0,>=1.0.0 in /usr/local/lib/python3.7/dist-packages (from ray[default]) (1.0.4)\n",
            "Requirement already satisfied: virtualenv in /usr/local/lib/python3.7/dist-packages (from ray[default]) (20.15.1)\n",
            "Requirement already satisfied: protobuf<4.0.0,>=3.15.3 in /usr/local/lib/python3.7/dist-packages (from ray[default]) (3.17.3)\n",
            "Requirement already satisfied: jsonschema in /usr/local/lib/python3.7/dist-packages (from ray[default]) (4.3.3)\n",
            "Requirement already satisfied: attrs in /usr/local/lib/python3.7/dist-packages (from ray[default]) (21.4.0)\n",
            "Requirement already satisfied: frozenlist in /usr/local/lib/python3.7/dist-packages (from ray[default]) (1.3.0)\n",
            "Requirement already satisfied: click<=8.0.4,>=7.0 in /usr/local/lib/python3.7/dist-packages (from ray[default]) (7.1.2)\n",
            "Requirement already satisfied: colorful in /usr/local/lib/python3.7/dist-packages (from ray[default]) (0.5.4)\n",
            "Requirement already satisfied: opencensus in /usr/local/lib/python3.7/dist-packages (from ray[default]) (0.10.0)\n",
            "Requirement already satisfied: aiohttp-cors in /usr/local/lib/python3.7/dist-packages (from ray[default]) (0.7.0)\n",
            "Requirement already satisfied: prometheus-client<0.14.0,>=0.7.1 in /usr/local/lib/python3.7/dist-packages (from ray[default]) (0.13.1)\n",
            "Requirement already satisfied: gpustat>=1.0.0b1 in /usr/local/lib/python3.7/dist-packages (from ray[default]) (1.0.0rc1)\n",
            "Requirement already satisfied: py-spy>=0.2.0 in /usr/local/lib/python3.7/dist-packages (from ray[default]) (0.3.12)\n",
            "Requirement already satisfied: aiohttp>=3.7 in /usr/local/lib/python3.7/dist-packages (from ray[default]) (3.8.1)\n",
            "Requirement already satisfied: smart-open in /usr/local/lib/python3.7/dist-packages (from ray[default]) (5.2.1)\n",
            "Requirement already satisfied: yarl<2.0,>=1.0 in /usr/local/lib/python3.7/dist-packages (from aiohttp>=3.7->ray[default]) (1.7.2)\n",
            "Requirement already satisfied: async-timeout<5.0,>=4.0.0a3 in /usr/local/lib/python3.7/dist-packages (from aiohttp>=3.7->ray[default]) (4.0.2)\n",
            "Requirement already satisfied: multidict<7.0,>=4.5 in /usr/local/lib/python3.7/dist-packages (from aiohttp>=3.7->ray[default]) (6.0.2)\n",
            "Requirement already satisfied: asynctest==0.13.0 in /usr/local/lib/python3.7/dist-packages (from aiohttp>=3.7->ray[default]) (0.13.0)\n",
            "Requirement already satisfied: six>=1.7 in /usr/local/lib/python3.7/dist-packages (from gpustat>=1.0.0b1->ray[default]) (1.15.0)\n",
            "Requirement already satisfied: nvidia-ml-py<=11.495.46,>=11.450.129 in /usr/local/lib/python3.7/dist-packages (from gpustat>=1.0.0b1->ray[default]) (11.495.46)\n",
            "Requirement already satisfied: blessed>=1.17.1 in /usr/local/lib/python3.7/dist-packages (from gpustat>=1.0.0b1->ray[default]) (1.19.1)\n",
            "Requirement already satisfied: wcwidth>=0.1.4 in /usr/local/lib/python3.7/dist-packages (from blessed>=1.17.1->gpustat>=1.0.0b1->ray[default]) (0.2.5)\n",
            "Requirement already satisfied: importlib-resources>=1.4.0 in /usr/local/lib/python3.7/dist-packages (from jsonschema->ray[default]) (5.8.0)\n",
            "Requirement already satisfied: pyrsistent!=0.17.0,!=0.17.1,!=0.17.2,>=0.14.0 in /usr/local/lib/python3.7/dist-packages (from jsonschema->ray[default]) (0.18.1)\n",
            "Requirement already satisfied: importlib-metadata in /usr/local/lib/python3.7/dist-packages (from jsonschema->ray[default]) (4.12.0)\n",
            "Requirement already satisfied: zipp>=3.1.0 in /usr/local/lib/python3.7/dist-packages (from importlib-resources>=1.4.0->jsonschema->ray[default]) (3.8.0)\n",
            "Requirement already satisfied: opencensus-context>=0.1.2 in /usr/local/lib/python3.7/dist-packages (from opencensus->ray[default]) (0.1.2)\n",
            "Requirement already satisfied: google-api-core<3.0.0,>=1.0.0 in /usr/local/lib/python3.7/dist-packages (from opencensus->ray[default]) (1.31.6)\n",
            "Requirement already satisfied: googleapis-common-protos<2.0dev,>=1.6.0 in /usr/local/lib/python3.7/dist-packages (from google-api-core<3.0.0,>=1.0.0->opencensus->ray[default]) (1.56.3)\n",
            "Requirement already satisfied: pytz in /usr/local/lib/python3.7/dist-packages (from google-api-core<3.0.0,>=1.0.0->opencensus->ray[default]) (2022.1)\n",
            "Requirement already satisfied: google-auth<2.0dev,>=1.25.0 in /usr/local/lib/python3.7/dist-packages (from google-api-core<3.0.0,>=1.0.0->opencensus->ray[default]) (1.35.0)\n",
            "Requirement already satisfied: cachetools<5.0,>=2.0.0 in /usr/local/lib/python3.7/dist-packages (from google-auth<2.0dev,>=1.25.0->google-api-core<3.0.0,>=1.0.0->opencensus->ray[default]) (4.2.4)\n",
            "Requirement already satisfied: pyasn1-modules>=0.2.1 in /usr/local/lib/python3.7/dist-packages (from google-auth<2.0dev,>=1.25.0->google-api-core<3.0.0,>=1.0.0->opencensus->ray[default]) (0.2.8)\n",
            "Requirement already satisfied: rsa<5,>=3.1.4 in /usr/local/lib/python3.7/dist-packages (from google-auth<2.0dev,>=1.25.0->google-api-core<3.0.0,>=1.0.0->opencensus->ray[default]) (4.8)\n",
            "Requirement already satisfied: pyasn1<0.5.0,>=0.4.6 in /usr/local/lib/python3.7/dist-packages (from pyasn1-modules>=0.2.1->google-auth<2.0dev,>=1.25.0->google-api-core<3.0.0,>=1.0.0->opencensus->ray[default]) (0.4.8)\n",
            "Requirement already satisfied: tabulate in /usr/local/lib/python3.7/dist-packages (from ray[default]) (0.8.10)\n",
            "Requirement already satisfied: tensorboardX>=1.9 in /usr/local/lib/python3.7/dist-packages (from ray[default]) (2.5.1)\n",
            "Requirement already satisfied: pandas in /usr/local/lib/python3.7/dist-packages (from ray[default]) (1.3.5)\n",
            "Requirement already satisfied: python-dateutil>=2.7.3 in /usr/local/lib/python3.7/dist-packages (from pandas->ray[default]) (2.8.2)\n",
            "Requirement already satisfied: distlib<1,>=0.3.1 in /usr/local/lib/python3.7/dist-packages (from virtualenv->ray[default]) (0.3.5)\n",
            "Requirement already satisfied: platformdirs<3,>=2 in /usr/local/lib/python3.7/dist-packages (from virtualenv->ray[default]) (2.5.2)\n"
          ]
        }
      ]
    },
    {
      "cell_type": "code",
      "source": [
        "import time\n",
        "import numpy as np\n",
        "import os\n",
        "import torch\n",
        "import torch.nn as nn\n",
        "import torch.optim as optim\n",
        "from torchvision.models import resnet18\n",
        "from cords.utils.data.datasets.SL import gen_dataset\n",
        "from torch.utils.data import Subset\n",
        "from cords.utils.config_utils import load_config_data\n",
        "import os.path as osp\n",
        "from cords.utils.data.data_utils import WeightedSubset\n",
        "from composer import functional as cf\n",
        "from ray import tune"
      ],
      "metadata": {
        "id": "IFtimJsDYBSm"
      },
      "execution_count": 3,
      "outputs": []
    },
    {
      "cell_type": "code",
      "source": [
        "trainset, validset, testset, num_cls = gen_dataset('data/', 'cifar10', None, isnumpy=False)"
      ],
      "metadata": {
        "colab": {
          "base_uri": "https://localhost:8080/"
        },
        "id": "fCOZOz0CYDmA",
        "outputId": "f3f9fd0d-7246-43c4-8637-c8e7b004799d"
      },
      "execution_count": 4,
      "outputs": [
        {
          "output_type": "stream",
          "name": "stdout",
          "text": [
            "Files already downloaded and verified\n",
            "Files already downloaded and verified\n"
          ]
        }
      ]
    },
    {
      "cell_type": "code",
      "source": [
        "trn_batch_size = 20\n",
        "val_batch_size = 20\n",
        "tst_batch_size = 1000\n",
        "\n",
        "# Creating the Data Loaders\n",
        "trainloader = torch.utils.data.DataLoader(trainset, batch_size=trn_batch_size,\n",
        "                                          shuffle=False, pin_memory=True)\n",
        "\n",
        "valloader = torch.utils.data.DataLoader(validset, batch_size=val_batch_size,\n",
        "                                        shuffle=False, pin_memory=True)\n",
        "\n",
        "testloader = torch.utils.data.DataLoader(testset, batch_size=tst_batch_size,\n",
        "                                          shuffle=False, pin_memory=True)"
      ],
      "metadata": {
        "id": "JJji-yh0YIEY"
      },
      "execution_count": 5,
      "outputs": []
    },
    {
      "cell_type": "code",
      "source": [
        "from cords.utils.models import ResNet18\n",
        "numclasses = 10\n",
        "device = 'cuda' #Device Argument\n",
        "model = ResNet18(10)\n",
        "model = cf.apply_squeeze_excite(model)\n",
        "model = model.to(device)"
      ],
      "metadata": {
        "id": "6Qj5KIyEYJ8M"
      },
      "execution_count": 6,
      "outputs": []
    },
    {
      "cell_type": "code",
      "source": [
        "criterion = nn.CrossEntropyLoss()\n",
        "criterion_nored = nn.CrossEntropyLoss(reduction='none')"
      ],
      "metadata": {
        "id": "8Tvpow1wYLWZ"
      },
      "execution_count": 7,
      "outputs": []
    },
    {
      "cell_type": "code",
      "source": [
        "def save_ckpt(state, ckpt_path):\n",
        "    torch.save(state, ckpt_path)\n",
        "\n",
        "\n",
        "def load_ckpt(ckpt_path, model, optimizer):\n",
        "    checkpoint = torch.load(ckpt_path)\n",
        "    start_epoch = checkpoint['epoch']\n",
        "    model.load_state_dict(checkpoint['state_dict'])\n",
        "    optimizer.load_state_dict(checkpoint['optimizer'])\n",
        "    loss = checkpoint['loss']\n",
        "    metrics = checkpoint['metrics']\n",
        "    return start_epoch, model, optimizer, loss, metrics"
      ],
      "metadata": {
        "id": "uJhZ8d3vYNBh"
      },
      "execution_count": 8,
      "outputs": []
    },
    {
      "cell_type": "code",
      "source": [
        "def generate_cumulative_timing(mod_timing):\n",
        "    tmp = 0\n",
        "    mod_cum_timing = np.zeros(len(mod_timing))\n",
        "    for i in range(len(mod_timing)):\n",
        "        tmp += mod_timing[i]\n",
        "        mod_cum_timing[i] = tmp\n",
        "    return mod_cum_timing / 3600"
      ],
      "metadata": {
        "id": "0hx_sinTYOdX"
      },
      "execution_count": 9,
      "outputs": []
    },
    {
      "cell_type": "code",
      "source": [
        "optimizer = optim.SGD(model.parameters(), lr=1e-2,\n",
        "                                  momentum=0.9,\n",
        "                                  weight_decay=5e-4,\n",
        "                                  nesterov=False)\n",
        "\n",
        "#T_max is the maximum number of scheduler steps. Here we are using the number of epochs as the maximum number of scheduler steps.\n",
        "\n",
        "scheduler = torch.optim.lr_scheduler.CosineAnnealingLR(optimizer,\n",
        "                                                       T_max=30)"
      ],
      "metadata": {
        "id": "kLHSf3WEYP3_"
      },
      "execution_count": 10,
      "outputs": []
    },
    {
      "cell_type": "code",
      "source": [
        "def __get_logger(results_dir):\n",
        "  os.makedirs(results_dir, exist_ok=True)\n",
        "  # setup logger\n",
        "  plain_formatter = logging.Formatter(\"[%(asctime)s] %(name)s %(levelname)s: %(message)s\",\n",
        "                                      datefmt=\"%m/%d %H:%M:%S\")\n",
        "  logger = logging.getLogger(__name__)\n",
        "  logger.setLevel(logging.INFO)\n",
        "  s_handler = logging.StreamHandler(stream=sys.stdout)\n",
        "  s_handler.setFormatter(plain_formatter)\n",
        "  s_handler.setLevel(logging.INFO)\n",
        "  logger.addHandler(s_handler)\n",
        "  f_handler = logging.FileHandler(os.path.join(results_dir, \"results.log\"))\n",
        "  f_handler.setFormatter(plain_formatter)\n",
        "  f_handler.setLevel(logging.DEBUG)\n",
        "  logger.addHandler(f_handler)\n",
        "  logger.propagate = False\n",
        "  return logger"
      ],
      "metadata": {
        "id": "wAopp5oFYRJJ"
      },
      "execution_count": 11,
      "outputs": []
    },
    {
      "cell_type": "code",
      "source": [
        "import logging\n",
        "import os\n",
        "import os.path as osp\n",
        "import sys\n",
        "\n",
        "#Results logging directory\n",
        "results_dir = osp.abspath(osp.expanduser('results'))\n",
        "logger = __get_logger(results_dir)"
      ],
      "metadata": {
        "id": "6AQkQW5XYSqA"
      },
      "execution_count": 12,
      "outputs": []
    },
    {
      "cell_type": "code",
      "source": [
        "logger.info(\"hello\")"
      ],
      "metadata": {
        "colab": {
          "base_uri": "https://localhost:8080/"
        },
        "id": "IAh0aXRKYWzi",
        "outputId": "242917fc-47a4-4c25-a8c1-48bf9cae0b25"
      },
      "execution_count": 13,
      "outputs": [
        {
          "output_type": "stream",
          "name": "stdout",
          "text": [
            "[07/20 17:11:08] __main__ INFO: hello\n"
          ]
        }
      ]
    },
    {
      "cell_type": "code",
      "source": [
        "from cords.utils.data.dataloader.SL.adaptive import GLISTERDataLoader, OLRandomDataLoader, \\\n",
        "    CRAIGDataLoader, GradMatchDataLoader, RandomDataLoader\n",
        "from dotmap import DotMap\n",
        "\n",
        "selection_strategy = 'GLISTER'\n",
        "dss_args = dict(model=model,\n",
        "                loss=criterion_nored,\n",
        "                eta=0.01,\n",
        "                num_classes=10,\n",
        "                num_epochs=150,\n",
        "                device='cuda',\n",
        "                fraction=0.1,\n",
        "                select_every=10,\n",
        "                kappa=0,\n",
        "                linear_layer=False,\n",
        "                selection_type='SL',\n",
        "                greedy='Stochastic')\n",
        "dss_args = DotMap(dss_args)\n",
        "\n",
        "dataloader = GLISTERDataLoader(trainloader, valloader, dss_args, logger, \n",
        "                                  batch_size=20, \n",
        "                                  shuffle=True,\n",
        "                                  pin_memory=False)"
      ],
      "metadata": {
        "colab": {
          "base_uri": "https://localhost:8080/"
        },
        "id": "P72TwdhcYYL8",
        "outputId": "1c7e8b61-06ef-4615-d549-734c0c134022"
      },
      "execution_count": 14,
      "outputs": [
        {
          "output_type": "stream",
          "name": "stderr",
          "text": [
            "/usr/local/lib/python3.7/dist-packages/numba/np/ufunc/parallel.py:363: NumbaWarning: \u001b[1mThe TBB threading layer requires TBB version 2019.5 or later i.e., TBB_INTERFACE_VERSION >= 11005. Found TBB_INTERFACE_VERSION = 9107. The TBB threading layer is disabled.\u001b[0m\n",
            "  warnings.warn(problem)\n"
          ]
        }
      ]
    },
    {
      "cell_type": "code",
      "source": [
        "#Training Arguments\n",
        "num_epochs = 150\n",
        "\n",
        "#Arguments for results logging\n",
        "print_every = 1\n",
        "print_args = [\"val_loss\", \"val_acc\", \"tst_loss\", \"tst_acc\", \"time\"]\n",
        "\n",
        "#Argumets for checkpointing\n",
        "save_every = 20\n",
        "is_save = True\n",
        "\n",
        "#Evaluation Metrics\n",
        "trn_losses = list()\n",
        "val_losses = list()\n",
        "tst_losses = list()\n",
        "subtrn_losses = list()\n",
        "timing = list()\n",
        "trn_acc = list()\n",
        "val_acc = list()  \n",
        "tst_acc = list()  \n",
        "subtrn_acc = list()"
      ],
      "metadata": {
        "id": "hN182L3MYa8a"
      },
      "execution_count": 15,
      "outputs": []
    },
    {
      "cell_type": "code",
      "source": [
        "\"\"\"\n",
        "################################################# Training Loop #################################################\n",
        "\"\"\"\n",
        "for epoch in range(num_epochs):\n",
        "    subtrn_loss = 0\n",
        "    subtrn_correct = 0\n",
        "    subtrn_total = 0\n",
        "    model.train()\n",
        "    start_time = time.time()\n",
        "    for _, (inputs, targets, weights) in enumerate(dataloader):\n",
        "        inputs = inputs.to(device)\n",
        "        targets = targets.to(device, non_blocking=True)\n",
        "        weights = weights.to(device)  \n",
        "        optimizer.zero_grad()\n",
        "        outputs = model(inputs)\n",
        "        losses = criterion_nored(outputs, targets)\n",
        "        loss = torch.dot(losses, weights/(weights.sum()))\n",
        "        loss.backward()\n",
        "        subtrn_loss += loss.item()\n",
        "        optimizer.step()\n",
        "        _, predicted = outputs.max(1)\n",
        "        subtrn_total += targets.size(0)\n",
        "        subtrn_correct += predicted.eq(targets).sum().item()\n",
        "    epoch_time = time.time() - start_time\n",
        "    scheduler.step()\n",
        "    timing.append(epoch_time)\n",
        "\n",
        "\n",
        "    \"\"\"\n",
        "    ################################################# Evaluation Loop #################################################\n",
        "    \"\"\"\n",
        "\n",
        "    if (epoch + 1) % print_every == 0:\n",
        "        trn_loss = 0\n",
        "        trn_correct = 0\n",
        "        trn_total = 0\n",
        "        val_loss = 0\n",
        "        val_correct = 0\n",
        "        val_total = 0\n",
        "        tst_correct = 0\n",
        "        tst_total = 0\n",
        "        tst_loss = 0\n",
        "        model.eval()\n",
        "\n",
        "        if (\"trn_loss\" in print_args) or (\"trn_acc\" in print_args):\n",
        "            with torch.no_grad():\n",
        "                for _, (inputs, targets) in enumerate(trainloader):\n",
        "                    inputs, targets = inputs.to(device), \\\n",
        "                                      targets.to(device, non_blocking=True)\n",
        "                    outputs = model(inputs)\n",
        "                    loss = criterion(outputs, targets)\n",
        "                    trn_loss += loss.item()\n",
        "                    if \"trn_acc\" in print_args:\n",
        "                        _, predicted = outputs.max(1)\n",
        "                        trn_total += targets.size(0)\n",
        "                        trn_correct += predicted.eq(targets).sum().item()\n",
        "                trn_losses.append(trn_loss)\n",
        "\n",
        "            if \"trn_acc\" in print_args:\n",
        "                trn_acc.append(trn_correct / trn_total)\n",
        "\n",
        "        if (\"val_loss\" in print_args) or (\"val_acc\" in print_args):\n",
        "            with torch.no_grad():\n",
        "                for _, (inputs, targets) in enumerate(valloader):\n",
        "                    inputs, targets = inputs.to(device), \\\n",
        "                                      targets.to(device, non_blocking=True)\n",
        "                    outputs = model(inputs)\n",
        "                    loss = criterion(outputs, targets)\n",
        "                    val_loss += loss.item()\n",
        "                    if \"val_acc\" in print_args:\n",
        "                        _, predicted = outputs.max(1)\n",
        "                        val_total += targets.size(0)\n",
        "                        val_correct += predicted.eq(targets).sum().item()\n",
        "                val_losses.append(val_loss)\n",
        "\n",
        "            if \"val_acc\" in print_args:\n",
        "                val_acc.append(val_correct / val_total)\n",
        "\n",
        "        if (\"tst_loss\" in print_args) or (\"tst_acc\" in print_args):\n",
        "            with torch.no_grad():\n",
        "                for _, (inputs, targets) in enumerate(testloader):\n",
        "                    inputs, targets = inputs.to(device), \\\n",
        "                                      targets.to(device, non_blocking=True)\n",
        "                    outputs = model(inputs)\n",
        "                    loss = criterion(outputs, targets)\n",
        "                    tst_loss += loss.item()\n",
        "                    if \"tst_acc\" in print_args:\n",
        "                        _, predicted = outputs.max(1)\n",
        "                        tst_total += targets.size(0)\n",
        "                        tst_correct += predicted.eq(targets).sum().item()\n",
        "                tst_losses.append(tst_loss)\n",
        "\n",
        "            if \"tst_acc\" in print_args:\n",
        "                tst_acc.append(tst_correct / tst_total)\n",
        "\n",
        "        if \"subtrn_acc\" in print_args:\n",
        "            subtrn_acc.append(subtrn_correct / subtrn_total)\n",
        "\n",
        "        if \"subtrn_losses\" in print_args:\n",
        "            subtrn_losses.append(subtrn_loss)\n",
        "\n",
        "        print_str = \"Epoch: \" + str(epoch + 1)\n",
        "\n",
        "        \"\"\"\n",
        "        ################################################# Results Printing #################################################\n",
        "        \"\"\"\n",
        "\n",
        "        for arg in print_args:\n",
        "\n",
        "            if arg == \"val_loss\":\n",
        "                print_str += \" , \" + \"Validation Loss: \" + str(val_losses[-1])\n",
        "\n",
        "            if arg == \"val_acc\":\n",
        "                print_str += \" , \" + \"Validation Accuracy: \" + str(val_acc[-1])\n",
        "\n",
        "            if arg == \"tst_loss\":\n",
        "                print_str += \" , \" + \"Test Loss: \" + str(tst_losses[-1])\n",
        "\n",
        "            if arg == \"tst_acc\":\n",
        "                print_str += \" , \" + \"Test Accuracy: \" + str(tst_acc[-1])\n",
        "\n",
        "            if arg == \"trn_loss\":\n",
        "                print_str += \" , \" + \"Training Loss: \" + str(trn_losses[-1])\n",
        "\n",
        "            if arg == \"trn_acc\":\n",
        "                print_str += \" , \" + \"Training Accuracy: \" + str(trn_acc[-1])\n",
        "\n",
        "            if arg == \"subtrn_loss\":\n",
        "                print_str += \" , \" + \"Subset Loss: \" + str(subtrn_losses[-1])\n",
        "\n",
        "            if arg == \"subtrn_acc\":\n",
        "                print_str += \" , \" + \"Subset Accuracy: \" + str(subtrn_acc[-1])\n",
        "\n",
        "            if arg == \"time\":\n",
        "                print_str += \" , \" + \"Timing: \" + str(timing[-1])\n",
        "\n",
        "        logger.info(print_str)\n",
        "\n",
        "    \"\"\"\n",
        "    ################################################# Checkpoint Saving #################################################\n",
        "    \"\"\"\n",
        "\n",
        "    if ((epoch + 1) % save_every == 0) and is_save:\n",
        "\n",
        "        metric_dict = {}\n",
        "\n",
        "        for arg in print_args:\n",
        "            if arg == \"val_loss\":\n",
        "                metric_dict['val_loss'] = val_losses\n",
        "            if arg == \"val_acc\":\n",
        "                metric_dict['val_acc'] = val_acc\n",
        "            if arg == \"tst_loss\":\n",
        "                metric_dict['tst_loss'] = tst_losses\n",
        "            if arg == \"tst_acc\":\n",
        "                metric_dict['tst_acc'] = tst_acc\n",
        "            if arg == \"trn_loss\":\n",
        "                metric_dict['trn_loss'] = trn_losses\n",
        "            if arg == \"trn_acc\":\n",
        "                metric_dict['trn_acc'] = trn_acc\n",
        "            if arg == \"subtrn_loss\":\n",
        "                metric_dict['subtrn_loss'] = subtrn_losses\n",
        "            if arg == \"subtrn_acc\":\n",
        "                metric_dict['subtrn_acc'] = subtrn_acc\n",
        "            if arg == \"time\":\n",
        "                metric_dict['time'] = timing\n",
        "\n",
        "        ckpt_state = {\n",
        "            'epoch': epoch + 1,\n",
        "            'state_dict': model.state_dict(),\n",
        "            'optimizer': optimizer.state_dict(),\n",
        "            'loss': criterion_nored,\n",
        "            'metrics': metric_dict\n",
        "        }\n",
        "\n",
        "        # save checkpoint\n",
        "        save_ckpt(ckpt_state, 'model.pt')\n",
        "        logger.info(\"Model checkpoint saved at epoch: {0:d}\".format(epoch + 1))\n",
        "\n",
        "    if val_acc[-1] > 0.8:\n",
        "        break\n",
        "\n",
        "\"\"\"\n",
        "################################################# Results Summary #################################################\n",
        "\"\"\"\n",
        "\n",
        "logger.info(\"{0:s} Selection Run---------------------------------\".format(selection_strategy))\n",
        "logger.info(\"Final SubsetTrn: {0:f}\".format(subtrn_loss))\n",
        "if \"val_loss\" in print_args:\n",
        "    if \"val_acc\" in print_args:\n",
        "        logger.info(\"Validation Loss: %.2f , Validation Accuracy: %.2f\", val_loss, val_acc[-1])\n",
        "    else:\n",
        "        logger.info(\"Validation Loss: %.2f\", val_loss)\n",
        "\n",
        "if \"tst_loss\" in print_args:\n",
        "    if \"tst_acc\" in print_args:\n",
        "        logger.info(\"Test Loss: %.2f, Test Accuracy: %.2f\", tst_loss, tst_acc[-1])\n",
        "    else:\n",
        "        logger.info(\"Test Data Loss: %f\", tst_loss)\n",
        "logger.info('---------------------------------------------------------------------')\n",
        "logger.info(selection_strategy)\n",
        "logger.info('---------------------------------------------------------------------')\n",
        "\n",
        "\"\"\"\n",
        "################################################# Final Results Logging #################################################\n",
        "\"\"\"\n",
        "\n",
        "if \"val_acc\" in print_args:\n",
        "    val_str = \"Validation Accuracy, \"\n",
        "    for val in val_acc:\n",
        "        val_str = val_str + \" , \" + str(val)\n",
        "    logger.info(val_str)\n",
        "\n",
        "if \"tst_acc\" in print_args:\n",
        "    tst_str = \"Test Accuracy, \"\n",
        "    for tst in tst_acc:\n",
        "        tst_str = tst_str + \" , \" + str(tst)\n",
        "    logger.info(tst_str)\n",
        "\n",
        "if \"time\" in print_args:\n",
        "    time_str = \"Time, \"\n",
        "    for t in timing:\n",
        "        time_str = time_str + \" , \" + str(t)\n",
        "    logger.info(timing)\n",
        "\n",
        "timing_array = np.array(timing)\n",
        "cum_timing = list(generate_cumulative_timing(timing_array))\n",
        "logger.info(\"Total time taken by %s = %.4f \", selection_strategy, cum_timing[-1])"
      ],
      "metadata": {
        "colab": {
          "base_uri": "https://localhost:8080/"
        },
        "id": "243ksusPYc59",
        "outputId": "02e2789f-251f-4d69-aaaa-09267573989b"
      },
      "execution_count": 16,
      "outputs": [
        {
          "output_type": "stream",
          "name": "stdout",
          "text": [
            "[07/20 17:11:26] __main__ INFO: Epoch: 1 , Validation Loss: 558.6739964485168 , Validation Accuracy: 0.283 , Test Loss: 24.66013240814209 , Test Accuracy: 0.2943 , Timing: 7.948109149932861\n",
            "[07/20 17:11:40] __main__ INFO: Epoch: 2 , Validation Loss: 446.83007395267487 , Validation Accuracy: 0.3232 , Test Loss: 17.801498651504517 , Test Accuracy: 0.3405 , Timing: 6.417146921157837\n",
            "[07/20 17:11:53] __main__ INFO: Epoch: 3 , Validation Loss: 465.6364370584488 , Validation Accuracy: 0.3536 , Test Loss: 20.016382336616516 , Test Accuracy: 0.3678 , Timing: 6.428221940994263\n",
            "[07/20 17:12:07] __main__ INFO: Epoch: 4 , Validation Loss: 417.9728453159332 , Validation Accuracy: 0.3656 , Test Loss: 16.09433650970459 , Test Accuracy: 0.3969 , Timing: 6.4127678871154785\n",
            "[07/20 17:12:21] __main__ INFO: Epoch: 5 , Validation Loss: 438.20848274230957 , Validation Accuracy: 0.4052 , Test Loss: 18.213430047035217 , Test Accuracy: 0.4243 , Timing: 7.08397102355957\n",
            "[07/20 17:12:35] __main__ INFO: Epoch: 6 , Validation Loss: 575.6255623102188 , Validation Accuracy: 0.435 , Test Loss: 30.528213024139404 , Test Accuracy: 0.4312 , Timing: 6.4242353439331055\n",
            "[07/20 17:12:48] __main__ INFO: Epoch: 7 , Validation Loss: 361.73327696323395 , Validation Accuracy: 0.5088 , Test Loss: 14.277788281440735 , Test Accuracy: 0.4985 , Timing: 6.493016481399536\n",
            "[07/20 17:13:02] __main__ INFO: Epoch: 8 , Validation Loss: 458.79539477825165 , Validation Accuracy: 0.4548 , Test Loss: 23.185457229614258 , Test Accuracy: 0.4597 , Timing: 6.430948734283447\n",
            "[07/20 17:13:15] __main__ INFO: Epoch: 9 , Validation Loss: 370.5971000790596 , Validation Accuracy: 0.4966 , Test Loss: 17.130571842193604 , Test Accuracy: 0.4979 , Timing: 6.653430461883545\n",
            "[07/20 17:13:29] __main__ INFO: Epoch: 10 , Validation Loss: 370.8594150543213 , Validation Accuracy: 0.5328 , Test Loss: 16.24011743068695 , Test Accuracy: 0.5445 , Timing: 6.485402345657349\n",
            "[07/20 17:14:12] __main__ INFO: Epoch: 11, GLISTER dataloader subset selection finished, takes 42.9609. \n",
            "[07/20 17:14:25] __main__ INFO: Epoch: 11 , Validation Loss: 367.2149149775505 , Validation Accuracy: 0.4812 , Test Loss: 14.94476068019867 , Test Accuracy: 0.4926 , Timing: 49.58721041679382\n",
            "[07/20 17:14:39] __main__ INFO: Epoch: 12 , Validation Loss: 743.8910522460938 , Validation Accuracy: 0.4324 , Test Loss: 35.19530653953552 , Test Accuracy: 0.4419 , Timing: 6.460809707641602\n",
            "[07/20 17:14:52] __main__ INFO: Epoch: 13 , Validation Loss: 586.4839653968811 , Validation Accuracy: 0.5024 , Test Loss: 30.555371403694153 , Test Accuracy: 0.5144 , Timing: 6.449955463409424\n",
            "[07/20 17:15:06] __main__ INFO: Epoch: 14 , Validation Loss: 439.10798037052155 , Validation Accuracy: 0.472 , Test Loss: 21.94937574863434 , Test Accuracy: 0.4628 , Timing: 6.455204010009766\n",
            "[07/20 17:15:19] __main__ INFO: Epoch: 15 , Validation Loss: 348.37418669462204 , Validation Accuracy: 0.5146 , Test Loss: 14.398351788520813 , Test Accuracy: 0.5285 , Timing: 6.440157175064087\n",
            "[07/20 17:15:33] __main__ INFO: Epoch: 16 , Validation Loss: 314.09893757104874 , Validation Accuracy: 0.528 , Test Loss: 12.558677911758423 , Test Accuracy: 0.5411 , Timing: 6.453150510787964\n",
            "[07/20 17:15:46] __main__ INFO: Epoch: 17 , Validation Loss: 662.7637036442757 , Validation Accuracy: 0.5266 , Test Loss: 37.18367886543274 , Test Accuracy: 0.5369 , Timing: 6.552386522293091\n",
            "[07/20 17:16:00] __main__ INFO: Epoch: 18 , Validation Loss: 316.81233751773834 , Validation Accuracy: 0.5506 , Test Loss: 13.101682424545288 , Test Accuracy: 0.5503 , Timing: 6.582674503326416\n",
            "[07/20 17:16:13] __main__ INFO: Epoch: 19 , Validation Loss: 320.199356675148 , Validation Accuracy: 0.5668 , Test Loss: 14.834078788757324 , Test Accuracy: 0.5653 , Timing: 6.562413692474365\n",
            "[07/20 17:16:27] __main__ INFO: Epoch: 20 , Validation Loss: 385.13707399368286 , Validation Accuracy: 0.5768 , Test Loss: 19.30838143825531 , Test Accuracy: 0.5783 , Timing: 6.547692060470581\n",
            "[07/20 17:16:27] __main__ INFO: Model checkpoint saved at epoch: 20\n",
            "[07/20 17:17:10] __main__ INFO: Epoch: 21, GLISTER dataloader subset selection finished, takes 42.6761. \n",
            "[07/20 17:17:24] __main__ INFO: Epoch: 21 , Validation Loss: 257.4015459418297 , Validation Accuracy: 0.635 , Test Loss: 9.965344309806824 , Test Accuracy: 0.6463 , Timing: 49.25936961174011\n",
            "[07/20 17:17:37] __main__ INFO: Epoch: 22 , Validation Loss: 242.3980501294136 , Validation Accuracy: 0.6526 , Test Loss: 9.533058047294617 , Test Accuracy: 0.6557 , Timing: 6.578492164611816\n",
            "[07/20 17:17:51] __main__ INFO: Epoch: 23 , Validation Loss: 238.07818827033043 , Validation Accuracy: 0.653 , Test Loss: 9.410583198070526 , Test Accuracy: 0.6601 , Timing: 6.599680185317993\n",
            "[07/20 17:18:04] __main__ INFO: Epoch: 24 , Validation Loss: 253.08820220828056 , Validation Accuracy: 0.645 , Test Loss: 10.521204710006714 , Test Accuracy: 0.6592 , Timing: 6.5100016593933105\n",
            "[07/20 17:18:18] __main__ INFO: Epoch: 25 , Validation Loss: 232.0310039818287 , Validation Accuracy: 0.6576 , Test Loss: 9.610741674900055 , Test Accuracy: 0.6662 , Timing: 6.45450758934021\n",
            "[07/20 17:18:31] __main__ INFO: Epoch: 26 , Validation Loss: 231.14104384183884 , Validation Accuracy: 0.6728 , Test Loss: 9.713071703910828 , Test Accuracy: 0.6777 , Timing: 6.482622385025024\n",
            "[07/20 17:18:44] __main__ INFO: Epoch: 27 , Validation Loss: 222.66913431882858 , Validation Accuracy: 0.6746 , Test Loss: 8.88298362493515 , Test Accuracy: 0.6876 , Timing: 6.496578693389893\n",
            "[07/20 17:18:58] __main__ INFO: Epoch: 28 , Validation Loss: 219.77410313487053 , Validation Accuracy: 0.6792 , Test Loss: 8.917743563652039 , Test Accuracy: 0.6855 , Timing: 6.4766435623168945\n",
            "[07/20 17:19:12] __main__ INFO: Epoch: 29 , Validation Loss: 219.9699884057045 , Validation Accuracy: 0.679 , Test Loss: 8.720351934432983 , Test Accuracy: 0.6941 , Timing: 6.597537040710449\n",
            "[07/20 17:19:25] __main__ INFO: Epoch: 30 , Validation Loss: 217.6977504491806 , Validation Accuracy: 0.6818 , Test Loss: 8.861798167228699 , Test Accuracy: 0.6935 , Timing: 6.543600797653198\n",
            "[07/20 17:20:08] __main__ INFO: Epoch: 31, GLISTER dataloader subset selection finished, takes 42.3790. \n",
            "[07/20 17:20:21] __main__ INFO: Epoch: 31 , Validation Loss: 216.44790697097778 , Validation Accuracy: 0.683 , Test Loss: 8.764036774635315 , Test Accuracy: 0.698 , Timing: 48.858702421188354\n",
            "[07/20 17:20:34] __main__ INFO: Epoch: 32 , Validation Loss: 201.56715872883797 , Validation Accuracy: 0.7106 , Test Loss: 8.054396092891693 , Test Accuracy: 0.7135 , Timing: 6.469308376312256\n",
            "[07/20 17:20:48] __main__ INFO: Epoch: 33 , Validation Loss: 208.49249711632729 , Validation Accuracy: 0.705 , Test Loss: 8.254301309585571 , Test Accuracy: 0.7123 , Timing: 6.427771329879761\n",
            "[07/20 17:21:01] __main__ INFO: Epoch: 34 , Validation Loss: 214.05991822481155 , Validation Accuracy: 0.698 , Test Loss: 8.623645007610321 , Test Accuracy: 0.7112 , Timing: 6.485123872756958\n",
            "[07/20 17:21:15] __main__ INFO: Epoch: 35 , Validation Loss: 205.74160251021385 , Validation Accuracy: 0.7036 , Test Loss: 8.216245412826538 , Test Accuracy: 0.7026 , Timing: 6.509591102600098\n",
            "[07/20 17:21:29] __main__ INFO: Epoch: 36 , Validation Loss: 223.19038540124893 , Validation Accuracy: 0.6736 , Test Loss: 8.608928740024567 , Test Accuracy: 0.6884 , Timing: 6.5480804443359375\n",
            "[07/20 17:21:42] __main__ INFO: Epoch: 37 , Validation Loss: 226.239390283823 , Validation Accuracy: 0.6762 , Test Loss: 9.161617994308472 , Test Accuracy: 0.6707 , Timing: 6.610311031341553\n",
            "[07/20 17:21:56] __main__ INFO: Epoch: 38 , Validation Loss: 233.60813969373703 , Validation Accuracy: 0.6546 , Test Loss: 9.506631672382355 , Test Accuracy: 0.6617 , Timing: 6.6345014572143555\n",
            "[07/20 17:22:10] __main__ INFO: Epoch: 39 , Validation Loss: 248.3723995089531 , Validation Accuracy: 0.6346 , Test Loss: 9.857129395008087 , Test Accuracy: 0.6402 , Timing: 6.653061866760254\n",
            "[07/20 17:22:23] __main__ INFO: Epoch: 40 , Validation Loss: 253.3812934756279 , Validation Accuracy: 0.6216 , Test Loss: 9.6690434217453 , Test Accuracy: 0.6457 , Timing: 6.692314624786377\n",
            "[07/20 17:22:24] __main__ INFO: Model checkpoint saved at epoch: 40\n",
            "[07/20 17:23:07] __main__ INFO: Epoch: 41, GLISTER dataloader subset selection finished, takes 43.1526. \n",
            "[07/20 17:23:20] __main__ INFO: Epoch: 41 , Validation Loss: 233.1389882862568 , Validation Accuracy: 0.6668 , Test Loss: 9.245077431201935 , Test Accuracy: 0.6689 , Timing: 49.81234645843506\n",
            "[07/20 17:23:34] __main__ INFO: Epoch: 42 , Validation Loss: 256.3856374323368 , Validation Accuracy: 0.6408 , Test Loss: 10.59715074300766 , Test Accuracy: 0.6495 , Timing: 6.651046991348267\n",
            "[07/20 17:23:48] __main__ INFO: Epoch: 43 , Validation Loss: 265.99426567554474 , Validation Accuracy: 0.615 , Test Loss: 10.499340295791626 , Test Accuracy: 0.624 , Timing: 6.607384204864502\n",
            "[07/20 17:24:02] __main__ INFO: Epoch: 44 , Validation Loss: 280.89723855257034 , Validation Accuracy: 0.5914 , Test Loss: 10.946146845817566 , Test Accuracy: 0.603 , Timing: 6.630638599395752\n",
            "[07/20 17:24:15] __main__ INFO: Epoch: 45 , Validation Loss: 253.73784977197647 , Validation Accuracy: 0.6488 , Test Loss: 10.143491208553314 , Test Accuracy: 0.6537 , Timing: 6.743458271026611\n",
            "[07/20 17:24:29] __main__ INFO: Epoch: 46 , Validation Loss: 316.59358060359955 , Validation Accuracy: 0.5526 , Test Loss: 13.168839931488037 , Test Accuracy: 0.5496 , Timing: 6.678048372268677\n",
            "[07/20 17:24:43] __main__ INFO: Epoch: 47 , Validation Loss: 307.44102361798286 , Validation Accuracy: 0.5902 , Test Loss: 12.146750092506409 , Test Accuracy: 0.6067 , Timing: 6.648486137390137\n",
            "[07/20 17:24:57] __main__ INFO: Epoch: 48 , Validation Loss: 330.8450322151184 , Validation Accuracy: 0.5398 , Test Loss: 13.093267798423767 , Test Accuracy: 0.5605 , Timing: 6.618386268615723\n",
            "[07/20 17:25:10] __main__ INFO: Epoch: 49 , Validation Loss: 274.0877179503441 , Validation Accuracy: 0.611 , Test Loss: 10.543195962905884 , Test Accuracy: 0.6364 , Timing: 6.7166924476623535\n",
            "[07/20 17:25:24] __main__ INFO: Epoch: 50 , Validation Loss: 266.51503667235374 , Validation Accuracy: 0.6252 , Test Loss: 10.536324262619019 , Test Accuracy: 0.6517 , Timing: 6.698559045791626\n",
            "[07/20 17:26:07] __main__ INFO: Epoch: 51, GLISTER dataloader subset selection finished, takes 43.0234. \n",
            "[07/20 17:26:21] __main__ INFO: Epoch: 51 , Validation Loss: 269.3501926064491 , Validation Accuracy: 0.5998 , Test Loss: 10.478979349136353 , Test Accuracy: 0.615 , Timing: 49.69893550872803\n",
            "[07/20 17:26:35] __main__ INFO: Epoch: 52 , Validation Loss: 258.0018057823181 , Validation Accuracy: 0.6346 , Test Loss: 10.179150879383087 , Test Accuracy: 0.6487 , Timing: 6.642526865005493\n",
            "[07/20 17:26:48] __main__ INFO: Epoch: 53 , Validation Loss: 295.70458167791367 , Validation Accuracy: 0.5882 , Test Loss: 12.685065984725952 , Test Accuracy: 0.6169 , Timing: 6.67144250869751\n",
            "[07/20 17:27:02] __main__ INFO: Epoch: 54 , Validation Loss: 246.08567470312119 , Validation Accuracy: 0.6428 , Test Loss: 9.349489629268646 , Test Accuracy: 0.6717 , Timing: 6.626552104949951\n",
            "[07/20 17:27:16] __main__ INFO: Epoch: 55 , Validation Loss: 245.31597527861595 , Validation Accuracy: 0.6586 , Test Loss: 10.014977216720581 , Test Accuracy: 0.655 , Timing: 6.6821019649505615\n",
            "[07/20 17:27:30] __main__ INFO: Epoch: 56 , Validation Loss: 239.28172934055328 , Validation Accuracy: 0.6546 , Test Loss: 9.240236282348633 , Test Accuracy: 0.6699 , Timing: 6.641778469085693\n",
            "[07/20 17:27:43] __main__ INFO: Epoch: 57 , Validation Loss: 261.1332006454468 , Validation Accuracy: 0.6236 , Test Loss: 10.613927781581879 , Test Accuracy: 0.6286 , Timing: 6.630281925201416\n",
            "[07/20 17:27:57] __main__ INFO: Epoch: 58 , Validation Loss: 238.4564009308815 , Validation Accuracy: 0.6528 , Test Loss: 9.574355125427246 , Test Accuracy: 0.6621 , Timing: 6.629902124404907\n",
            "[07/20 17:28:11] __main__ INFO: Epoch: 59 , Validation Loss: 243.4034272134304 , Validation Accuracy: 0.6438 , Test Loss: 10.28491097688675 , Test Accuracy: 0.6402 , Timing: 6.705316781997681\n",
            "[07/20 17:28:24] __main__ INFO: Epoch: 60 , Validation Loss: 292.35296952724457 , Validation Accuracy: 0.6132 , Test Loss: 12.36785888671875 , Test Accuracy: 0.6118 , Timing: 6.671629428863525\n",
            "[07/20 17:28:25] __main__ INFO: Model checkpoint saved at epoch: 60\n",
            "[07/20 17:29:08] __main__ INFO: Epoch: 61, GLISTER dataloader subset selection finished, takes 43.1841. \n",
            "[07/20 17:29:22] __main__ INFO: Epoch: 61 , Validation Loss: 229.50227466225624 , Validation Accuracy: 0.6864 , Test Loss: 9.157622754573822 , Test Accuracy: 0.6861 , Timing: 49.89261174201965\n",
            "[07/20 17:29:35] __main__ INFO: Epoch: 62 , Validation Loss: 219.84110870957375 , Validation Accuracy: 0.683 , Test Loss: 8.3751722574234 , Test Accuracy: 0.6973 , Timing: 6.655954122543335\n",
            "[07/20 17:29:49] __main__ INFO: Epoch: 63 , Validation Loss: 234.75124540925026 , Validation Accuracy: 0.6658 , Test Loss: 8.963462889194489 , Test Accuracy: 0.6827 , Timing: 6.701887607574463\n",
            "[07/20 17:30:03] __main__ INFO: Epoch: 64 , Validation Loss: 205.82690533995628 , Validation Accuracy: 0.6986 , Test Loss: 8.310763001441956 , Test Accuracy: 0.7093 , Timing: 6.631312131881714\n",
            "[07/20 17:30:17] __main__ INFO: Epoch: 65 , Validation Loss: 232.83337900042534 , Validation Accuracy: 0.6766 , Test Loss: 9.309318959712982 , Test Accuracy: 0.688 , Timing: 6.649705648422241\n",
            "[07/20 17:30:30] __main__ INFO: Epoch: 66 , Validation Loss: 211.52337077260017 , Validation Accuracy: 0.7054 , Test Loss: 8.372413396835327 , Test Accuracy: 0.7164 , Timing: 6.630563974380493\n",
            "[07/20 17:30:44] __main__ INFO: Epoch: 67 , Validation Loss: 228.31689909100533 , Validation Accuracy: 0.6842 , Test Loss: 9.290684461593628 , Test Accuracy: 0.6928 , Timing: 6.679362535476685\n",
            "[07/20 17:30:58] __main__ INFO: Epoch: 68 , Validation Loss: 219.44902309775352 , Validation Accuracy: 0.7034 , Test Loss: 8.53555452823639 , Test Accuracy: 0.7143 , Timing: 6.659472227096558\n",
            "[07/20 17:31:12] __main__ INFO: Epoch: 69 , Validation Loss: 188.48430289328098 , Validation Accuracy: 0.733 , Test Loss: 7.375751733779907 , Test Accuracy: 0.7488 , Timing: 6.659839630126953\n",
            "[07/20 17:31:25] __main__ INFO: Epoch: 70 , Validation Loss: 215.84876039624214 , Validation Accuracy: 0.711 , Test Loss: 8.87448251247406 , Test Accuracy: 0.7143 , Timing: 6.686743497848511\n",
            "[07/20 17:32:08] __main__ INFO: Epoch: 71, GLISTER dataloader subset selection finished, takes 43.0665. \n",
            "[07/20 17:32:22] __main__ INFO: Epoch: 71 , Validation Loss: 186.65667349100113 , Validation Accuracy: 0.7372 , Test Loss: 7.347065269947052 , Test Accuracy: 0.7447 , Timing: 49.797221422195435\n",
            "[07/20 17:32:36] __main__ INFO: Epoch: 72 , Validation Loss: 173.4621687233448 , Validation Accuracy: 0.7552 , Test Loss: 7.174352169036865 , Test Accuracy: 0.7558 , Timing: 6.6854939460754395\n",
            "[07/20 17:32:50] __main__ INFO: Epoch: 73 , Validation Loss: 170.56792275607586 , Validation Accuracy: 0.7544 , Test Loss: 6.77092570066452 , Test Accuracy: 0.7687 , Timing: 6.644528388977051\n",
            "[07/20 17:33:04] __main__ INFO: Epoch: 74 , Validation Loss: 162.28690449893475 , Validation Accuracy: 0.7734 , Test Loss: 6.478457689285278 , Test Accuracy: 0.7808 , Timing: 6.631531476974487\n",
            "[07/20 17:33:17] __main__ INFO: Epoch: 75 , Validation Loss: 180.31687405705452 , Validation Accuracy: 0.751 , Test Loss: 7.486526191234589 , Test Accuracy: 0.7438 , Timing: 6.636722087860107\n",
            "[07/20 17:33:32] __main__ INFO: Epoch: 76 , Validation Loss: 183.78454480320215 , Validation Accuracy: 0.7478 , Test Loss: 7.558976650238037 , Test Accuracy: 0.7469 , Timing: 6.937525272369385\n",
            "[07/20 17:33:45] __main__ INFO: Epoch: 77 , Validation Loss: 169.13864509761333 , Validation Accuracy: 0.7644 , Test Loss: 7.018571376800537 , Test Accuracy: 0.7744 , Timing: 6.74639892578125\n",
            "[07/20 17:33:59] __main__ INFO: Epoch: 78 , Validation Loss: 160.37577221542597 , Validation Accuracy: 0.775 , Test Loss: 6.765513718128204 , Test Accuracy: 0.7779 , Timing: 6.696200609207153\n",
            "[07/20 17:34:13] __main__ INFO: Epoch: 79 , Validation Loss: 161.3753981590271 , Validation Accuracy: 0.7818 , Test Loss: 6.748356282711029 , Test Accuracy: 0.7872 , Timing: 6.691474676132202\n",
            "[07/20 17:34:27] __main__ INFO: Epoch: 80 , Validation Loss: 178.50446803867817 , Validation Accuracy: 0.7666 , Test Loss: 7.151718080043793 , Test Accuracy: 0.7826 , Timing: 6.65556263923645\n",
            "[07/20 17:34:27] __main__ INFO: Model checkpoint saved at epoch: 80\n",
            "[07/20 17:35:10] __main__ INFO: Epoch: 81, GLISTER dataloader subset selection finished, takes 43.3680. \n",
            "[07/20 17:35:24] __main__ INFO: Epoch: 81 , Validation Loss: 129.6661470234394 , Validation Accuracy: 0.813 , Test Loss: 5.048737823963165 , Test Accuracy: 0.8216 , Timing: 50.034398555755615\n",
            "[07/20 17:35:24] __main__ INFO: GLISTER Selection Run---------------------------------\n",
            "[07/20 17:35:24] __main__ INFO: Final SubsetTrn: 222.315832\n",
            "[07/20 17:35:24] __main__ INFO: Validation Loss: 129.67 , Validation Accuracy: 0.81\n",
            "[07/20 17:35:24] __main__ INFO: Test Loss: 5.05, Test Accuracy: 0.82\n",
            "[07/20 17:35:24] __main__ INFO: ---------------------------------------------------------------------\n",
            "[07/20 17:35:24] __main__ INFO: GLISTER\n",
            "[07/20 17:35:24] __main__ INFO: ---------------------------------------------------------------------\n",
            "[07/20 17:35:24] __main__ INFO: Validation Accuracy,  , 0.283 , 0.3232 , 0.3536 , 0.3656 , 0.4052 , 0.435 , 0.5088 , 0.4548 , 0.4966 , 0.5328 , 0.4812 , 0.4324 , 0.5024 , 0.472 , 0.5146 , 0.528 , 0.5266 , 0.5506 , 0.5668 , 0.5768 , 0.635 , 0.6526 , 0.653 , 0.645 , 0.6576 , 0.6728 , 0.6746 , 0.6792 , 0.679 , 0.6818 , 0.683 , 0.7106 , 0.705 , 0.698 , 0.7036 , 0.6736 , 0.6762 , 0.6546 , 0.6346 , 0.6216 , 0.6668 , 0.6408 , 0.615 , 0.5914 , 0.6488 , 0.5526 , 0.5902 , 0.5398 , 0.611 , 0.6252 , 0.5998 , 0.6346 , 0.5882 , 0.6428 , 0.6586 , 0.6546 , 0.6236 , 0.6528 , 0.6438 , 0.6132 , 0.6864 , 0.683 , 0.6658 , 0.6986 , 0.6766 , 0.7054 , 0.6842 , 0.7034 , 0.733 , 0.711 , 0.7372 , 0.7552 , 0.7544 , 0.7734 , 0.751 , 0.7478 , 0.7644 , 0.775 , 0.7818 , 0.7666 , 0.813\n",
            "[07/20 17:35:24] __main__ INFO: Test Accuracy,  , 0.2943 , 0.3405 , 0.3678 , 0.3969 , 0.4243 , 0.4312 , 0.4985 , 0.4597 , 0.4979 , 0.5445 , 0.4926 , 0.4419 , 0.5144 , 0.4628 , 0.5285 , 0.5411 , 0.5369 , 0.5503 , 0.5653 , 0.5783 , 0.6463 , 0.6557 , 0.6601 , 0.6592 , 0.6662 , 0.6777 , 0.6876 , 0.6855 , 0.6941 , 0.6935 , 0.698 , 0.7135 , 0.7123 , 0.7112 , 0.7026 , 0.6884 , 0.6707 , 0.6617 , 0.6402 , 0.6457 , 0.6689 , 0.6495 , 0.624 , 0.603 , 0.6537 , 0.5496 , 0.6067 , 0.5605 , 0.6364 , 0.6517 , 0.615 , 0.6487 , 0.6169 , 0.6717 , 0.655 , 0.6699 , 0.6286 , 0.6621 , 0.6402 , 0.6118 , 0.6861 , 0.6973 , 0.6827 , 0.7093 , 0.688 , 0.7164 , 0.6928 , 0.7143 , 0.7488 , 0.7143 , 0.7447 , 0.7558 , 0.7687 , 0.7808 , 0.7438 , 0.7469 , 0.7744 , 0.7779 , 0.7872 , 0.7826 , 0.8216\n",
            "[07/20 17:35:24] __main__ INFO: [7.948109149932861, 6.417146921157837, 6.428221940994263, 6.4127678871154785, 7.08397102355957, 6.4242353439331055, 6.493016481399536, 6.430948734283447, 6.653430461883545, 6.485402345657349, 49.58721041679382, 6.460809707641602, 6.449955463409424, 6.455204010009766, 6.440157175064087, 6.453150510787964, 6.552386522293091, 6.582674503326416, 6.562413692474365, 6.547692060470581, 49.25936961174011, 6.578492164611816, 6.599680185317993, 6.5100016593933105, 6.45450758934021, 6.482622385025024, 6.496578693389893, 6.4766435623168945, 6.597537040710449, 6.543600797653198, 48.858702421188354, 6.469308376312256, 6.427771329879761, 6.485123872756958, 6.509591102600098, 6.5480804443359375, 6.610311031341553, 6.6345014572143555, 6.653061866760254, 6.692314624786377, 49.81234645843506, 6.651046991348267, 6.607384204864502, 6.630638599395752, 6.743458271026611, 6.678048372268677, 6.648486137390137, 6.618386268615723, 6.7166924476623535, 6.698559045791626, 49.69893550872803, 6.642526865005493, 6.67144250869751, 6.626552104949951, 6.6821019649505615, 6.641778469085693, 6.630281925201416, 6.629902124404907, 6.705316781997681, 6.671629428863525, 49.89261174201965, 6.655954122543335, 6.701887607574463, 6.631312131881714, 6.649705648422241, 6.630563974380493, 6.679362535476685, 6.659472227096558, 6.659839630126953, 6.686743497848511, 49.797221422195435, 6.6854939460754395, 6.644528388977051, 6.631531476974487, 6.636722087860107, 6.937525272369385, 6.74639892578125, 6.696200609207153, 6.691474676132202, 6.65556263923645, 50.034398555755615]\n",
            "[07/20 17:35:24] __main__ INFO: Total time taken by GLISTER = 0.2445 \n"
          ]
        }
      ]
    },
    {
      "cell_type": "code",
      "source": [
        "print(f\"Average Time / Epoch: {np.mean(timing)} \\nTotal Epochs: {num_epochs}\")"
      ],
      "metadata": {
        "id": "rEw6yODiL_CJ",
        "colab": {
          "base_uri": "https://localhost:8080/"
        },
        "outputId": "d2964dbd-c7cd-4159-a01f-5c9904efd074"
      },
      "execution_count": 17,
      "outputs": [
        {
          "output_type": "stream",
          "name": "stdout",
          "text": [
            "Average Time / Epoch: 10.866255927968908 \n",
            "Total Epochs: 150\n"
          ]
        }
      ]
    },
    {
      "cell_type": "code",
      "source": [
        "gpu_info = !nvidia-smi\n",
        "gpu_info = '\\n'.join(gpu_info)\n",
        "if gpu_info.find('failed') >= 0:\n",
        "  print('Not connected to a GPU')\n",
        "else:\n",
        "  print(gpu_info)"
      ],
      "metadata": {
        "id": "OiR1Rbi5CgrY",
        "colab": {
          "base_uri": "https://localhost:8080/"
        },
        "outputId": "48d2d7fc-cc9c-44e9-b5fb-e6266226307a"
      },
      "execution_count": 18,
      "outputs": [
        {
          "output_type": "stream",
          "name": "stdout",
          "text": [
            "Wed Jul 20 17:35:24 2022       \n",
            "+-----------------------------------------------------------------------------+\n",
            "| NVIDIA-SMI 460.32.03    Driver Version: 460.32.03    CUDA Version: 11.2     |\n",
            "|-------------------------------+----------------------+----------------------+\n",
            "| GPU  Name        Persistence-M| Bus-Id        Disp.A | Volatile Uncorr. ECC |\n",
            "| Fan  Temp  Perf  Pwr:Usage/Cap|         Memory-Usage | GPU-Util  Compute M. |\n",
            "|                               |                      |               MIG M. |\n",
            "|===============================+======================+======================|\n",
            "|   0  Tesla P100-PCIE...  Off  | 00000000:00:04.0 Off |                    0 |\n",
            "| N/A   59C    P0    45W / 250W |   5177MiB / 16280MiB |     96%      Default |\n",
            "|                               |                      |                  N/A |\n",
            "+-------------------------------+----------------------+----------------------+\n",
            "                                                                               \n",
            "+-----------------------------------------------------------------------------+\n",
            "| Processes:                                                                  |\n",
            "|  GPU   GI   CI        PID   Type   Process name                  GPU Memory |\n",
            "|        ID   ID                                                   Usage      |\n",
            "|=============================================================================|\n",
            "+-----------------------------------------------------------------------------+\n"
          ]
        }
      ]
    },
    {
      "cell_type": "code",
      "source": [
        ""
      ],
      "metadata": {
        "id": "9hnoIcO1L1iy"
      },
      "execution_count": null,
      "outputs": []
    }
  ]
}