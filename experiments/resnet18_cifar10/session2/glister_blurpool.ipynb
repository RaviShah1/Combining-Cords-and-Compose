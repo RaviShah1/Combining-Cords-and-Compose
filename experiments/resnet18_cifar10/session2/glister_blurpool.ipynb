{
  "nbformat": 4,
  "nbformat_minor": 0,
  "metadata": {
    "colab": {
      "name": "Combining Coords and Composer.ipynb",
      "provenance": [],
      "collapsed_sections": [],
      "include_colab_link": true
    },
    "kernelspec": {
      "name": "python3",
      "display_name": "Python 3"
    },
    "language_info": {
      "name": "python"
    },
    "accelerator": "GPU"
  },
  "cells": [
    {
      "cell_type": "markdown",
      "metadata": {
        "id": "view-in-github",
        "colab_type": "text"
      },
      "source": [
        "<a href=\"https://colab.research.google.com/github/RaviShah1/Combining-Cords-and-Composer/blob/main/experiments/resnet18_cifar10/session2/glister_blurpool.ipynb\" target=\"_parent\"><img src=\"https://colab.research.google.com/assets/colab-badge.svg\" alt=\"Open In Colab\"/></a>"
      ]
    },
    {
      "cell_type": "code",
      "source": [
        "!git clone https://github.com/decile-team/cords.git\n",
        "%cd cords\n",
        "%ls"
      ],
      "metadata": {
        "id": "pJewp117QDUI",
        "outputId": "42fbbbe4-fdfb-4df0-e14b-4918f34347dc",
        "colab": {
          "base_uri": "https://localhost:8080/"
        }
      },
      "execution_count": 1,
      "outputs": [
        {
          "output_type": "stream",
          "name": "stdout",
          "text": [
            "fatal: destination path 'cords' already exists and is not an empty directory.\n",
            "/content/cords\n",
            "\u001b[0m\u001b[01;34mbenchmarks\u001b[0m/   \u001b[01;34mcords\u001b[0m/  \u001b[01;34mexamples\u001b[0m/    README.md      setup.py      train_sl.py\n",
            "CITATION.CFF  \u001b[01;34mdata\u001b[0m/   LICENSE.txt  \u001b[01;34mrequirements\u001b[0m/  \u001b[01;34mtests\u001b[0m/        train_ssl.py\n",
            "\u001b[01;34mconfigs\u001b[0m/      \u001b[01;34mdocs\u001b[0m/   model.pt     \u001b[01;34mresults\u001b[0m/       train_hpo.py\n"
          ]
        }
      ]
    },
    {
      "cell_type": "code",
      "source": [
        "!pip install dotmap apricot-select ray[default] ray[tune] mosaicml\n"
      ],
      "metadata": {
        "colab": {
          "base_uri": "https://localhost:8080/"
        },
        "id": "37QszJkXYAZz",
        "outputId": "f845aa0d-d6c4-402e-d04b-6c09b48d8c9f"
      },
      "execution_count": 2,
      "outputs": [
        {
          "output_type": "stream",
          "name": "stdout",
          "text": [
            "Looking in indexes: https://pypi.org/simple, https://us-python.pkg.dev/colab-wheels/public/simple/\n",
            "Requirement already satisfied: dotmap in /usr/local/lib/python3.7/dist-packages (1.3.30)\n",
            "Requirement already satisfied: apricot-select in /usr/local/lib/python3.7/dist-packages (0.6.1)\n",
            "Requirement already satisfied: ray[default] in /usr/local/lib/python3.7/dist-packages (1.13.0)\n",
            "Requirement already satisfied: mosaicml in /usr/local/lib/python3.7/dist-packages (0.8.0)\n",
            "Requirement already satisfied: numpy>=1.14.2 in /usr/local/lib/python3.7/dist-packages (from apricot-select) (1.21.6)\n",
            "Requirement already satisfied: tqdm>=4.24.0 in /usr/local/lib/python3.7/dist-packages (from apricot-select) (4.64.0)\n",
            "Requirement already satisfied: numba>=0.43.0 in /usr/local/lib/python3.7/dist-packages (from apricot-select) (0.51.2)\n",
            "Requirement already satisfied: scipy>=1.0.0 in /usr/local/lib/python3.7/dist-packages (from apricot-select) (1.7.3)\n",
            "Requirement already satisfied: nose in /usr/local/lib/python3.7/dist-packages (from apricot-select) (1.3.7)\n",
            "Requirement already satisfied: setuptools in /usr/local/lib/python3.7/dist-packages (from numba>=0.43.0->apricot-select) (57.4.0)\n",
            "Requirement already satisfied: llvmlite<0.35,>=0.34.0.dev0 in /usr/local/lib/python3.7/dist-packages (from numba>=0.43.0->apricot-select) (0.34.0)\n",
            "Requirement already satisfied: psutil<6,>=5.8.0 in /usr/local/lib/python3.7/dist-packages (from mosaicml) (5.9.1)\n",
            "Requirement already satisfied: requests<3,>=2.26.0 in /usr/local/lib/python3.7/dist-packages (from mosaicml) (2.28.1)\n",
            "Requirement already satisfied: torch<2,>=1.9 in /usr/local/lib/python3.7/dist-packages (from mosaicml) (1.12.0+cu113)\n",
            "Requirement already satisfied: torchvision>=0.10.0 in /usr/local/lib/python3.7/dist-packages (from mosaicml) (0.13.0+cu113)\n",
            "Requirement already satisfied: coolname<2,>=1.1.0 in /usr/local/lib/python3.7/dist-packages (from mosaicml) (1.1.0)\n",
            "Requirement already satisfied: torch-optimizer<0.2,>=0.1.0 in /usr/local/lib/python3.7/dist-packages (from mosaicml) (0.1.0)\n",
            "Requirement already satisfied: yahp<0.2,>=0.1.1 in /usr/local/lib/python3.7/dist-packages (from mosaicml) (0.1.1)\n",
            "Requirement already satisfied: py-cpuinfo>=8.0.0 in /usr/local/lib/python3.7/dist-packages (from mosaicml) (8.0.0)\n",
            "Requirement already satisfied: torchmetrics<0.8,>=0.7.0 in /usr/local/lib/python3.7/dist-packages (from mosaicml) (0.7.3)\n",
            "Requirement already satisfied: pyyaml<7,>=6.0 in /usr/local/lib/python3.7/dist-packages (from mosaicml) (6.0)\n",
            "Requirement already satisfied: urllib3<1.27,>=1.21.1 in /usr/local/lib/python3.7/dist-packages (from requests<3,>=2.26.0->mosaicml) (1.24.3)\n",
            "Requirement already satisfied: charset-normalizer<3,>=2 in /usr/local/lib/python3.7/dist-packages (from requests<3,>=2.26.0->mosaicml) (2.1.0)\n",
            "Requirement already satisfied: idna<4,>=2.5 in /usr/local/lib/python3.7/dist-packages (from requests<3,>=2.26.0->mosaicml) (2.10)\n",
            "Requirement already satisfied: certifi>=2017.4.17 in /usr/local/lib/python3.7/dist-packages (from requests<3,>=2.26.0->mosaicml) (2022.6.15)\n",
            "Requirement already satisfied: typing-extensions in /usr/local/lib/python3.7/dist-packages (from torch<2,>=1.9->mosaicml) (4.1.1)\n",
            "Requirement already satisfied: pytorch-ranger>=0.1.1 in /usr/local/lib/python3.7/dist-packages (from torch-optimizer<0.2,>=0.1.0->mosaicml) (0.1.1)\n",
            "Requirement already satisfied: packaging in /usr/local/lib/python3.7/dist-packages (from torchmetrics<0.8,>=0.7.0->mosaicml) (21.3)\n",
            "Requirement already satisfied: pyDeprecate==0.3.* in /usr/local/lib/python3.7/dist-packages (from torchmetrics<0.8,>=0.7.0->mosaicml) (0.3.2)\n",
            "Requirement already satisfied: pillow!=8.3.*,>=5.3.0 in /usr/local/lib/python3.7/dist-packages (from torchvision>=0.10.0->mosaicml) (7.1.2)\n",
            "Requirement already satisfied: docstring-parser<=0.15,>=0.14.1 in /usr/local/lib/python3.7/dist-packages (from yahp<0.2,>=0.1.1->mosaicml) (0.14.1)\n",
            "Requirement already satisfied: ruamel.yaml>=0.17.10 in /usr/local/lib/python3.7/dist-packages (from yahp<0.2,>=0.1.1->mosaicml) (0.17.21)\n",
            "Requirement already satisfied: ruamel.yaml.clib>=0.2.6 in /usr/local/lib/python3.7/dist-packages (from ruamel.yaml>=0.17.10->yahp<0.2,>=0.1.1->mosaicml) (0.2.6)\n",
            "Requirement already satisfied: pyparsing!=3.0.5,>=2.0.2 in /usr/local/lib/python3.7/dist-packages (from packaging->torchmetrics<0.8,>=0.7.0->mosaicml) (3.0.9)\n",
            "Requirement already satisfied: attrs in /usr/local/lib/python3.7/dist-packages (from ray[default]) (21.4.0)\n",
            "Requirement already satisfied: filelock in /usr/local/lib/python3.7/dist-packages (from ray[default]) (3.7.1)\n",
            "Requirement already satisfied: jsonschema in /usr/local/lib/python3.7/dist-packages (from ray[default]) (4.3.3)\n",
            "Requirement already satisfied: msgpack<2.0.0,>=1.0.0 in /usr/local/lib/python3.7/dist-packages (from ray[default]) (1.0.4)\n",
            "Requirement already satisfied: protobuf<4.0.0,>=3.15.3 in /usr/local/lib/python3.7/dist-packages (from ray[default]) (3.17.3)\n",
            "Requirement already satisfied: frozenlist in /usr/local/lib/python3.7/dist-packages (from ray[default]) (1.3.0)\n",
            "Requirement already satisfied: grpcio<=1.43.0,>=1.28.1 in /usr/local/lib/python3.7/dist-packages (from ray[default]) (1.43.0)\n",
            "Requirement already satisfied: click<=8.0.4,>=7.0 in /usr/local/lib/python3.7/dist-packages (from ray[default]) (7.1.2)\n",
            "Requirement already satisfied: virtualenv in /usr/local/lib/python3.7/dist-packages (from ray[default]) (20.15.1)\n",
            "Requirement already satisfied: aiosignal in /usr/local/lib/python3.7/dist-packages (from ray[default]) (1.2.0)\n",
            "Requirement already satisfied: colorful in /usr/local/lib/python3.7/dist-packages (from ray[default]) (0.5.4)\n",
            "Requirement already satisfied: smart-open in /usr/local/lib/python3.7/dist-packages (from ray[default]) (5.2.1)\n",
            "Requirement already satisfied: py-spy>=0.2.0 in /usr/local/lib/python3.7/dist-packages (from ray[default]) (0.3.12)\n",
            "Requirement already satisfied: aiohttp-cors in /usr/local/lib/python3.7/dist-packages (from ray[default]) (0.7.0)\n",
            "Requirement already satisfied: opencensus in /usr/local/lib/python3.7/dist-packages (from ray[default]) (0.10.0)\n",
            "Requirement already satisfied: prometheus-client<0.14.0,>=0.7.1 in /usr/local/lib/python3.7/dist-packages (from ray[default]) (0.13.1)\n",
            "Requirement already satisfied: gpustat>=1.0.0b1 in /usr/local/lib/python3.7/dist-packages (from ray[default]) (1.0.0rc1)\n",
            "Requirement already satisfied: aiohttp>=3.7 in /usr/local/lib/python3.7/dist-packages (from ray[default]) (3.8.1)\n",
            "Requirement already satisfied: multidict<7.0,>=4.5 in /usr/local/lib/python3.7/dist-packages (from aiohttp>=3.7->ray[default]) (6.0.2)\n",
            "Requirement already satisfied: yarl<2.0,>=1.0 in /usr/local/lib/python3.7/dist-packages (from aiohttp>=3.7->ray[default]) (1.7.2)\n",
            "Requirement already satisfied: async-timeout<5.0,>=4.0.0a3 in /usr/local/lib/python3.7/dist-packages (from aiohttp>=3.7->ray[default]) (4.0.2)\n",
            "Requirement already satisfied: asynctest==0.13.0 in /usr/local/lib/python3.7/dist-packages (from aiohttp>=3.7->ray[default]) (0.13.0)\n",
            "Requirement already satisfied: six>=1.7 in /usr/local/lib/python3.7/dist-packages (from gpustat>=1.0.0b1->ray[default]) (1.15.0)\n",
            "Requirement already satisfied: nvidia-ml-py<=11.495.46,>=11.450.129 in /usr/local/lib/python3.7/dist-packages (from gpustat>=1.0.0b1->ray[default]) (11.495.46)\n",
            "Requirement already satisfied: blessed>=1.17.1 in /usr/local/lib/python3.7/dist-packages (from gpustat>=1.0.0b1->ray[default]) (1.19.1)\n",
            "Requirement already satisfied: wcwidth>=0.1.4 in /usr/local/lib/python3.7/dist-packages (from blessed>=1.17.1->gpustat>=1.0.0b1->ray[default]) (0.2.5)\n",
            "Requirement already satisfied: importlib-metadata in /usr/local/lib/python3.7/dist-packages (from jsonschema->ray[default]) (4.12.0)\n",
            "Requirement already satisfied: pyrsistent!=0.17.0,!=0.17.1,!=0.17.2,>=0.14.0 in /usr/local/lib/python3.7/dist-packages (from jsonschema->ray[default]) (0.18.1)\n",
            "Requirement already satisfied: importlib-resources>=1.4.0 in /usr/local/lib/python3.7/dist-packages (from jsonschema->ray[default]) (5.8.0)\n",
            "Requirement already satisfied: zipp>=3.1.0 in /usr/local/lib/python3.7/dist-packages (from importlib-resources>=1.4.0->jsonschema->ray[default]) (3.8.0)\n",
            "Requirement already satisfied: opencensus-context>=0.1.2 in /usr/local/lib/python3.7/dist-packages (from opencensus->ray[default]) (0.1.2)\n",
            "Requirement already satisfied: google-api-core<3.0.0,>=1.0.0 in /usr/local/lib/python3.7/dist-packages (from opencensus->ray[default]) (1.31.6)\n",
            "Requirement already satisfied: google-auth<2.0dev,>=1.25.0 in /usr/local/lib/python3.7/dist-packages (from google-api-core<3.0.0,>=1.0.0->opencensus->ray[default]) (1.35.0)\n",
            "Requirement already satisfied: googleapis-common-protos<2.0dev,>=1.6.0 in /usr/local/lib/python3.7/dist-packages (from google-api-core<3.0.0,>=1.0.0->opencensus->ray[default]) (1.56.3)\n",
            "Requirement already satisfied: pytz in /usr/local/lib/python3.7/dist-packages (from google-api-core<3.0.0,>=1.0.0->opencensus->ray[default]) (2022.1)\n",
            "Requirement already satisfied: pyasn1-modules>=0.2.1 in /usr/local/lib/python3.7/dist-packages (from google-auth<2.0dev,>=1.25.0->google-api-core<3.0.0,>=1.0.0->opencensus->ray[default]) (0.2.8)\n",
            "Requirement already satisfied: cachetools<5.0,>=2.0.0 in /usr/local/lib/python3.7/dist-packages (from google-auth<2.0dev,>=1.25.0->google-api-core<3.0.0,>=1.0.0->opencensus->ray[default]) (4.2.4)\n",
            "Requirement already satisfied: rsa<5,>=3.1.4 in /usr/local/lib/python3.7/dist-packages (from google-auth<2.0dev,>=1.25.0->google-api-core<3.0.0,>=1.0.0->opencensus->ray[default]) (4.8)\n",
            "Requirement already satisfied: pyasn1<0.5.0,>=0.4.6 in /usr/local/lib/python3.7/dist-packages (from pyasn1-modules>=0.2.1->google-auth<2.0dev,>=1.25.0->google-api-core<3.0.0,>=1.0.0->opencensus->ray[default]) (0.4.8)\n",
            "Requirement already satisfied: tensorboardX>=1.9 in /usr/local/lib/python3.7/dist-packages (from ray[default]) (2.5.1)\n",
            "Requirement already satisfied: tabulate in /usr/local/lib/python3.7/dist-packages (from ray[default]) (0.8.10)\n",
            "Requirement already satisfied: pandas in /usr/local/lib/python3.7/dist-packages (from ray[default]) (1.3.5)\n",
            "Requirement already satisfied: python-dateutil>=2.7.3 in /usr/local/lib/python3.7/dist-packages (from pandas->ray[default]) (2.8.2)\n",
            "Requirement already satisfied: platformdirs<3,>=2 in /usr/local/lib/python3.7/dist-packages (from virtualenv->ray[default]) (2.5.2)\n",
            "Requirement already satisfied: distlib<1,>=0.3.1 in /usr/local/lib/python3.7/dist-packages (from virtualenv->ray[default]) (0.3.5)\n"
          ]
        }
      ]
    },
    {
      "cell_type": "code",
      "source": [
        "import time\n",
        "import numpy as np\n",
        "import os\n",
        "import torch\n",
        "import torch.nn as nn\n",
        "import torch.optim as optim\n",
        "from torchvision.models import resnet18\n",
        "from cords.utils.data.datasets.SL import gen_dataset\n",
        "from torch.utils.data import Subset\n",
        "from cords.utils.config_utils import load_config_data\n",
        "import os.path as osp\n",
        "from cords.utils.data.data_utils import WeightedSubset\n",
        "from composer import functional as cf\n",
        "from ray import tune"
      ],
      "metadata": {
        "id": "IFtimJsDYBSm"
      },
      "execution_count": 3,
      "outputs": []
    },
    {
      "cell_type": "code",
      "source": [
        "trainset, validset, testset, num_cls = gen_dataset('data/', 'cifar10', None, isnumpy=False)"
      ],
      "metadata": {
        "colab": {
          "base_uri": "https://localhost:8080/"
        },
        "id": "fCOZOz0CYDmA",
        "outputId": "1547d12d-f545-413f-c584-7e81862602d6"
      },
      "execution_count": 4,
      "outputs": [
        {
          "output_type": "stream",
          "name": "stdout",
          "text": [
            "Files already downloaded and verified\n",
            "Files already downloaded and verified\n"
          ]
        }
      ]
    },
    {
      "cell_type": "code",
      "source": [
        "trn_batch_size = 20\n",
        "val_batch_size = 20\n",
        "tst_batch_size = 1000\n",
        "\n",
        "# Creating the Data Loaders\n",
        "trainloader = torch.utils.data.DataLoader(trainset, batch_size=trn_batch_size,\n",
        "                                          shuffle=False, pin_memory=True)\n",
        "\n",
        "valloader = torch.utils.data.DataLoader(validset, batch_size=val_batch_size,\n",
        "                                        shuffle=False, pin_memory=True)\n",
        "\n",
        "testloader = torch.utils.data.DataLoader(testset, batch_size=tst_batch_size,\n",
        "                                          shuffle=False, pin_memory=True)"
      ],
      "metadata": {
        "id": "JJji-yh0YIEY"
      },
      "execution_count": 5,
      "outputs": []
    },
    {
      "cell_type": "code",
      "source": [
        "from cords.utils.models import ResNet18\n",
        "numclasses = 10\n",
        "device = 'cuda' #Device Argument\n",
        "model = ResNet18(10)\n",
        "model = cf.apply_blurpool(model)\n",
        "model = model.to(device)"
      ],
      "metadata": {
        "id": "6Qj5KIyEYJ8M"
      },
      "execution_count": 6,
      "outputs": []
    },
    {
      "cell_type": "code",
      "source": [
        "criterion = nn.CrossEntropyLoss()\n",
        "criterion_nored = nn.CrossEntropyLoss(reduction='none')"
      ],
      "metadata": {
        "id": "8Tvpow1wYLWZ"
      },
      "execution_count": 7,
      "outputs": []
    },
    {
      "cell_type": "code",
      "source": [
        "def save_ckpt(state, ckpt_path):\n",
        "    torch.save(state, ckpt_path)\n",
        "\n",
        "\n",
        "def load_ckpt(ckpt_path, model, optimizer):\n",
        "    checkpoint = torch.load(ckpt_path)\n",
        "    start_epoch = checkpoint['epoch']\n",
        "    model.load_state_dict(checkpoint['state_dict'])\n",
        "    optimizer.load_state_dict(checkpoint['optimizer'])\n",
        "    loss = checkpoint['loss']\n",
        "    metrics = checkpoint['metrics']\n",
        "    return start_epoch, model, optimizer, loss, metrics"
      ],
      "metadata": {
        "id": "uJhZ8d3vYNBh"
      },
      "execution_count": 8,
      "outputs": []
    },
    {
      "cell_type": "code",
      "source": [
        "def generate_cumulative_timing(mod_timing):\n",
        "    tmp = 0\n",
        "    mod_cum_timing = np.zeros(len(mod_timing))\n",
        "    for i in range(len(mod_timing)):\n",
        "        tmp += mod_timing[i]\n",
        "        mod_cum_timing[i] = tmp\n",
        "    return mod_cum_timing / 3600"
      ],
      "metadata": {
        "id": "0hx_sinTYOdX"
      },
      "execution_count": 9,
      "outputs": []
    },
    {
      "cell_type": "code",
      "source": [
        "optimizer = optim.SGD(model.parameters(), lr=1e-2,\n",
        "                                  momentum=0.9,\n",
        "                                  weight_decay=5e-4,\n",
        "                                  nesterov=False)\n",
        "\n",
        "#T_max is the maximum number of scheduler steps. Here we are using the number of epochs as the maximum number of scheduler steps.\n",
        "\n",
        "scheduler = torch.optim.lr_scheduler.CosineAnnealingLR(optimizer,\n",
        "                                                       T_max=30)"
      ],
      "metadata": {
        "id": "kLHSf3WEYP3_"
      },
      "execution_count": 10,
      "outputs": []
    },
    {
      "cell_type": "code",
      "source": [
        "def __get_logger(results_dir):\n",
        "  os.makedirs(results_dir, exist_ok=True)\n",
        "  # setup logger\n",
        "  plain_formatter = logging.Formatter(\"[%(asctime)s] %(name)s %(levelname)s: %(message)s\",\n",
        "                                      datefmt=\"%m/%d %H:%M:%S\")\n",
        "  logger = logging.getLogger(__name__)\n",
        "  logger.setLevel(logging.INFO)\n",
        "  s_handler = logging.StreamHandler(stream=sys.stdout)\n",
        "  s_handler.setFormatter(plain_formatter)\n",
        "  s_handler.setLevel(logging.INFO)\n",
        "  logger.addHandler(s_handler)\n",
        "  f_handler = logging.FileHandler(os.path.join(results_dir, \"results.log\"))\n",
        "  f_handler.setFormatter(plain_formatter)\n",
        "  f_handler.setLevel(logging.DEBUG)\n",
        "  logger.addHandler(f_handler)\n",
        "  logger.propagate = False\n",
        "  return logger"
      ],
      "metadata": {
        "id": "wAopp5oFYRJJ"
      },
      "execution_count": 11,
      "outputs": []
    },
    {
      "cell_type": "code",
      "source": [
        "import logging\n",
        "import os\n",
        "import os.path as osp\n",
        "import sys\n",
        "\n",
        "#Results logging directory\n",
        "results_dir = osp.abspath(osp.expanduser('results'))\n",
        "logger = __get_logger(results_dir)"
      ],
      "metadata": {
        "id": "6AQkQW5XYSqA"
      },
      "execution_count": 12,
      "outputs": []
    },
    {
      "cell_type": "code",
      "source": [
        "logger.info(\"hello\")"
      ],
      "metadata": {
        "colab": {
          "base_uri": "https://localhost:8080/"
        },
        "id": "IAh0aXRKYWzi",
        "outputId": "f5029dd2-12f0-40ff-8866-6aa97893e978"
      },
      "execution_count": 13,
      "outputs": [
        {
          "output_type": "stream",
          "name": "stdout",
          "text": [
            "[07/20 16:45:47] __main__ INFO: hello\n"
          ]
        }
      ]
    },
    {
      "cell_type": "code",
      "source": [
        "from cords.utils.data.dataloader.SL.adaptive import GLISTERDataLoader, OLRandomDataLoader, \\\n",
        "    CRAIGDataLoader, GradMatchDataLoader, RandomDataLoader\n",
        "from dotmap import DotMap\n",
        "\n",
        "selection_strategy = 'GLISTER'\n",
        "dss_args = dict(model=model,\n",
        "                loss=criterion_nored,\n",
        "                eta=0.01,\n",
        "                num_classes=10,\n",
        "                num_epochs=150,\n",
        "                device='cuda',\n",
        "                fraction=0.1,\n",
        "                select_every=10,\n",
        "                kappa=0,\n",
        "                linear_layer=False,\n",
        "                selection_type='SL',\n",
        "                greedy='Stochastic')\n",
        "dss_args = DotMap(dss_args)\n",
        "\n",
        "dataloader = GLISTERDataLoader(trainloader, valloader, dss_args, logger, \n",
        "                                  batch_size=20, \n",
        "                                  shuffle=True,\n",
        "                                  pin_memory=False)"
      ],
      "metadata": {
        "colab": {
          "base_uri": "https://localhost:8080/"
        },
        "id": "P72TwdhcYYL8",
        "outputId": "98d3050c-bcd5-4d7d-f136-2483e11a23b0"
      },
      "execution_count": 14,
      "outputs": [
        {
          "output_type": "stream",
          "name": "stderr",
          "text": [
            "/usr/local/lib/python3.7/dist-packages/numba/np/ufunc/parallel.py:363: NumbaWarning: \u001b[1mThe TBB threading layer requires TBB version 2019.5 or later i.e., TBB_INTERFACE_VERSION >= 11005. Found TBB_INTERFACE_VERSION = 9107. The TBB threading layer is disabled.\u001b[0m\n",
            "  warnings.warn(problem)\n"
          ]
        }
      ]
    },
    {
      "cell_type": "code",
      "source": [
        "#Training Arguments\n",
        "num_epochs = 150\n",
        "\n",
        "#Arguments for results logging\n",
        "print_every = 1\n",
        "print_args = [\"val_loss\", \"val_acc\", \"tst_loss\", \"tst_acc\", \"time\"]\n",
        "\n",
        "#Argumets for checkpointing\n",
        "save_every = 20\n",
        "is_save = True\n",
        "\n",
        "#Evaluation Metrics\n",
        "trn_losses = list()\n",
        "val_losses = list()\n",
        "tst_losses = list()\n",
        "subtrn_losses = list()\n",
        "timing = list()\n",
        "trn_acc = list()\n",
        "val_acc = list()  \n",
        "tst_acc = list()  \n",
        "subtrn_acc = list()"
      ],
      "metadata": {
        "id": "hN182L3MYa8a"
      },
      "execution_count": 15,
      "outputs": []
    },
    {
      "cell_type": "code",
      "source": [
        "\"\"\"\n",
        "################################################# Training Loop #################################################\n",
        "\"\"\"\n",
        "for epoch in range(num_epochs):\n",
        "    subtrn_loss = 0\n",
        "    subtrn_correct = 0\n",
        "    subtrn_total = 0\n",
        "    model.train()\n",
        "    start_time = time.time()\n",
        "    for _, (inputs, targets, weights) in enumerate(dataloader):\n",
        "        inputs = inputs.to(device)\n",
        "        targets = targets.to(device, non_blocking=True)\n",
        "        weights = weights.to(device)  \n",
        "        optimizer.zero_grad()\n",
        "        outputs = model(inputs)\n",
        "        losses = criterion_nored(outputs, targets)\n",
        "        loss = torch.dot(losses, weights/(weights.sum()))\n",
        "        loss.backward()\n",
        "        subtrn_loss += loss.item()\n",
        "        optimizer.step()\n",
        "        _, predicted = outputs.max(1)\n",
        "        subtrn_total += targets.size(0)\n",
        "        subtrn_correct += predicted.eq(targets).sum().item()\n",
        "    epoch_time = time.time() - start_time\n",
        "    scheduler.step()\n",
        "    timing.append(epoch_time)\n",
        "\n",
        "\n",
        "    \"\"\"\n",
        "    ################################################# Evaluation Loop #################################################\n",
        "    \"\"\"\n",
        "\n",
        "    if (epoch + 1) % print_every == 0:\n",
        "        trn_loss = 0\n",
        "        trn_correct = 0\n",
        "        trn_total = 0\n",
        "        val_loss = 0\n",
        "        val_correct = 0\n",
        "        val_total = 0\n",
        "        tst_correct = 0\n",
        "        tst_total = 0\n",
        "        tst_loss = 0\n",
        "        model.eval()\n",
        "\n",
        "        if (\"trn_loss\" in print_args) or (\"trn_acc\" in print_args):\n",
        "            with torch.no_grad():\n",
        "                for _, (inputs, targets) in enumerate(trainloader):\n",
        "                    inputs, targets = inputs.to(device), \\\n",
        "                                      targets.to(device, non_blocking=True)\n",
        "                    outputs = model(inputs)\n",
        "                    loss = criterion(outputs, targets)\n",
        "                    trn_loss += loss.item()\n",
        "                    if \"trn_acc\" in print_args:\n",
        "                        _, predicted = outputs.max(1)\n",
        "                        trn_total += targets.size(0)\n",
        "                        trn_correct += predicted.eq(targets).sum().item()\n",
        "                trn_losses.append(trn_loss)\n",
        "\n",
        "            if \"trn_acc\" in print_args:\n",
        "                trn_acc.append(trn_correct / trn_total)\n",
        "\n",
        "        if (\"val_loss\" in print_args) or (\"val_acc\" in print_args):\n",
        "            with torch.no_grad():\n",
        "                for _, (inputs, targets) in enumerate(valloader):\n",
        "                    inputs, targets = inputs.to(device), \\\n",
        "                                      targets.to(device, non_blocking=True)\n",
        "                    outputs = model(inputs)\n",
        "                    loss = criterion(outputs, targets)\n",
        "                    val_loss += loss.item()\n",
        "                    if \"val_acc\" in print_args:\n",
        "                        _, predicted = outputs.max(1)\n",
        "                        val_total += targets.size(0)\n",
        "                        val_correct += predicted.eq(targets).sum().item()\n",
        "                val_losses.append(val_loss)\n",
        "\n",
        "            if \"val_acc\" in print_args:\n",
        "                val_acc.append(val_correct / val_total)\n",
        "\n",
        "        if (\"tst_loss\" in print_args) or (\"tst_acc\" in print_args):\n",
        "            with torch.no_grad():\n",
        "                for _, (inputs, targets) in enumerate(testloader):\n",
        "                    inputs, targets = inputs.to(device), \\\n",
        "                                      targets.to(device, non_blocking=True)\n",
        "                    outputs = model(inputs)\n",
        "                    loss = criterion(outputs, targets)\n",
        "                    tst_loss += loss.item()\n",
        "                    if \"tst_acc\" in print_args:\n",
        "                        _, predicted = outputs.max(1)\n",
        "                        tst_total += targets.size(0)\n",
        "                        tst_correct += predicted.eq(targets).sum().item()\n",
        "                tst_losses.append(tst_loss)\n",
        "\n",
        "            if \"tst_acc\" in print_args:\n",
        "                tst_acc.append(tst_correct / tst_total)\n",
        "\n",
        "        if \"subtrn_acc\" in print_args:\n",
        "            subtrn_acc.append(subtrn_correct / subtrn_total)\n",
        "\n",
        "        if \"subtrn_losses\" in print_args:\n",
        "            subtrn_losses.append(subtrn_loss)\n",
        "\n",
        "        print_str = \"Epoch: \" + str(epoch + 1)\n",
        "\n",
        "        \"\"\"\n",
        "        ################################################# Results Printing #################################################\n",
        "        \"\"\"\n",
        "\n",
        "        for arg in print_args:\n",
        "\n",
        "            if arg == \"val_loss\":\n",
        "                print_str += \" , \" + \"Validation Loss: \" + str(val_losses[-1])\n",
        "\n",
        "            if arg == \"val_acc\":\n",
        "                print_str += \" , \" + \"Validation Accuracy: \" + str(val_acc[-1])\n",
        "\n",
        "            if arg == \"tst_loss\":\n",
        "                print_str += \" , \" + \"Test Loss: \" + str(tst_losses[-1])\n",
        "\n",
        "            if arg == \"tst_acc\":\n",
        "                print_str += \" , \" + \"Test Accuracy: \" + str(tst_acc[-1])\n",
        "\n",
        "            if arg == \"trn_loss\":\n",
        "                print_str += \" , \" + \"Training Loss: \" + str(trn_losses[-1])\n",
        "\n",
        "            if arg == \"trn_acc\":\n",
        "                print_str += \" , \" + \"Training Accuracy: \" + str(trn_acc[-1])\n",
        "\n",
        "            if arg == \"subtrn_loss\":\n",
        "                print_str += \" , \" + \"Subset Loss: \" + str(subtrn_losses[-1])\n",
        "\n",
        "            if arg == \"subtrn_acc\":\n",
        "                print_str += \" , \" + \"Subset Accuracy: \" + str(subtrn_acc[-1])\n",
        "\n",
        "            if arg == \"time\":\n",
        "                print_str += \" , \" + \"Timing: \" + str(timing[-1])\n",
        "\n",
        "        logger.info(print_str)\n",
        "\n",
        "    \"\"\"\n",
        "    ################################################# Checkpoint Saving #################################################\n",
        "    \"\"\"\n",
        "\n",
        "    if ((epoch + 1) % save_every == 0) and is_save:\n",
        "\n",
        "        metric_dict = {}\n",
        "\n",
        "        for arg in print_args:\n",
        "            if arg == \"val_loss\":\n",
        "                metric_dict['val_loss'] = val_losses\n",
        "            if arg == \"val_acc\":\n",
        "                metric_dict['val_acc'] = val_acc\n",
        "            if arg == \"tst_loss\":\n",
        "                metric_dict['tst_loss'] = tst_losses\n",
        "            if arg == \"tst_acc\":\n",
        "                metric_dict['tst_acc'] = tst_acc\n",
        "            if arg == \"trn_loss\":\n",
        "                metric_dict['trn_loss'] = trn_losses\n",
        "            if arg == \"trn_acc\":\n",
        "                metric_dict['trn_acc'] = trn_acc\n",
        "            if arg == \"subtrn_loss\":\n",
        "                metric_dict['subtrn_loss'] = subtrn_losses\n",
        "            if arg == \"subtrn_acc\":\n",
        "                metric_dict['subtrn_acc'] = subtrn_acc\n",
        "            if arg == \"time\":\n",
        "                metric_dict['time'] = timing\n",
        "\n",
        "        ckpt_state = {\n",
        "            'epoch': epoch + 1,\n",
        "            'state_dict': model.state_dict(),\n",
        "            'optimizer': optimizer.state_dict(),\n",
        "            'loss': criterion_nored,\n",
        "            'metrics': metric_dict\n",
        "        }\n",
        "\n",
        "        # save checkpoint\n",
        "        save_ckpt(ckpt_state, 'model.pt')\n",
        "        logger.info(\"Model checkpoint saved at epoch: {0:d}\".format(epoch + 1))\n",
        "\n",
        "    if val_acc[-1] > 0.8:\n",
        "        break\n",
        "\n",
        "\"\"\"\n",
        "################################################# Results Summary #################################################\n",
        "\"\"\"\n",
        "\n",
        "logger.info(\"{0:s} Selection Run---------------------------------\".format(selection_strategy))\n",
        "logger.info(\"Final SubsetTrn: {0:f}\".format(subtrn_loss))\n",
        "if \"val_loss\" in print_args:\n",
        "    if \"val_acc\" in print_args:\n",
        "        logger.info(\"Validation Loss: %.2f , Validation Accuracy: %.2f\", val_loss, val_acc[-1])\n",
        "    else:\n",
        "        logger.info(\"Validation Loss: %.2f\", val_loss)\n",
        "\n",
        "if \"tst_loss\" in print_args:\n",
        "    if \"tst_acc\" in print_args:\n",
        "        logger.info(\"Test Loss: %.2f, Test Accuracy: %.2f\", tst_loss, tst_acc[-1])\n",
        "    else:\n",
        "        logger.info(\"Test Data Loss: %f\", tst_loss)\n",
        "logger.info('---------------------------------------------------------------------')\n",
        "logger.info(selection_strategy)\n",
        "logger.info('---------------------------------------------------------------------')\n",
        "\n",
        "\"\"\"\n",
        "################################################# Final Results Logging #################################################\n",
        "\"\"\"\n",
        "\n",
        "if \"val_acc\" in print_args:\n",
        "    val_str = \"Validation Accuracy, \"\n",
        "    for val in val_acc:\n",
        "        val_str = val_str + \" , \" + str(val)\n",
        "    logger.info(val_str)\n",
        "\n",
        "if \"tst_acc\" in print_args:\n",
        "    tst_str = \"Test Accuracy, \"\n",
        "    for tst in tst_acc:\n",
        "        tst_str = tst_str + \" , \" + str(tst)\n",
        "    logger.info(tst_str)\n",
        "\n",
        "if \"time\" in print_args:\n",
        "    time_str = \"Time, \"\n",
        "    for t in timing:\n",
        "        time_str = time_str + \" , \" + str(t)\n",
        "    logger.info(timing)\n",
        "\n",
        "timing_array = np.array(timing)\n",
        "cum_timing = list(generate_cumulative_timing(timing_array))\n",
        "logger.info(\"Total time taken by %s = %.4f \", selection_strategy, cum_timing[-1])"
      ],
      "metadata": {
        "colab": {
          "base_uri": "https://localhost:8080/"
        },
        "id": "243ksusPYc59",
        "outputId": "f8dca513-d01c-4290-9450-e8ed1fb7f3c5"
      },
      "execution_count": 16,
      "outputs": [
        {
          "output_type": "stream",
          "name": "stdout",
          "text": [
            "[07/20 16:46:03] __main__ INFO: Epoch: 1 , Validation Loss: 470.20882749557495 , Validation Accuracy: 0.2682 , Test Loss: 18.969802141189575 , Test Accuracy: 0.2696 , Timing: 6.860982656478882\n",
            "[07/20 16:46:15] __main__ INFO: Epoch: 2 , Validation Loss: 468.39942359924316 , Validation Accuracy: 0.3108 , Test Loss: 18.9942569732666 , Test Accuracy: 0.3163 , Timing: 5.726125955581665\n",
            "[07/20 16:46:28] __main__ INFO: Epoch: 3 , Validation Loss: 443.6694669723511 , Validation Accuracy: 0.3492 , Test Loss: 17.27991235256195 , Test Accuracy: 0.369 , Timing: 5.732034206390381\n",
            "[07/20 16:46:41] __main__ INFO: Epoch: 4 , Validation Loss: 407.33426094055176 , Validation Accuracy: 0.3982 , Test Loss: 16.212778449058533 , Test Accuracy: 0.4076 , Timing: 5.709014892578125\n",
            "[07/20 16:46:53] __main__ INFO: Epoch: 5 , Validation Loss: 386.6692323088646 , Validation Accuracy: 0.4334 , Test Loss: 15.138140678405762 , Test Accuracy: 0.4542 , Timing: 5.653627634048462\n",
            "[07/20 16:47:05] __main__ INFO: Epoch: 6 , Validation Loss: 375.6794976592064 , Validation Accuracy: 0.4624 , Test Loss: 15.06600272655487 , Test Accuracy: 0.4503 , Timing: 5.699569463729858\n",
            "[07/20 16:47:18] __main__ INFO: Epoch: 7 , Validation Loss: 361.3191338777542 , Validation Accuracy: 0.4756 , Test Loss: 14.113161087036133 , Test Accuracy: 0.4804 , Timing: 5.7155280113220215\n",
            "[07/20 16:47:30] __main__ INFO: Epoch: 8 , Validation Loss: 332.7724320292473 , Validation Accuracy: 0.5148 , Test Loss: 12.973627805709839 , Test Accuracy: 0.5242 , Timing: 5.6916139125823975\n",
            "[07/20 16:47:42] __main__ INFO: Epoch: 9 , Validation Loss: 331.6964794397354 , Validation Accuracy: 0.5082 , Test Loss: 13.453911900520325 , Test Accuracy: 0.5051 , Timing: 5.705988883972168\n",
            "[07/20 16:47:55] __main__ INFO: Epoch: 10 , Validation Loss: 318.0358603000641 , Validation Accuracy: 0.532 , Test Loss: 12.485819220542908 , Test Accuracy: 0.5423 , Timing: 5.719242811203003\n",
            "[07/20 16:48:31] __main__ INFO: Epoch: 11, GLISTER dataloader subset selection finished, takes 36.2816. \n",
            "[07/20 16:48:44] __main__ INFO: Epoch: 11 , Validation Loss: 346.43242198228836 , Validation Accuracy: 0.485 , Test Loss: 13.761335492134094 , Test Accuracy: 0.4867 , Timing: 41.96623373031616\n",
            "[07/20 16:48:57] __main__ INFO: Epoch: 12 , Validation Loss: 335.3359275460243 , Validation Accuracy: 0.524 , Test Loss: 13.135337352752686 , Test Accuracy: 0.5218 , Timing: 6.487778425216675\n",
            "[07/20 16:49:09] __main__ INFO: Epoch: 13 , Validation Loss: 368.1006855368614 , Validation Accuracy: 0.4728 , Test Loss: 15.057847261428833 , Test Accuracy: 0.4728 , Timing: 5.7089760303497314\n",
            "[07/20 16:49:22] __main__ INFO: Epoch: 14 , Validation Loss: 338.49661684036255 , Validation Accuracy: 0.4922 , Test Loss: 13.300319194793701 , Test Accuracy: 0.4912 , Timing: 5.706249713897705\n",
            "[07/20 16:49:34] __main__ INFO: Epoch: 15 , Validation Loss: 296.4164928197861 , Validation Accuracy: 0.562 , Test Loss: 11.506260752677917 , Test Accuracy: 0.5753 , Timing: 5.885740518569946\n",
            "[07/20 16:49:47] __main__ INFO: Epoch: 16 , Validation Loss: 277.38187074661255 , Validation Accuracy: 0.577 , Test Loss: 10.904270887374878 , Test Accuracy: 0.5872 , Timing: 5.6921257972717285\n",
            "[07/20 16:49:59] __main__ INFO: Epoch: 17 , Validation Loss: 300.7667697072029 , Validation Accuracy: 0.537 , Test Loss: 11.93125033378601 , Test Accuracy: 0.5457 , Timing: 5.679583311080933\n",
            "[07/20 16:50:11] __main__ INFO: Epoch: 18 , Validation Loss: 294.70669639110565 , Validation Accuracy: 0.5572 , Test Loss: 11.421700119972229 , Test Accuracy: 0.5761 , Timing: 5.680119752883911\n",
            "[07/20 16:50:24] __main__ INFO: Epoch: 19 , Validation Loss: 275.2849210500717 , Validation Accuracy: 0.5864 , Test Loss: 10.932690382003784 , Test Accuracy: 0.5912 , Timing: 5.6671106815338135\n",
            "[07/20 16:50:37] __main__ INFO: Epoch: 20 , Validation Loss: 323.54375797510147 , Validation Accuracy: 0.5478 , Test Loss: 13.523608803749084 , Test Accuracy: 0.5443 , Timing: 5.733840703964233\n",
            "[07/20 16:50:37] __main__ INFO: Model checkpoint saved at epoch: 20\n",
            "[07/20 16:51:18] __main__ INFO: Epoch: 21, GLISTER dataloader subset selection finished, takes 40.8965. \n",
            "[07/20 16:51:31] __main__ INFO: Epoch: 21 , Validation Loss: 231.83677235245705 , Validation Accuracy: 0.6564 , Test Loss: 8.920079529285431 , Test Accuracy: 0.6753 , Timing: 47.13074088096619\n",
            "[07/20 16:51:45] __main__ INFO: Epoch: 22 , Validation Loss: 215.9919525384903 , Validation Accuracy: 0.6892 , Test Loss: 8.285645246505737 , Test Accuracy: 0.701 , Timing: 6.220956563949585\n",
            "[07/20 16:51:58] __main__ INFO: Epoch: 23 , Validation Loss: 199.02286604046822 , Validation Accuracy: 0.7036 , Test Loss: 7.794178307056427 , Test Accuracy: 0.7157 , Timing: 5.970103740692139\n",
            "[07/20 16:52:11] __main__ INFO: Epoch: 24 , Validation Loss: 204.032746642828 , Validation Accuracy: 0.709 , Test Loss: 8.090530037879944 , Test Accuracy: 0.7075 , Timing: 5.830409526824951\n",
            "[07/20 16:52:23] __main__ INFO: Epoch: 25 , Validation Loss: 192.59610185027122 , Validation Accuracy: 0.72 , Test Loss: 7.5601401925086975 , Test Accuracy: 0.7233 , Timing: 5.915157794952393\n",
            "[07/20 16:52:36] __main__ INFO: Epoch: 26 , Validation Loss: 176.02399380505085 , Validation Accuracy: 0.749 , Test Loss: 7.00110399723053 , Test Accuracy: 0.7506 , Timing: 5.873744249343872\n",
            "[07/20 16:52:49] __main__ INFO: Epoch: 27 , Validation Loss: 177.88129164278507 , Validation Accuracy: 0.7418 , Test Loss: 7.356663286685944 , Test Accuracy: 0.7427 , Timing: 5.938563346862793\n",
            "[07/20 16:53:02] __main__ INFO: Epoch: 28 , Validation Loss: 176.7540646791458 , Validation Accuracy: 0.7454 , Test Loss: 7.119206488132477 , Test Accuracy: 0.7509 , Timing: 5.884307146072388\n",
            "[07/20 16:53:15] __main__ INFO: Epoch: 29 , Validation Loss: 175.12079687416553 , Validation Accuracy: 0.7516 , Test Loss: 7.046611905097961 , Test Accuracy: 0.7513 , Timing: 5.9633629322052\n",
            "[07/20 16:53:28] __main__ INFO: Epoch: 30 , Validation Loss: 171.94493427872658 , Validation Accuracy: 0.7544 , Test Loss: 6.933236360549927 , Test Accuracy: 0.7572 , Timing: 5.876141786575317\n",
            "[07/20 16:54:06] __main__ INFO: Epoch: 31, GLISTER dataloader subset selection finished, takes 37.9685. \n",
            "[07/20 16:54:18] __main__ INFO: Epoch: 31 , Validation Loss: 174.3652433604002 , Validation Accuracy: 0.7488 , Test Loss: 7.140488028526306 , Test Accuracy: 0.7511 , Timing: 43.85610294342041\n",
            "[07/20 16:54:31] __main__ INFO: Epoch: 32 , Validation Loss: 163.5121904015541 , Validation Accuracy: 0.7682 , Test Loss: 6.534695386886597 , Test Accuracy: 0.7663 , Timing: 5.85832142829895\n",
            "[07/20 16:54:44] __main__ INFO: Epoch: 33 , Validation Loss: 169.06340634822845 , Validation Accuracy: 0.7586 , Test Loss: 6.551979064941406 , Test Accuracy: 0.7671 , Timing: 5.896929740905762\n",
            "[07/20 16:54:57] __main__ INFO: Epoch: 34 , Validation Loss: 174.30393713712692 , Validation Accuracy: 0.7568 , Test Loss: 6.7422776222229 , Test Accuracy: 0.7604 , Timing: 5.8507068157196045\n",
            "[07/20 16:55:10] __main__ INFO: Epoch: 35 , Validation Loss: 176.3452849984169 , Validation Accuracy: 0.7516 , Test Loss: 6.925483167171478 , Test Accuracy: 0.7494 , Timing: 5.8594865798950195\n",
            "[07/20 16:55:23] __main__ INFO: Epoch: 36 , Validation Loss: 187.47212785482407 , Validation Accuracy: 0.725 , Test Loss: 7.2248106598854065 , Test Accuracy: 0.7384 , Timing: 6.0310821533203125\n",
            "[07/20 16:55:35] __main__ INFO: Epoch: 37 , Validation Loss: 189.91195690631866 , Validation Accuracy: 0.727 , Test Loss: 7.4789968729019165 , Test Accuracy: 0.7303 , Timing: 5.803100824356079\n",
            "[07/20 16:55:48] __main__ INFO: Epoch: 38 , Validation Loss: 198.4357006251812 , Validation Accuracy: 0.701 , Test Loss: 7.846221506595612 , Test Accuracy: 0.7084 , Timing: 5.769297361373901\n",
            "[07/20 16:56:00] __main__ INFO: Epoch: 39 , Validation Loss: 214.0577146410942 , Validation Accuracy: 0.6916 , Test Loss: 8.708338916301727 , Test Accuracy: 0.6861 , Timing: 5.779131174087524\n",
            "[07/20 16:56:13] __main__ INFO: Epoch: 40 , Validation Loss: 237.30285745859146 , Validation Accuracy: 0.64 , Test Loss: 9.488426625728607 , Test Accuracy: 0.6459 , Timing: 5.760793685913086\n",
            "[07/20 16:56:13] __main__ INFO: Model checkpoint saved at epoch: 40\n",
            "[07/20 16:56:50] __main__ INFO: Epoch: 41, GLISTER dataloader subset selection finished, takes 36.7888. \n",
            "[07/20 16:57:02] __main__ INFO: Epoch: 41 , Validation Loss: 238.4441563487053 , Validation Accuracy: 0.6504 , Test Loss: 8.90630054473877 , Test Accuracy: 0.6738 , Timing: 42.5558226108551\n",
            "[07/20 16:57:15] __main__ INFO: Epoch: 42 , Validation Loss: 245.945755392313 , Validation Accuracy: 0.6396 , Test Loss: 9.784700393676758 , Test Accuracy: 0.6525 , Timing: 5.768813610076904\n",
            "[07/20 16:57:28] __main__ INFO: Epoch: 43 , Validation Loss: 237.881393045187 , Validation Accuracy: 0.6522 , Test Loss: 9.388548612594604 , Test Accuracy: 0.6612 , Timing: 5.718729019165039\n",
            "[07/20 16:57:40] __main__ INFO: Epoch: 44 , Validation Loss: 225.52488899230957 , Validation Accuracy: 0.6734 , Test Loss: 8.865364134311676 , Test Accuracy: 0.6835 , Timing: 5.854280710220337\n",
            "[07/20 16:57:53] __main__ INFO: Epoch: 45 , Validation Loss: 230.16230207681656 , Validation Accuracy: 0.679 , Test Loss: 9.02290803194046 , Test Accuracy: 0.6833 , Timing: 5.87540078163147\n",
            "[07/20 16:58:05] __main__ INFO: Epoch: 46 , Validation Loss: 241.63393902778625 , Validation Accuracy: 0.6644 , Test Loss: 9.697851300239563 , Test Accuracy: 0.6733 , Timing: 5.852282524108887\n",
            "[07/20 16:58:18] __main__ INFO: Epoch: 47 , Validation Loss: 234.07812464237213 , Validation Accuracy: 0.6674 , Test Loss: 9.106090128421783 , Test Accuracy: 0.6794 , Timing: 5.760183572769165\n",
            "[07/20 16:58:30] __main__ INFO: Epoch: 48 , Validation Loss: 338.21120381355286 , Validation Accuracy: 0.5362 , Test Loss: 13.783830523490906 , Test Accuracy: 0.5368 , Timing: 5.740068197250366\n",
            "[07/20 16:58:43] __main__ INFO: Epoch: 49 , Validation Loss: 255.1998944580555 , Validation Accuracy: 0.6434 , Test Loss: 9.856104254722595 , Test Accuracy: 0.6616 , Timing: 5.928431272506714\n",
            "[07/20 16:58:56] __main__ INFO: Epoch: 50 , Validation Loss: 244.3530135154724 , Validation Accuracy: 0.6488 , Test Loss: 9.747449219226837 , Test Accuracy: 0.6619 , Timing: 5.823951959609985\n",
            "[07/20 16:59:33] __main__ INFO: Epoch: 51, GLISTER dataloader subset selection finished, takes 37.4383. \n",
            "[07/20 16:59:46] __main__ INFO: Epoch: 51 , Validation Loss: 244.48089253902435 , Validation Accuracy: 0.6388 , Test Loss: 9.598637640476227 , Test Accuracy: 0.6486 , Timing: 43.25725221633911\n",
            "[07/20 16:59:58] __main__ INFO: Epoch: 52 , Validation Loss: 342.18924367427826 , Validation Accuracy: 0.5484 , Test Loss: 13.998164653778076 , Test Accuracy: 0.5616 , Timing: 5.85097599029541\n",
            "[07/20 17:00:11] __main__ INFO: Epoch: 53 , Validation Loss: 306.79351991415024 , Validation Accuracy: 0.5654 , Test Loss: 12.887689709663391 , Test Accuracy: 0.5499 , Timing: 5.7458508014678955\n",
            "[07/20 17:00:23] __main__ INFO: Epoch: 54 , Validation Loss: 264.6820167899132 , Validation Accuracy: 0.627 , Test Loss: 10.899960279464722 , Test Accuracy: 0.6258 , Timing: 5.710411071777344\n",
            "[07/20 17:00:36] __main__ INFO: Epoch: 55 , Validation Loss: 260.6243276000023 , Validation Accuracy: 0.6404 , Test Loss: 10.819746851921082 , Test Accuracy: 0.6348 , Timing: 5.750496864318848\n",
            "[07/20 17:00:48] __main__ INFO: Epoch: 56 , Validation Loss: 258.90150025486946 , Validation Accuracy: 0.6262 , Test Loss: 9.993451237678528 , Test Accuracy: 0.6445 , Timing: 5.733770847320557\n",
            "[07/20 17:01:01] __main__ INFO: Epoch: 57 , Validation Loss: 333.7710291147232 , Validation Accuracy: 0.5774 , Test Loss: 13.230883359909058 , Test Accuracy: 0.5953 , Timing: 5.751965522766113\n",
            "[07/20 17:01:13] __main__ INFO: Epoch: 58 , Validation Loss: 223.10034543275833 , Validation Accuracy: 0.6748 , Test Loss: 9.033195972442627 , Test Accuracy: 0.6741 , Timing: 5.7615087032318115\n",
            "[07/20 17:01:26] __main__ INFO: Epoch: 59 , Validation Loss: 243.6354609131813 , Validation Accuracy: 0.66 , Test Loss: 10.068845689296722 , Test Accuracy: 0.6685 , Timing: 5.806205749511719\n",
            "[07/20 17:01:38] __main__ INFO: Epoch: 60 , Validation Loss: 241.43367144465446 , Validation Accuracy: 0.6632 , Test Loss: 9.609627723693848 , Test Accuracy: 0.6749 , Timing: 5.694794654846191\n",
            "[07/20 17:01:38] __main__ INFO: Model checkpoint saved at epoch: 60\n",
            "[07/20 17:02:15] __main__ INFO: Epoch: 61, GLISTER dataloader subset selection finished, takes 36.4824. \n",
            "[07/20 17:02:27] __main__ INFO: Epoch: 61 , Validation Loss: 205.0639897286892 , Validation Accuracy: 0.713 , Test Loss: 7.929527819156647 , Test Accuracy: 0.7165 , Timing: 42.14812088012695\n",
            "[07/20 17:02:40] __main__ INFO: Epoch: 62 , Validation Loss: 208.60999155044556 , Validation Accuracy: 0.7064 , Test Loss: 8.259461343288422 , Test Accuracy: 0.7175 , Timing: 5.730168342590332\n",
            "[07/20 17:02:52] __main__ INFO: Epoch: 63 , Validation Loss: 209.88715320825577 , Validation Accuracy: 0.6968 , Test Loss: 8.070725917816162 , Test Accuracy: 0.7184 , Timing: 5.684055805206299\n",
            "[07/20 17:03:04] __main__ INFO: Epoch: 64 , Validation Loss: 201.62984386086464 , Validation Accuracy: 0.7234 , Test Loss: 8.126972734928131 , Test Accuracy: 0.729 , Timing: 5.716986417770386\n",
            "[07/20 17:03:17] __main__ INFO: Epoch: 65 , Validation Loss: 206.7053888887167 , Validation Accuracy: 0.709 , Test Loss: 7.935090184211731 , Test Accuracy: 0.7276 , Timing: 5.691742420196533\n",
            "[07/20 17:03:29] __main__ INFO: Epoch: 66 , Validation Loss: 197.21528142690659 , Validation Accuracy: 0.731 , Test Loss: 8.336305677890778 , Test Accuracy: 0.7336 , Timing: 5.643039226531982\n",
            "[07/20 17:03:41] __main__ INFO: Epoch: 67 , Validation Loss: 229.57435162365437 , Validation Accuracy: 0.6806 , Test Loss: 9.59366750717163 , Test Accuracy: 0.6838 , Timing: 5.687079191207886\n",
            "[07/20 17:03:54] __main__ INFO: Epoch: 68 , Validation Loss: 235.06897920370102 , Validation Accuracy: 0.7166 , Test Loss: 10.341820359230042 , Test Accuracy: 0.7081 , Timing: 5.710647344589233\n",
            "[07/20 17:04:06] __main__ INFO: Epoch: 69 , Validation Loss: 196.82094290852547 , Validation Accuracy: 0.733 , Test Loss: 7.89129251241684 , Test Accuracy: 0.7519 , Timing: 5.657517910003662\n",
            "[07/20 17:04:18] __main__ INFO: Epoch: 70 , Validation Loss: 235.00924035906792 , Validation Accuracy: 0.6996 , Test Loss: 9.969445765018463 , Test Accuracy: 0.699 , Timing: 5.680171966552734\n",
            "[07/20 17:04:54] __main__ INFO: Epoch: 71, GLISTER dataloader subset selection finished, takes 36.2008. \n",
            "[07/20 17:05:07] __main__ INFO: Epoch: 71 , Validation Loss: 171.20375372469425 , Validation Accuracy: 0.7578 , Test Loss: 6.943303287029266 , Test Accuracy: 0.7542 , Timing: 41.85497736930847\n",
            "[07/20 17:05:19] __main__ INFO: Epoch: 72 , Validation Loss: 160.10662230849266 , Validation Accuracy: 0.7802 , Test Loss: 6.164314091205597 , Test Accuracy: 0.7795 , Timing: 5.715420484542847\n",
            "[07/20 17:05:32] __main__ INFO: Epoch: 73 , Validation Loss: 150.31862105429173 , Validation Accuracy: 0.7874 , Test Loss: 5.78787499666214 , Test Accuracy: 0.7931 , Timing: 5.6712868213653564\n",
            "[07/20 17:05:44] __main__ INFO: Epoch: 74 , Validation Loss: 165.60311411321163 , Validation Accuracy: 0.7696 , Test Loss: 6.548608422279358 , Test Accuracy: 0.7696 , Timing: 5.658393383026123\n",
            "[07/20 17:05:56] __main__ INFO: Epoch: 75 , Validation Loss: 164.20810418576002 , Validation Accuracy: 0.779 , Test Loss: 6.59379655122757 , Test Accuracy: 0.7823 , Timing: 5.659518241882324\n",
            "[07/20 17:06:09] __main__ INFO: Epoch: 76 , Validation Loss: 174.14139880239964 , Validation Accuracy: 0.7616 , Test Loss: 6.980787754058838 , Test Accuracy: 0.7694 , Timing: 5.705127477645874\n",
            "[07/20 17:06:21] __main__ INFO: Epoch: 77 , Validation Loss: 174.80103304237127 , Validation Accuracy: 0.7814 , Test Loss: 6.796321988105774 , Test Accuracy: 0.787 , Timing: 5.654948711395264\n",
            "[07/20 17:06:33] __main__ INFO: Epoch: 78 , Validation Loss: 175.14276378974319 , Validation Accuracy: 0.7802 , Test Loss: 7.166553854942322 , Test Accuracy: 0.7836 , Timing: 5.6525866985321045\n",
            "[07/20 17:06:45] __main__ INFO: Epoch: 79 , Validation Loss: 198.26055891811848 , Validation Accuracy: 0.769 , Test Loss: 8.363942503929138 , Test Accuracy: 0.7665 , Timing: 5.698338270187378\n",
            "[07/20 17:06:58] __main__ INFO: Epoch: 80 , Validation Loss: 165.25658061355352 , Validation Accuracy: 0.7914 , Test Loss: 6.840053200721741 , Test Accuracy: 0.7924 , Timing: 5.6217041015625\n",
            "[07/20 17:06:58] __main__ INFO: Model checkpoint saved at epoch: 80\n",
            "[07/20 17:07:34] __main__ INFO: Epoch: 81, GLISTER dataloader subset selection finished, takes 36.2929. \n",
            "[07/20 17:07:47] __main__ INFO: Epoch: 81 , Validation Loss: 125.30822451412678 , Validation Accuracy: 0.828 , Test Loss: 4.809252917766571 , Test Accuracy: 0.8303 , Timing: 41.98691987991333\n",
            "[07/20 17:07:47] __main__ INFO: GLISTER Selection Run---------------------------------\n",
            "[07/20 17:07:47] __main__ INFO: Final SubsetTrn: 204.227440\n",
            "[07/20 17:07:47] __main__ INFO: Validation Loss: 125.31 , Validation Accuracy: 0.83\n",
            "[07/20 17:07:47] __main__ INFO: Test Loss: 4.81, Test Accuracy: 0.83\n",
            "[07/20 17:07:47] __main__ INFO: ---------------------------------------------------------------------\n",
            "[07/20 17:07:47] __main__ INFO: GLISTER\n",
            "[07/20 17:07:47] __main__ INFO: ---------------------------------------------------------------------\n",
            "[07/20 17:07:47] __main__ INFO: Validation Accuracy,  , 0.2682 , 0.3108 , 0.3492 , 0.3982 , 0.4334 , 0.4624 , 0.4756 , 0.5148 , 0.5082 , 0.532 , 0.485 , 0.524 , 0.4728 , 0.4922 , 0.562 , 0.577 , 0.537 , 0.5572 , 0.5864 , 0.5478 , 0.6564 , 0.6892 , 0.7036 , 0.709 , 0.72 , 0.749 , 0.7418 , 0.7454 , 0.7516 , 0.7544 , 0.7488 , 0.7682 , 0.7586 , 0.7568 , 0.7516 , 0.725 , 0.727 , 0.701 , 0.6916 , 0.64 , 0.6504 , 0.6396 , 0.6522 , 0.6734 , 0.679 , 0.6644 , 0.6674 , 0.5362 , 0.6434 , 0.6488 , 0.6388 , 0.5484 , 0.5654 , 0.627 , 0.6404 , 0.6262 , 0.5774 , 0.6748 , 0.66 , 0.6632 , 0.713 , 0.7064 , 0.6968 , 0.7234 , 0.709 , 0.731 , 0.6806 , 0.7166 , 0.733 , 0.6996 , 0.7578 , 0.7802 , 0.7874 , 0.7696 , 0.779 , 0.7616 , 0.7814 , 0.7802 , 0.769 , 0.7914 , 0.828\n",
            "[07/20 17:07:47] __main__ INFO: Test Accuracy,  , 0.2696 , 0.3163 , 0.369 , 0.4076 , 0.4542 , 0.4503 , 0.4804 , 0.5242 , 0.5051 , 0.5423 , 0.4867 , 0.5218 , 0.4728 , 0.4912 , 0.5753 , 0.5872 , 0.5457 , 0.5761 , 0.5912 , 0.5443 , 0.6753 , 0.701 , 0.7157 , 0.7075 , 0.7233 , 0.7506 , 0.7427 , 0.7509 , 0.7513 , 0.7572 , 0.7511 , 0.7663 , 0.7671 , 0.7604 , 0.7494 , 0.7384 , 0.7303 , 0.7084 , 0.6861 , 0.6459 , 0.6738 , 0.6525 , 0.6612 , 0.6835 , 0.6833 , 0.6733 , 0.6794 , 0.5368 , 0.6616 , 0.6619 , 0.6486 , 0.5616 , 0.5499 , 0.6258 , 0.6348 , 0.6445 , 0.5953 , 0.6741 , 0.6685 , 0.6749 , 0.7165 , 0.7175 , 0.7184 , 0.729 , 0.7276 , 0.7336 , 0.6838 , 0.7081 , 0.7519 , 0.699 , 0.7542 , 0.7795 , 0.7931 , 0.7696 , 0.7823 , 0.7694 , 0.787 , 0.7836 , 0.7665 , 0.7924 , 0.8303\n",
            "[07/20 17:07:47] __main__ INFO: [6.860982656478882, 5.726125955581665, 5.732034206390381, 5.709014892578125, 5.653627634048462, 5.699569463729858, 5.7155280113220215, 5.6916139125823975, 5.705988883972168, 5.719242811203003, 41.96623373031616, 6.487778425216675, 5.7089760303497314, 5.706249713897705, 5.885740518569946, 5.6921257972717285, 5.679583311080933, 5.680119752883911, 5.6671106815338135, 5.733840703964233, 47.13074088096619, 6.220956563949585, 5.970103740692139, 5.830409526824951, 5.915157794952393, 5.873744249343872, 5.938563346862793, 5.884307146072388, 5.9633629322052, 5.876141786575317, 43.85610294342041, 5.85832142829895, 5.896929740905762, 5.8507068157196045, 5.8594865798950195, 6.0310821533203125, 5.803100824356079, 5.769297361373901, 5.779131174087524, 5.760793685913086, 42.5558226108551, 5.768813610076904, 5.718729019165039, 5.854280710220337, 5.87540078163147, 5.852282524108887, 5.760183572769165, 5.740068197250366, 5.928431272506714, 5.823951959609985, 43.25725221633911, 5.85097599029541, 5.7458508014678955, 5.710411071777344, 5.750496864318848, 5.733770847320557, 5.751965522766113, 5.7615087032318115, 5.806205749511719, 5.694794654846191, 42.14812088012695, 5.730168342590332, 5.684055805206299, 5.716986417770386, 5.691742420196533, 5.643039226531982, 5.687079191207886, 5.710647344589233, 5.657517910003662, 5.680171966552734, 41.85497736930847, 5.715420484542847, 5.6712868213653564, 5.658393383026123, 5.659518241882324, 5.705127477645874, 5.654948711395264, 5.6525866985321045, 5.698338270187378, 5.6217041015625, 41.98691987991333]\n",
            "[07/20 17:07:47] __main__ INFO: Total time taken by GLISTER = 0.2132 \n"
          ]
        }
      ]
    },
    {
      "cell_type": "code",
      "source": [
        "print(f\"Average Time / Epoch: {np.mean(timing)} \\nTotal Epochs: {num_epochs}\")"
      ],
      "metadata": {
        "id": "rEw6yODiL_CJ",
        "colab": {
          "base_uri": "https://localhost:8080/"
        },
        "outputId": "16ee082a-01d5-43bc-931a-34918a8ce2dc"
      },
      "execution_count": 17,
      "outputs": [
        {
          "output_type": "stream",
          "name": "stdout",
          "text": [
            "Average Time / Epoch: 9.477282412258194 \n",
            "Total Epochs: 150\n"
          ]
        }
      ]
    },
    {
      "cell_type": "code",
      "source": [
        "gpu_info = !nvidia-smi\n",
        "gpu_info = '\\n'.join(gpu_info)\n",
        "if gpu_info.find('failed') >= 0:\n",
        "  print('Not connected to a GPU')\n",
        "else:\n",
        "  print(gpu_info)"
      ],
      "metadata": {
        "id": "OiR1Rbi5CgrY",
        "colab": {
          "base_uri": "https://localhost:8080/"
        },
        "outputId": "3c7a0b8e-b2ab-46e8-e604-86589e61dec7"
      },
      "execution_count": 18,
      "outputs": [
        {
          "output_type": "stream",
          "name": "stdout",
          "text": [
            "Wed Jul 20 17:07:47 2022       \n",
            "+-----------------------------------------------------------------------------+\n",
            "| NVIDIA-SMI 460.32.03    Driver Version: 460.32.03    CUDA Version: 11.2     |\n",
            "|-------------------------------+----------------------+----------------------+\n",
            "| GPU  Name        Persistence-M| Bus-Id        Disp.A | Volatile Uncorr. ECC |\n",
            "| Fan  Temp  Perf  Pwr:Usage/Cap|         Memory-Usage | GPU-Util  Compute M. |\n",
            "|                               |                      |               MIG M. |\n",
            "|===============================+======================+======================|\n",
            "|   0  Tesla P100-PCIE...  Off  | 00000000:00:04.0 Off |                    0 |\n",
            "| N/A   64C    P0    48W / 250W |   5165MiB / 16280MiB |     48%      Default |\n",
            "|                               |                      |                  N/A |\n",
            "+-------------------------------+----------------------+----------------------+\n",
            "                                                                               \n",
            "+-----------------------------------------------------------------------------+\n",
            "| Processes:                                                                  |\n",
            "|  GPU   GI   CI        PID   Type   Process name                  GPU Memory |\n",
            "|        ID   ID                                                   Usage      |\n",
            "|=============================================================================|\n",
            "+-----------------------------------------------------------------------------+\n"
          ]
        }
      ]
    },
    {
      "cell_type": "code",
      "source": [
        ""
      ],
      "metadata": {
        "id": "9hnoIcO1L1iy"
      },
      "execution_count": null,
      "outputs": []
    }
  ]
}